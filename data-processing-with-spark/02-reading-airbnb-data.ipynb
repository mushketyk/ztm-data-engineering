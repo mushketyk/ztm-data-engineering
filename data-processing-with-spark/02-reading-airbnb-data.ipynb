{
 "cells": [
  {
   "cell_type": "code",
   "execution_count": null,
   "id": "c219df52-cb8d-4431-831a-3751a69062f2",
   "metadata": {},
   "outputs": [],
   "source": [
    "from pyspark.sql import SparkSession\n",
    "\n",
    "spark = SparkSession.builder \\\n",
    "    .appName(\"Read Inside Airbnb data\") \\\n",
    "    .getOrCreate()"
   ]
  },
  {
   "cell_type": "code",
   "execution_count": null,
   "id": "ec00f92d-c582-4970-9617-ff0a9852cc45",
   "metadata": {},
   "outputs": [],
   "source": [
    "listings = spark.read.csv(\"data/listings.csv.gz\", \n",
    "    header=True,\n",
    "    inferSchema=True,\n",
    "    sep=\",\", \n",
    "    quote='\"',\n",
    "    escape='\"', \n",
    "    multiLine=True,\n",
    "    mode=\"PERMISSIVE\" \n",
    ")"
   ]
  },
  {
   "cell_type": "code",
   "execution_count": null,
   "id": "173f066e-9e4c-40bf-9b30-befcf4b0e4ec",
   "metadata": {},
   "outputs": [],
   "source": [
    "for field in listings.schema:\n",
    "    print(field)"
   ]
  },
  {
   "cell_type": "code",
   "execution_count": null,
   "id": "1bf33965-8cb2-48b6-bea0-d1da7de3382f",
   "metadata": {},
   "outputs": [],
   "source": [
    "neighbourhoods = listings.select(listings.neighbourhood_cleansed)\n",
    "neighbourhoods.show(20)"
   ]
  },
  {
   "cell_type": "code",
   "execution_count": null,
   "id": "d108827d-ad80-43dc-9648-ef8b21c08a49",
   "metadata": {},
   "outputs": [],
   "source": [
    "neighbourhoods = listings.select(listings.neighbourhood_cleansed)\n",
    "neighbourhoods.show(20, truncate=False)"
   ]
  }
 ],
 "metadata": {
  "kernelspec": {
   "display_name": "Python 3 (ipykernel)",
   "language": "python",
   "name": "python3"
  },
  "language_info": {
   "codemirror_mode": {
    "name": "ipython",
    "version": 3
   },
   "file_extension": ".py",
   "mimetype": "text/x-python",
   "name": "python",
   "nbconvert_exporter": "python",
   "pygments_lexer": "ipython3",
   "version": "3.12.7"
  }
 },
 "nbformat": 4,
 "nbformat_minor": 5
}
