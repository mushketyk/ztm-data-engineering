{
 "cells": [
  {
   "cell_type": "code",
   "execution_count": 8,
   "id": "c219df52-cb8d-4431-831a-3751a69062f2",
   "metadata": {},
   "outputs": [],
   "source": [
    "from pyspark.sql import SparkSession\n",
    "\n",
    "spark = SparkSession.builder \\\n",
    "    .appName(\"Read Inside Airbnb data\") \\\n",
    "    .getOrCreate()"
   ]
  },
  {
   "cell_type": "code",
   "execution_count": 9,
   "id": "ec00f92d-c582-4970-9617-ff0a9852cc45",
   "metadata": {},
   "outputs": [
    {
     "name": "stderr",
     "output_type": "stream",
     "text": [
      "                                                                                \r"
     ]
    }
   ],
   "source": [
    "listings = spark.read.csv(\"data/listings.csv.gz\", \n",
    "    header=True,\n",
    "    inferSchema=True,\n",
    "    sep=\",\", \n",
    "    quote='\"',\n",
    "    escape='\"', \n",
    "    multiLine=True,\n",
    "    mode=\"PERMISSIVE\" \n",
    ")"
   ]
  },
  {
   "cell_type": "code",
   "execution_count": 10,
   "id": "173f066e-9e4c-40bf-9b30-befcf4b0e4ec",
   "metadata": {},
   "outputs": [
    {
     "name": "stdout",
     "output_type": "stream",
     "text": [
      "StructField('id', LongType(), True)\n",
      "StructField('listing_url', StringType(), True)\n",
      "StructField('scrape_id', LongType(), True)\n",
      "StructField('last_scraped', DateType(), True)\n",
      "StructField('source', StringType(), True)\n",
      "StructField('name', StringType(), True)\n",
      "StructField('description', StringType(), True)\n",
      "StructField('neighborhood_overview', StringType(), True)\n",
      "StructField('picture_url', StringType(), True)\n",
      "StructField('host_id', IntegerType(), True)\n",
      "StructField('host_url', StringType(), True)\n",
      "StructField('host_name', StringType(), True)\n",
      "StructField('host_since', DateType(), True)\n",
      "StructField('host_location', StringType(), True)\n",
      "StructField('host_about', StringType(), True)\n",
      "StructField('host_response_time', StringType(), True)\n",
      "StructField('host_response_rate', StringType(), True)\n",
      "StructField('host_acceptance_rate', StringType(), True)\n",
      "StructField('host_is_superhost', StringType(), True)\n",
      "StructField('host_thumbnail_url', StringType(), True)\n",
      "StructField('host_picture_url', StringType(), True)\n",
      "StructField('host_neighbourhood', StringType(), True)\n",
      "StructField('host_listings_count', IntegerType(), True)\n",
      "StructField('host_total_listings_count', IntegerType(), True)\n",
      "StructField('host_verifications', StringType(), True)\n",
      "StructField('host_has_profile_pic', StringType(), True)\n",
      "StructField('host_identity_verified', StringType(), True)\n",
      "StructField('neighbourhood', StringType(), True)\n",
      "StructField('neighbourhood_cleansed', StringType(), True)\n",
      "StructField('neighbourhood_group_cleansed', StringType(), True)\n",
      "StructField('latitude', DoubleType(), True)\n",
      "StructField('longitude', DoubleType(), True)\n",
      "StructField('property_type', StringType(), True)\n",
      "StructField('room_type', StringType(), True)\n",
      "StructField('accommodates', IntegerType(), True)\n",
      "StructField('bathrooms', DoubleType(), True)\n",
      "StructField('bathrooms_text', StringType(), True)\n",
      "StructField('bedrooms', IntegerType(), True)\n",
      "StructField('beds', IntegerType(), True)\n",
      "StructField('amenities', StringType(), True)\n",
      "StructField('price', StringType(), True)\n",
      "StructField('minimum_nights', IntegerType(), True)\n",
      "StructField('maximum_nights', IntegerType(), True)\n",
      "StructField('minimum_minimum_nights', IntegerType(), True)\n",
      "StructField('maximum_minimum_nights', IntegerType(), True)\n",
      "StructField('minimum_maximum_nights', IntegerType(), True)\n",
      "StructField('maximum_maximum_nights', IntegerType(), True)\n",
      "StructField('minimum_nights_avg_ntm', DoubleType(), True)\n",
      "StructField('maximum_nights_avg_ntm', DoubleType(), True)\n",
      "StructField('calendar_updated', StringType(), True)\n",
      "StructField('has_availability', StringType(), True)\n",
      "StructField('availability_30', IntegerType(), True)\n",
      "StructField('availability_60', IntegerType(), True)\n",
      "StructField('availability_90', IntegerType(), True)\n",
      "StructField('availability_365', IntegerType(), True)\n",
      "StructField('calendar_last_scraped', DateType(), True)\n",
      "StructField('number_of_reviews', IntegerType(), True)\n",
      "StructField('number_of_reviews_ltm', IntegerType(), True)\n",
      "StructField('number_of_reviews_l30d', IntegerType(), True)\n",
      "StructField('first_review', DateType(), True)\n",
      "StructField('last_review', DateType(), True)\n",
      "StructField('review_scores_rating', DoubleType(), True)\n",
      "StructField('review_scores_accuracy', DoubleType(), True)\n",
      "StructField('review_scores_cleanliness', DoubleType(), True)\n",
      "StructField('review_scores_checkin', DoubleType(), True)\n",
      "StructField('review_scores_communication', DoubleType(), True)\n",
      "StructField('review_scores_location', DoubleType(), True)\n",
      "StructField('review_scores_value', DoubleType(), True)\n",
      "StructField('license', StringType(), True)\n",
      "StructField('instant_bookable', StringType(), True)\n",
      "StructField('calculated_host_listings_count', IntegerType(), True)\n",
      "StructField('calculated_host_listings_count_entire_homes', IntegerType(), True)\n",
      "StructField('calculated_host_listings_count_private_rooms', IntegerType(), True)\n",
      "StructField('calculated_host_listings_count_shared_rooms', IntegerType(), True)\n",
      "StructField('reviews_per_month', DoubleType(), True)\n"
     ]
    }
   ],
   "source": [
    "for field in listings.schema:\n",
    "    print(field)"
   ]
  },
  {
   "cell_type": "code",
   "execution_count": null,
   "id": "1bf33965-8cb2-48b6-bea0-d1da7de3382f",
   "metadata": {},
   "outputs": [],
   "source": [
    "neighbourhoods = listings.select(listings.neighbourhood_cleansed)\n",
    "neighbourhoods.show(20)"
   ]
  },
  {
   "cell_type": "code",
   "execution_count": null,
   "id": "d108827d-ad80-43dc-9648-ef8b21c08a49",
   "metadata": {},
   "outputs": [],
   "source": [
    "neighbourhoods = listings.select(listings.neighbourhood_cleansed)\n",
    "neighbourhoods.show(20, truncate=False)"
   ]
  },
  {
   "cell_type": "code",
   "execution_count": null,
   "id": "a8debced-ca77-42dd-8895-ddc6f9ea1d04",
   "metadata": {},
   "outputs": [],
   "source": []
  },
  {
   "cell_type": "code",
   "execution_count": null,
   "id": "a363beee-9ec4-4c56-bf72-6f2379b32904",
   "metadata": {},
   "outputs": [],
   "source": []
  },
  {
   "cell_type": "code",
   "execution_count": null,
   "id": "2686c317-8726-4276-ae8a-d4ce474cd487",
   "metadata": {},
   "outputs": [],
   "source": []
  }
 ],
 "metadata": {
  "kernelspec": {
   "display_name": "Python 3 (ipykernel)",
   "language": "python",
   "name": "python3"
  },
  "language_info": {
   "codemirror_mode": {
    "name": "ipython",
    "version": 3
   },
   "file_extension": ".py",
   "mimetype": "text/x-python",
   "name": "python",
   "nbconvert_exporter": "python",
   "pygments_lexer": "ipython3",
   "version": "3.12.5"
  }
 },
 "nbformat": 4,
 "nbformat_minor": 5
}
