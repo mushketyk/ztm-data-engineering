{
 "cells": [
  {
   "cell_type": "code",
   "execution_count": null,
   "id": "c219df52-cb8d-4431-831a-3751a69062f2",
   "metadata": {},
   "outputs": [],
   "source": [
    "from pyspark.sql import SparkSession\n",
    "\n",
    "spark = SparkSession.builder \\\n",
    "    .appName(\"Data Aggregation\") \\\n",
    "    .getOrCreate()"
   ]
  },
  {
   "cell_type": "code",
   "execution_count": null,
   "id": "ec00f92d-c582-4970-9617-ff0a9852cc45",
   "metadata": {},
   "outputs": [],
   "source": [
    "listings = spark.read.csv(\"data/listings.csv.gz\", \n",
    "    header=True,\n",
    "    inferSchema=True,\n",
    "    sep=\",\",\n",
    "    quote='\"',\n",
    "    escape='\"',\n",
    "    multiLine=True,\n",
    "    mode=\"PERMISSIVE\"\n",
    ")"
   ]
  },
  {
   "cell_type": "code",
   "execution_count": null,
   "id": "f5893aaf-ca7f-4ebe-b3ae-c2a127a00f46",
   "metadata": {},
   "outputs": [],
   "source": [
    "listings \\\n",
    "  .groupby(listings.property_type) \\\n",
    "  .count() \\\n",
    "  .show(truncate=False)"
   ]
  },
  {
   "cell_type": "code",
   "execution_count": null,
   "id": "608ed71d-7a78-46df-9190-4fb49c6b62ce",
   "metadata": {},
   "outputs": [],
   "source": [
    "import pyspark.sql.functions as F\n",
    "\n",
    "listings \\\n",
    "  .groupby(listings.property_type) \\\n",
    "  .agg(\n",
    "    F.count('property_type').alias('count')\n",
    "  ) \\\n",
    "  .orderBy('count', ascending=[False]) \\\n",
    "  .show(truncate=False)"
   ]
  },
  {
   "cell_type": "code",
   "execution_count": null,
   "id": "7d9abe65-741d-44cc-9e26-294e1e6e392a",
   "metadata": {},
   "outputs": [],
   "source": [
    "\n",
    "listings \\\n",
    "  .groupby(listings.property_type) \\\n",
    "  .agg(\n",
    "    F.count('property_type').alias('count'),\n",
    "    F.avg('review_scores_location')\n",
    "  ) \\\n",
    "  .orderBy('count', ascending=[False]) \\\n",
    "  .show(truncate=False)"
   ]
  },
  {
   "cell_type": "code",
   "execution_count": null,
   "id": "0ecc6319-a9ba-41e4-8553-5b3e2e3b83a7",
   "metadata": {},
   "outputs": [],
   "source": [
    "reviews = spark.read.csv(\"data/reviews.csv.gz\", \n",
    "    header=True,\n",
    "    inferSchema=True,\n",
    "    sep=\",\",\n",
    "    quote='\"',\n",
    "    escape='\"',\n",
    "    multiLine=True,\n",
    "    mode=\"PERMISSIVE\"\n",
    ")"
   ]
  },
  {
   "cell_type": "code",
   "execution_count": null,
   "id": "c358e26f-325a-4898-b837-098530ef9140",
   "metadata": {},
   "outputs": [],
   "source": [
    "listings_reviews = listings.join(\n",
    "    reviews, listings.id == reviews.listing_id, how='inner'\n",
    ")"
   ]
  },
  {
   "cell_type": "code",
   "execution_count": null,
   "id": "18600e74-5cc6-4a90-858b-bd6ddc49b73a",
   "metadata": {},
   "outputs": [],
   "source": [
    "listings_reviews \\\n",
    "  .groupBy('id') \\\n",
    "  .agg(\n",
    "    F.count('id').alias('num_reviews')\n",
    "  ) \\\n",
    "  .show()"
   ]
  },
  {
   "cell_type": "code",
   "execution_count": null,
   "id": "5ae431b3-c1c2-47e8-bae4-fb10f87fb5b3",
   "metadata": {},
   "outputs": [],
   "source": [
    "reviews_per_listing = listings_reviews \\\n",
    "  .groupBy(listings.id, listings.name) \\\n",
    "  .agg(\n",
    "    F.count(reviews.id).alias('num_reviews')\n",
    "  ) \\\n",
    "  .orderBy('num_reviews', ascending=False) \\\n",
    "  .show(truncate=False)"
   ]
  }
 ],
 "metadata": {
  "kernelspec": {
   "display_name": "Python 3 (ipykernel)",
   "language": "python",
   "name": "python3"
  },
  "language_info": {
   "codemirror_mode": {
    "name": "ipython",
    "version": 3
   },
   "file_extension": ".py",
   "mimetype": "text/x-python",
   "name": "python",
   "nbconvert_exporter": "python",
   "pygments_lexer": "ipython3",
   "version": "3.12.5"
  }
 },
 "nbformat": 4,
 "nbformat_minor": 5
}
