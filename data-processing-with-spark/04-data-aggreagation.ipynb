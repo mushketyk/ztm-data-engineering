{
 "cells": [
  {
   "cell_type": "code",
   "execution_count": 2,
   "id": "c219df52-cb8d-4431-831a-3751a69062f2",
   "metadata": {},
   "outputs": [],
   "source": [
    "from pyspark.sql import SparkSession\n",
    "\n",
    "spark = SparkSession.builder \\\n",
    "    .appName(\"Data Aggregation\") \\\n",
    "    .getOrCreate()"
   ]
  },
  {
   "cell_type": "code",
   "execution_count": 3,
   "id": "ec00f92d-c582-4970-9617-ff0a9852cc45",
   "metadata": {},
   "outputs": [
    {
     "name": "stderr",
     "output_type": "stream",
     "text": [
      "                                                                                \r"
     ]
    }
   ],
   "source": [
    "listings = spark.read.csv(\"data/listings.csv.gz\", \n",
    "    header=True,\n",
    "    inferSchema=True,\n",
    "    sep=\",\",\n",
    "    quote='\"',\n",
    "    escape='\"',\n",
    "    multiLine=True,\n",
    "    mode=\"PERMISSIVE\"\n",
    ")"
   ]
  },
  {
   "cell_type": "code",
   "execution_count": 4,
   "id": "f5893aaf-ca7f-4ebe-b3ae-c2a127a00f46",
   "metadata": {},
   "outputs": [
    {
     "name": "stderr",
     "output_type": "stream",
     "text": [
      "                                                                                \r"
     ]
    },
    {
     "name": "stdout",
     "output_type": "stream",
     "text": [
      "+----------------------------------+-----+\n",
      "|property_type                     |count|\n",
      "+----------------------------------+-----+\n",
      "|Private room in lighthouse        |2    |\n",
      "|Private room in loft              |171  |\n",
      "|Private room in earthen home      |3    |\n",
      "|Entire chalet                     |4    |\n",
      "|Earthen home                      |2    |\n",
      "|Shared room in bus                |1    |\n",
      "|Farm stay                         |4    |\n",
      "|Entire rental unit                |39372|\n",
      "|Shared room in hostel             |59   |\n",
      "|Shared room                       |4    |\n",
      "|Private room in condo             |3515 |\n",
      "|Room in boutique hotel            |239  |\n",
      "|Private room in religious building|4    |\n",
      "|Room in bed and breakfast         |24   |\n",
      "|Private room in casa particular   |86   |\n",
      "|Entire guesthouse                 |228  |\n",
      "|Private room in bungalow          |64   |\n",
      "|Entire cabin                      |39   |\n",
      "|Hut                               |2    |\n",
      "|Private room in nature lodge      |2    |\n",
      "+----------------------------------+-----+\n",
      "only showing top 20 rows\n",
      "\n"
     ]
    }
   ],
   "source": [
    "listings \\\n",
    "  .groupby(listings.property_type) \\\n",
    "  .count() \\\n",
    "  .show(truncate=False)"
   ]
  },
  {
   "cell_type": "code",
   "execution_count": 5,
   "id": "608ed71d-7a78-46df-9190-4fb49c6b62ce",
   "metadata": {},
   "outputs": [
    {
     "name": "stderr",
     "output_type": "stream",
     "text": [
      "[Stage 5:>                                                          (0 + 1) / 1]\r"
     ]
    },
    {
     "name": "stdout",
     "output_type": "stream",
     "text": [
      "+----------------------------------+-----+\n",
      "|property_type                     |count|\n",
      "+----------------------------------+-----+\n",
      "|Entire rental unit                |39372|\n",
      "|Private room in rental unit       |14837|\n",
      "|Private room in home              |11835|\n",
      "|Entire condo                      |8800 |\n",
      "|Entire home                       |8756 |\n",
      "|Private room in condo             |3515 |\n",
      "|Entire serviced apartment         |1852 |\n",
      "|Private room in townhouse         |1294 |\n",
      "|Entire townhouse                  |1123 |\n",
      "|Room in hotel                     |783  |\n",
      "|Private room in bed and breakfast |486  |\n",
      "|Entire loft                       |367  |\n",
      "|Private room in guesthouse        |316  |\n",
      "|Room in boutique hotel            |239  |\n",
      "|Entire guesthouse                 |228  |\n",
      "|Shared room in rental unit        |191  |\n",
      "|Entire guest suite                |181  |\n",
      "|Private room in guest suite       |178  |\n",
      "|Private room in loft              |171  |\n",
      "|Private room in serviced apartment|144  |\n",
      "+----------------------------------+-----+\n",
      "only showing top 20 rows\n",
      "\n"
     ]
    },
    {
     "name": "stderr",
     "output_type": "stream",
     "text": [
      "                                                                                \r"
     ]
    }
   ],
   "source": [
    "import pyspark.sql.functions as F\n",
    "\n",
    "listings \\\n",
    "  .groupby(listings.property_type) \\\n",
    "  .agg(\n",
    "    F.count('property_type').alias('count')\n",
    "  ) \\\n",
    "  .orderBy('count', ascending=[False]) \\\n",
    "  .show(truncate=False)"
   ]
  },
  {
   "cell_type": "code",
   "execution_count": 6,
   "id": "7d9abe65-741d-44cc-9e26-294e1e6e392a",
   "metadata": {},
   "outputs": [
    {
     "name": "stderr",
     "output_type": "stream",
     "text": [
      "[Stage 8:>                                                          (0 + 1) / 1]\r"
     ]
    },
    {
     "name": "stdout",
     "output_type": "stream",
     "text": [
      "+----------------------------------+-----+---------------------------+\n",
      "|property_type                     |count|avg(review_scores_location)|\n",
      "+----------------------------------+-----+---------------------------+\n",
      "|Entire rental unit                |39372|4.72794867465818           |\n",
      "|Private room in rental unit       |14837|4.732797964376552          |\n",
      "|Private room in home              |11835|4.6990531037827195         |\n",
      "|Entire condo                      |8800 |4.763906656266228          |\n",
      "|Entire home                       |8756 |4.722269211782102          |\n",
      "|Private room in condo             |3515 |4.7656638325703            |\n",
      "|Entire serviced apartment         |1852 |4.7218975332068345         |\n",
      "|Private room in townhouse         |1294 |4.75918656056587           |\n",
      "|Entire townhouse                  |1123 |4.812793814432991          |\n",
      "|Room in hotel                     |783  |4.649164619164618          |\n",
      "|Private room in bed and breakfast |486  |4.7173976608187145         |\n",
      "|Entire loft                       |367  |4.798854489164088          |\n",
      "|Private room in guesthouse        |316  |4.62233606557377           |\n",
      "|Room in boutique hotel            |239  |4.7095652173913045         |\n",
      "|Entire guesthouse                 |228  |4.703333333333332          |\n",
      "|Shared room in rental unit        |191  |4.690833333333334          |\n",
      "|Entire guest suite                |181  |4.746829268292678          |\n",
      "|Private room in guest suite       |178  |4.782962962962964          |\n",
      "|Private room in loft              |171  |4.7570802919708015         |\n",
      "|Private room in serviced apartment|144  |4.613510638297872          |\n",
      "+----------------------------------+-----+---------------------------+\n",
      "only showing top 20 rows\n",
      "\n"
     ]
    },
    {
     "name": "stderr",
     "output_type": "stream",
     "text": [
      "                                                                                \r"
     ]
    }
   ],
   "source": [
    "\n",
    "listings \\\n",
    "  .groupby(listings.property_type) \\\n",
    "  .agg(\n",
    "    F.count('property_type').alias('count'),\n",
    "    F.avg('review_scores_location')\n",
    "  ) \\\n",
    "  .orderBy('count', ascending=[False]) \\\n",
    "  .show(truncate=False)"
   ]
  },
  {
   "cell_type": "code",
   "execution_count": 7,
   "id": "0ecc6319-a9ba-41e4-8553-5b3e2e3b83a7",
   "metadata": {},
   "outputs": [
    {
     "name": "stderr",
     "output_type": "stream",
     "text": [
      "                                                                                \r"
     ]
    }
   ],
   "source": [
    "reviews = spark.read.csv(\"data/reviews.csv.gz\", \n",
    "    header=True,\n",
    "    inferSchema=True,\n",
    "    sep=\",\",\n",
    "    quote='\"',\n",
    "    escape='\"',\n",
    "    multiLine=True,\n",
    "    mode=\"PERMISSIVE\"\n",
    ")"
   ]
  },
  {
   "cell_type": "code",
   "execution_count": 9,
   "id": "899a7d5b-1678-4924-9402-a98e16cf7010",
   "metadata": {},
   "outputs": [
    {
     "name": "stdout",
     "output_type": "stream",
     "text": [
      "StructField('listing_id', LongType(), True)\n",
      "StructField('id', LongType(), True)\n",
      "StructField('date', DateType(), True)\n",
      "StructField('reviewer_id', IntegerType(), True)\n",
      "StructField('reviewer_name', StringType(), True)\n",
      "StructField('comments', StringType(), True)\n"
     ]
    }
   ],
   "source": [
    "for field in reviews.schema:\n",
    "    print(field)"
   ]
  },
  {
   "cell_type": "code",
   "execution_count": null,
   "id": "c358e26f-325a-4898-b837-098530ef9140",
   "metadata": {},
   "outputs": [],
   "source": [
    "listings_reviews = listings.join(\n",
    "    reviews, listings.id == reviews.listing_id, how='inner'\n",
    ")"
   ]
  },
  {
   "cell_type": "code",
   "execution_count": null,
   "id": "18600e74-5cc6-4a90-858b-bd6ddc49b73a",
   "metadata": {},
   "outputs": [],
   "source": [
    "listings_reviews \\\n",
    "  .groupBy('id') \\\n",
    "  .agg(\n",
    "    F.count('id').alias('num_reviews')\n",
    "  ) \\\n",
    "  .show()"
   ]
  },
  {
   "cell_type": "code",
   "execution_count": null,
   "id": "5ae431b3-c1c2-47e8-bae4-fb10f87fb5b3",
   "metadata": {},
   "outputs": [],
   "source": [
    "reviews_per_listing = listings_reviews \\\n",
    "  .groupBy(listings.id, listings.name) \\\n",
    "  .agg(\n",
    "    F.count(reviews.id).alias('num_reviews')\n",
    "  ) \\\n",
    "  .orderBy('num_reviews', ascending=False) \\\n",
    "  .show(truncate=False)"
   ]
  }
 ],
 "metadata": {
  "kernelspec": {
   "display_name": "Python 3 (ipykernel)",
   "language": "python",
   "name": "python3"
  },
  "language_info": {
   "codemirror_mode": {
    "name": "ipython",
    "version": 3
   },
   "file_extension": ".py",
   "mimetype": "text/x-python",
   "name": "python",
   "nbconvert_exporter": "python",
   "pygments_lexer": "ipython3",
   "version": "3.12.5"
  }
 },
 "nbformat": 4,
 "nbformat_minor": 5
}
