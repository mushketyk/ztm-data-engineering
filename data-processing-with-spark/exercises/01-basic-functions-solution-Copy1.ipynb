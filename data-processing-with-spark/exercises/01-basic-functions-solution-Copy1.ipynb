{
 "cells": [
  {
   "cell_type": "code",
   "execution_count": 1,
   "id": "aab4b687-8702-4a1f-87e9-8960a48c111e",
   "metadata": {},
   "outputs": [
    {
     "name": "stderr",
     "output_type": "stream",
     "text": [
      "24/11/24 22:22:23 WARN SparkSession: Using an existing Spark session; only runtime SQL configurations will take effect.\n"
     ]
    }
   ],
   "source": [
    "from pyspark.sql import SparkSession\n",
    "\n",
    "spark = SparkSession.builder \\\n",
    "    .appName(\"Read Inside Airbnb data\") \\\n",
    "    .getOrCreate()"
   ]
  },
  {
   "cell_type": "code",
   "execution_count": 2,
   "id": "5a20da58-e78b-475d-94d1-872668c2b3c9",
   "metadata": {},
   "outputs": [
    {
     "name": "stderr",
     "output_type": "stream",
     "text": [
      "                                                                                \r"
     ]
    }
   ],
   "source": [
    "listings = spark.read.csv(\"../data/listings.csv.gz\", \n",
    "    header=True,\n",
    "    inferSchema=True,\n",
    "    sep=\",\", \n",
    "    quote='\"',\n",
    "    escape='\"', \n",
    "    multiLine=True,\n",
    "    mode=\"PERMISSIVE\" \n",
    ")"
   ]
  },
  {
   "cell_type": "code",
   "execution_count": 3,
   "id": "d9cd4b39-ec0b-4562-9797-8a041ea3e456",
   "metadata": {},
   "outputs": [
    {
     "name": "stdout",
     "output_type": "stream",
     "text": [
      "root\n",
      " |-- id: long (nullable = true)\n",
      " |-- listing_url: string (nullable = true)\n",
      " |-- scrape_id: long (nullable = true)\n",
      " |-- last_scraped: date (nullable = true)\n",
      " |-- source: string (nullable = true)\n",
      " |-- name: string (nullable = true)\n",
      " |-- description: string (nullable = true)\n",
      " |-- neighborhood_overview: string (nullable = true)\n",
      " |-- picture_url: string (nullable = true)\n",
      " |-- host_id: integer (nullable = true)\n",
      " |-- host_url: string (nullable = true)\n",
      " |-- host_name: string (nullable = true)\n",
      " |-- host_since: date (nullable = true)\n",
      " |-- host_location: string (nullable = true)\n",
      " |-- host_about: string (nullable = true)\n",
      " |-- host_response_time: string (nullable = true)\n",
      " |-- host_response_rate: string (nullable = true)\n",
      " |-- host_acceptance_rate: string (nullable = true)\n",
      " |-- host_is_superhost: string (nullable = true)\n",
      " |-- host_thumbnail_url: string (nullable = true)\n",
      " |-- host_picture_url: string (nullable = true)\n",
      " |-- host_neighbourhood: string (nullable = true)\n",
      " |-- host_listings_count: integer (nullable = true)\n",
      " |-- host_total_listings_count: integer (nullable = true)\n",
      " |-- host_verifications: string (nullable = true)\n",
      " |-- host_has_profile_pic: string (nullable = true)\n",
      " |-- host_identity_verified: string (nullable = true)\n",
      " |-- neighbourhood: string (nullable = true)\n",
      " |-- neighbourhood_cleansed: string (nullable = true)\n",
      " |-- neighbourhood_group_cleansed: string (nullable = true)\n",
      " |-- latitude: double (nullable = true)\n",
      " |-- longitude: double (nullable = true)\n",
      " |-- property_type: string (nullable = true)\n",
      " |-- room_type: string (nullable = true)\n",
      " |-- accommodates: integer (nullable = true)\n",
      " |-- bathrooms: double (nullable = true)\n",
      " |-- bathrooms_text: string (nullable = true)\n",
      " |-- bedrooms: integer (nullable = true)\n",
      " |-- beds: integer (nullable = true)\n",
      " |-- amenities: string (nullable = true)\n",
      " |-- price: string (nullable = true)\n",
      " |-- minimum_nights: integer (nullable = true)\n",
      " |-- maximum_nights: integer (nullable = true)\n",
      " |-- minimum_minimum_nights: integer (nullable = true)\n",
      " |-- maximum_minimum_nights: integer (nullable = true)\n",
      " |-- minimum_maximum_nights: integer (nullable = true)\n",
      " |-- maximum_maximum_nights: integer (nullable = true)\n",
      " |-- minimum_nights_avg_ntm: double (nullable = true)\n",
      " |-- maximum_nights_avg_ntm: double (nullable = true)\n",
      " |-- calendar_updated: string (nullable = true)\n",
      " |-- has_availability: string (nullable = true)\n",
      " |-- availability_30: integer (nullable = true)\n",
      " |-- availability_60: integer (nullable = true)\n",
      " |-- availability_90: integer (nullable = true)\n",
      " |-- availability_365: integer (nullable = true)\n",
      " |-- calendar_last_scraped: date (nullable = true)\n",
      " |-- number_of_reviews: integer (nullable = true)\n",
      " |-- number_of_reviews_ltm: integer (nullable = true)\n",
      " |-- number_of_reviews_l30d: integer (nullable = true)\n",
      " |-- first_review: date (nullable = true)\n",
      " |-- last_review: date (nullable = true)\n",
      " |-- review_scores_rating: double (nullable = true)\n",
      " |-- review_scores_accuracy: double (nullable = true)\n",
      " |-- review_scores_cleanliness: double (nullable = true)\n",
      " |-- review_scores_checkin: double (nullable = true)\n",
      " |-- review_scores_communication: double (nullable = true)\n",
      " |-- review_scores_location: double (nullable = true)\n",
      " |-- review_scores_value: double (nullable = true)\n",
      " |-- license: string (nullable = true)\n",
      " |-- instant_bookable: string (nullable = true)\n",
      " |-- calculated_host_listings_count: integer (nullable = true)\n",
      " |-- calculated_host_listings_count_entire_homes: integer (nullable = true)\n",
      " |-- calculated_host_listings_count_private_rooms: integer (nullable = true)\n",
      " |-- calculated_host_listings_count_shared_rooms: integer (nullable = true)\n",
      " |-- reviews_per_month: double (nullable = true)\n",
      "\n"
     ]
    }
   ],
   "source": [
    "listings.printSchema()"
   ]
  },
  {
   "cell_type": "code",
   "execution_count": 4,
   "id": "85786288-3ac5-4de3-91af-b32b6f27fb8e",
   "metadata": {},
   "outputs": [
    {
     "name": "stdout",
     "output_type": "stream",
     "text": [
      "+------------------------------------------------------------------------------------------------------+\n",
      "|picture_url                                                                                           |\n",
      "+------------------------------------------------------------------------------------------------------+\n",
      "|https://a0.muscache.com/pictures/miso/Hosting-13913/original/d755aa6d-cebb-4464-80be-2722c921e8d5.jpeg|\n",
      "+------------------------------------------------------------------------------------------------------+\n",
      "\n"
     ]
    }
   ],
   "source": [
    "# 1. Get a non-null picture URL for any property (\"picture_url\" field)\n",
    "# Select any non-null picture URL\n",
    "listings.filter(\n",
    "    listings.picture_url.isNotNull()\n",
    ") \\\n",
    ".select('picture_url') \\\n",
    ".limit(1) \\\n",
    ".show(truncate=False)"
   ]
  },
  {
   "cell_type": "code",
   "execution_count": 5,
   "id": "07aac6df-eb62-4813-9727-d6f13b1cf8da",
   "metadata": {},
   "outputs": [
    {
     "name": "stderr",
     "output_type": "stream",
     "text": [
      "                                                                                \r"
     ]
    },
    {
     "data": {
      "text/plain": [
       "66"
      ]
     },
     "execution_count": 5,
     "metadata": {},
     "output_type": "execute_result"
    }
   ],
   "source": [
    "# 2. Get number of properties that get more than 10 reviews per month\n",
    "listings.filter(\n",
    "  listings.reviews_per_month > 10\n",
    ") \\\n",
    ".count()"
   ]
  },
  {
   "cell_type": "code",
   "execution_count": 6,
   "id": "3c810e97-ad51-4233-8e7d-0bd42fe51957",
   "metadata": {},
   "outputs": [
    {
     "name": "stdout",
     "output_type": "stream",
     "text": [
      "+--------------------------------------------------+---------+--------+\n",
      "|name                                              |bathrooms|bedrooms|\n",
      "+--------------------------------------------------+---------+--------+\n",
      "|Battersea live/work artist house, garden & parking|1.5      |1       |\n",
      "|West London-W7, Hanwell(Area Ealing) Room (Female)|1.5      |1       |\n",
      "|West London,loft ensuite, 5min2tube               |1.5      |1       |\n",
      "|Large Bedroom with EnSuite Bathroom               |1.5      |1       |\n",
      "|Cosy Double studio in Zone 2 Hammersmith (1)      |1.5      |1       |\n",
      "|Shoreditch Loft                                   |1.5      |1       |\n",
      "|Five minute walk to South Bank                    |1.5      |1       |\n",
      "|Designer room Park Views 4 mins zone 1 station    |1.5      |1       |\n",
      "|Cosy Double room London, River View               |1.5      |1       |\n",
      "|Maisonette in Central London Zone 1               |1.5      |1       |\n",
      "+--------------------------------------------------+---------+--------+\n",
      "only showing top 10 rows\n",
      "\n"
     ]
    }
   ],
   "source": [
    "# 3. Get a property that has more bathrooms than bedrooms\n",
    "listings.filter(\n",
    "    (listings.bathrooms > listings.bedrooms)\n",
    ") \\\n",
    ".select('name', 'bathrooms', 'bedrooms') \\\n",
    ".show(10, truncate=False)"
   ]
  },
  {
   "cell_type": "code",
   "execution_count": 7,
   "id": "f576362b-4406-4861-93bf-4525895d631a",
   "metadata": {},
   "outputs": [
    {
     "name": "stderr",
     "output_type": "stream",
     "text": [
      "                                                                                \r"
     ]
    },
    {
     "data": {
      "text/plain": [
       "[Row(name='Bright ,Modern, 12m to Bond street.', price='$5,500.00'),\n",
       " Row(name='Room in a cosy flat. Central, clean', price='$8,000.00'),\n",
       " Row(name='3 Bed Flat in South Hampstead with Large Garden!', price='$25,000.00'),\n",
       " Row(name='Spacious Private Ground Floor Room', price='$7,693.00'),\n",
       " Row(name='No Longer Available', price='$53,588.00'),\n",
       " Row(name='Very nice double room in the heart of Soho', price='$5,100.00'),\n",
       " Row(name='Knightsbridge Penthouse', price='$8,895.00'),\n",
       " Row(name='Luxury 5-star Flat with Art & Tech', price='$6,276.00'),\n",
       " Row(name='The Apartments by The Sloane Club, L 2 Bedroom Apt', price='$7,589.00'),\n",
       " Row(name='The Apartments by The Sloane Club, One Bedroom Apt', price='$7,589.00'),\n",
       " Row(name='Great Apartment next to Sloane Square', price='$6,250.00'),\n",
       " Row(name='Lovely Private double room at zone 2 Holloway Road', price='$5,147.00'),\n",
       " Row(name='Kensington- Luxury 2 bedroom ground floor flat', price='$8,000.00'),\n",
       " Row(name='Single room. 7ft x 9ft - Over looking garden', price='$6,000.00'),\n",
       " Row(name='Close To London Eye (HED)', price='$75,000.00'),\n",
       " Row(name='CLOSE TO LONDON EYE (CHECZ)', price='$75,000.00'),\n",
       " Row(name='Stunning  Renovated Townhouse in Pretty Square', price='$60,000.00'),\n",
       " Row(name='Semi-detached mews house in Knightsbridge.', price='$7,000.00'),\n",
       " Row(name='Beautiful 2 BR flat in Kilburn with free parking', price='$6,000.00'),\n",
       " Row(name='Affordable Spacious  Room on the edge of the city', price='$6,000.00'),\n",
       " Row(name='—', price='$20,000.00'),\n",
       " Row(name='Hyde Park Suite', price='$6,545.00'),\n",
       " Row(name='Serpentine Suite', price='$5,645.00'),\n",
       " Row(name='City Suite', price='$6,245.00'),\n",
       " Row(name='Westminster Suite', price='$5,945.00'),\n",
       " Row(name='The Presidential - 6 bed - stunning elegance', price='$6,000.00'),\n",
       " Row(name='Kensington Penthouse', price='$9,395.00'),\n",
       " Row(name='Mayfair Penthouse', price='$8,895.00'),\n",
       " Row(name='Foxter Properties Chelsea', price='$12,000.00'),\n",
       " Row(name='Close To London Eye', price='$8,000.00'),\n",
       " Row(name='1. V02 Large Apartment; next to Piccadilly Circus!', price='$6,400.00'),\n",
       " Row(name='Prestige Paddington 2 Bed', price='$5,720.00'),\n",
       " Row(name='Room In Zone 1 (TOB)', price='$80,000.00'),\n",
       " Row(name='Villa Almas Mayfair.', price='$5,400.00'),\n",
       " Row(name='𝐕𝐢𝐥𝐥𝐚 𝐄𝐦𝐞𝐫𝐚𝐥𝐝 𝐌𝐞𝐰𝐬', price='$5,364.00'),\n",
       " Row(name='Close To London Bridge', price='$80,000.00'),\n",
       " Row(name='CentralLondon Luxury for 5! 1Min from Paddington', price='$9,680.00'),\n",
       " Row(name='Home Guest', price='$6,033.00'),\n",
       " Row(name='20% Off Monthly Business Relocation Stays Belsize', price='$15,000.00'),\n",
       " Row(name='Ultra Luxe 4 Bed flat in Mayfair', price='$6,000.00'),\n",
       " Row(name='Short Walk To London Eye (SUR)', price='$71,000.00'),\n",
       " Row(name='London luxury.', price='$12,000.00'),\n",
       " Row(name='Short Walk to London Eye (HON)', price='$50,000.00'),\n",
       " Row(name='The Artists House', price='$16,564.00'),\n",
       " Row(name='Luxury Grade II Listed Mansion', price='$9,000.00'),\n",
       " Row(name='best place to be to relax', price='$6,248.00'),\n",
       " Row(name='Modern apartment Central London', price='$9,900.00')]"
      ]
     },
     "execution_count": 7,
     "metadata": {},
     "output_type": "execute_result"
    }
   ],
   "source": [
    "# 4. Get 10 properties where the price is greater than 5,000. Collect the result as a Python list\n",
    "from pyspark.sql.functions import regexp_replace\n",
    "\n",
    "listings_with_price = listings \\\n",
    "  .withColumn('price_numeric', regexp_replace('price', '[$,]', '').cast('float'))\n",
    "\n",
    "res = listings_with_price.filter(\n",
    "    (listings_with_price.price_numeric > 5000)\n",
    ") \\\n",
    ".select('name', 'price') \\\n",
    ".collect()\n",
    "\n",
    "res"
   ]
  },
  {
   "cell_type": "code",
   "execution_count": 8,
   "id": "7672f4d2-63cb-4240-80f7-140bc44798fe",
   "metadata": {},
   "outputs": [
    {
     "name": "stdout",
     "output_type": "stream",
     "text": [
      "+--------------------------------------------------+-------------+-----------------+--------------------+\n",
      "|name                                              |price_numeric|number_of_reviews|review_scores_rating|\n",
      "+--------------------------------------------------+-------------+-----------------+--------------------+\n",
      "|Holiday London DB Room Let-on going               |59.0         |44               |4.82                |\n",
      "|Bright Chelsea  Apartment. Chelsea!               |120.0        |96               |4.8                 |\n",
      "|Double Room (Unavailable for check in 31Dec-1Jan) |40.0         |38               |4.89                |\n",
      "|A stylish Victorian home in West London           |131.0        |91               |4.85                |\n",
      "|I Bedroom flat Tower of London                    |145.0        |248              |4.9                 |\n",
      "|You are GUARANTEED to love this                   |82.0         |691              |4.86                |\n",
      "|SPACIOUS ROOM IN CONTEMPORARY STYLE FLAT          |55.0         |55               |4.96                |\n",
      "|West London-W7, Hanwell(Area Ealing) Room (Female)|37.0         |117              |4.79                |\n",
      "|West London,loft ensuite, 5min2tube               |69.0         |187              |4.7                 |\n",
      "|A double Room 5mins from King's College Hospital  |55.0         |99               |4.73                |\n",
      "|Charming Flat in Notting Hill                     |94.0         |247              |4.74                |\n",
      "|Room with a view, shared flat,  central  Bankside |86.0         |128              |4.69                |\n",
      "|You Will Save Money Here                          |65.0         |591              |4.89                |\n",
      "|Quiet Comfortable Room in Fulham                  |60.0         |245              |4.72                |\n",
      "|Beautiful 1 bed apt in Queens Park                |130.0        |134              |4.87                |\n",
      "|Pleasant Single Room in zone 1.                   |59.0         |458              |4.81                |\n",
      "|Large Bedroom with EnSuite Bathroom               |68.0         |298              |4.66                |\n",
      "|Cosy Double studio in Zone 2 Hammersmith (6)      |87.0         |170              |4.69                |\n",
      "|Beautiful Small Studio Hammersmith                |85.0         |201              |4.71                |\n",
      "|Cosy Double studio in Zone 2 Hammersmith (1)      |89.0         |136              |4.71                |\n",
      "+--------------------------------------------------+-------------+-----------------+--------------------+\n",
      "only showing top 20 rows\n",
      "\n"
     ]
    }
   ],
   "source": [
    "# 5. Get a list of properties with the following characteristics:\n",
    "# * price < 150\n",
    "# * more than 20 reviews\n",
    "# * review_scores_rating > 4.5\n",
    "# Consider using the \"&\" operator\n",
    "\n",
    "listings_with_price.filter(\n",
    "    (listings_with_price.price_numeric < 150) &\n",
    "    (listings_with_price.number_of_reviews > 20) &\n",
    "    (listings_with_price.review_scores_rating > 4.5)\n",
    "  ) \\\n",
    ".select('name', 'price_numeric', 'number_of_reviews', 'review_scores_rating') \\\n",
    ".show(truncate=False)"
   ]
  },
  {
   "cell_type": "code",
   "execution_count": 9,
   "id": "2db9de02-0039-4167-a7f5-ef00ecbc19e4",
   "metadata": {},
   "outputs": [
    {
     "name": "stdout",
     "output_type": "stream",
     "text": [
      "+--------------------------------------------------+-------------+--------+\n",
      "|name                                              |price_numeric|bedrooms|\n",
      "+--------------------------------------------------+-------------+--------+\n",
      "|Holiday London DB Room Let-on going               |59.0         |1       |\n",
      "|Bright Chelsea  Apartment. Chelsea!               |120.0        |1       |\n",
      "|Fab 3-Bed/2 Bath & Wifi: Trendy W1                |493.0        |3       |\n",
      "|Beautiful Ensuite Richmond-upon-Thames borough    |140.0        |1       |\n",
      "|Double Room (Unavailable for check in 31Dec-1Jan) |40.0         |1       |\n",
      "|A stylish Victorian home in West London           |131.0        |1       |\n",
      "|Contemporary central London apt                   |215.0        |2       |\n",
      "|I Bedroom flat Tower of London                    |145.0        |1       |\n",
      "|Bright 1 bedroom off brick land                   |109.0        |1       |\n",
      "|Kew Gardens 3BR house in cul-de-sac               |245.0        |3       |\n",
      "|You are GUARANTEED to love this                   |82.0         |1       |\n",
      "|CHARMING FAMILY HOME                              |289.0        |4       |\n",
      "|Room 1 Large Double Bedroom - front ground floor  |55.0         |3       |\n",
      "|SPACIOUS ROOM IN CONTEMPORARY STYLE FLAT          |55.0         |1       |\n",
      "|2 Double bed apartment in quiet area North London |120.0        |2       |\n",
      "|Entire London Town House Next 2 Tube & Wimbledon  |218.0        |2       |\n",
      "|West London-W7, Hanwell(Area Ealing) Room (Female)|37.0         |1       |\n",
      "|Spacious 2-bed Muswell Hill garden apartment      |NULL         |2       |\n",
      "|great location absolutely central                 |NULL         |2       |\n",
      "|West London,loft ensuite, 5min2tube               |69.0         |1       |\n",
      "+--------------------------------------------------+-------------+--------+\n",
      "only showing top 20 rows\n",
      "\n"
     ]
    }
   ],
   "source": [
    "# 6. Get a list of properties with the following characteristics:\n",
    "# * price < 150 OR more than one bathroom\n",
    "# Use the \"|\" operator to implement the OR operator\n",
    "\n",
    "listings_with_price.filter(\n",
    "    (listings_with_price.price_numeric < 150) | (listings_with_price.bedrooms > 1)\n",
    "  ) \\\n",
    ".select('name', 'price_numeric', 'bedrooms') \\\n",
    ".show(truncate=False)"
   ]
  },
  {
   "cell_type": "code",
   "execution_count": 10,
   "id": "4dbc4ba2-53fa-45af-a2fa-c45b13256266",
   "metadata": {},
   "outputs": [
    {
     "name": "stderr",
     "output_type": "stream",
     "text": [
      "[Stage 10:>                                                         (0 + 1) / 1]\r"
     ]
    },
    {
     "name": "stdout",
     "output_type": "stream",
     "text": [
      "+------------------+\n",
      "|max(price_numeric)|\n",
      "+------------------+\n",
      "|           80000.0|\n",
      "+------------------+\n",
      "\n"
     ]
    },
    {
     "name": "stderr",
     "output_type": "stream",
     "text": [
      "                                                                                \r"
     ]
    }
   ],
   "source": [
    "# 7. Get the highest listing price in this dataset\n",
    "# Consider using the \"max\" function from \"pyspark.sql.functions\"\n",
    "\n",
    "from pyspark.sql.functions import max\n",
    "listings_with_price.select(max('price_numeric')).show()\n"
   ]
  },
  {
   "cell_type": "code",
   "execution_count": 19,
   "id": "3375451d-56c4-490a-b66d-8c3529fa718a",
   "metadata": {},
   "outputs": [
    {
     "name": "stderr",
     "output_type": "stream",
     "text": [
      "                                                                                \r"
     ]
    },
    {
     "data": {
      "text/plain": [
       "[Row(max(price_numeric)=80000.0)]"
      ]
     },
     "execution_count": 19,
     "metadata": {},
     "output_type": "execute_result"
    }
   ],
   "source": [
    "# 8. Get the name and a price of property with the highest number of reviews per month\n",
    "# Try to use \"collect\" method to get the price first, and then use it in a \"filter\" call \n",
    "\n",
    "res = listings_with_price.select(max('price_numeric')).collect()\n",
    "res"
   ]
  },
  {
   "cell_type": "code",
   "execution_count": 20,
   "id": "25f96b20-acc3-4aed-bc7e-d7b279363a3c",
   "metadata": {},
   "outputs": [
    {
     "data": {
      "text/plain": [
       "80000.0"
      ]
     },
     "execution_count": 20,
     "metadata": {},
     "output_type": "execute_result"
    }
   ],
   "source": [
    "max_price = res[0][0]\n",
    "max_price"
   ]
  },
  {
   "cell_type": "code",
   "execution_count": 21,
   "id": "34362abc-f428-45cb-92ea-3ca13b513485",
   "metadata": {},
   "outputs": [
    {
     "name": "stderr",
     "output_type": "stream",
     "text": [
      "[Stage 27:>                                                         (0 + 1) / 1]\r"
     ]
    },
    {
     "name": "stdout",
     "output_type": "stream",
     "text": [
      "+--------------------+----------+\n",
      "|                name|     price|\n",
      "+--------------------+----------+\n",
      "|Room In Zone 1 (TOB)|$80,000.00|\n",
      "|Close To London B...|$80,000.00|\n",
      "+--------------------+----------+\n",
      "\n"
     ]
    },
    {
     "name": "stderr",
     "output_type": "stream",
     "text": [
      "                                                                                \r"
     ]
    }
   ],
   "source": [
    "\n",
    "listings_with_price \\\n",
    "  .filter(\n",
    "    listings_with_price.price_numeric == max_price\n",
    "  ) \\\n",
    ".select('name', 'price') \\\n",
    ".show()\n"
   ]
  },
  {
   "cell_type": "code",
   "execution_count": 12,
   "id": "6e883a01-2305-4227-aa32-2b1e2687d928",
   "metadata": {},
   "outputs": [
    {
     "name": "stderr",
     "output_type": "stream",
     "text": [
      "                                                                                \r"
     ]
    },
    {
     "data": {
      "text/plain": [
       "16379"
      ]
     },
     "execution_count": 12,
     "metadata": {},
     "output_type": "execute_result"
    }
   ],
   "source": [
    "# 9. Get the number of hosts in the dataset\n",
    "listings.select('host_name').distinct().count()"
   ]
  },
  {
   "cell_type": "code",
   "execution_count": 16,
   "id": "1e4be0bf-44e6-4dde-8733-7b270a9c0e1e",
   "metadata": {},
   "outputs": [
    {
     "name": "stdout",
     "output_type": "stream",
     "text": [
      "+--------------------------------------------------+------------+------------------+\n",
      "|name                                              |first_review|year(first_review)|\n",
      "+--------------------------------------------------+------------+------------------+\n",
      "|Close to Wimbledon All England Tennis -huge double|2024-08-11  |2024              |\n",
      "|one Double bed room with en-suite facilities      |2024-03-21  |2024              |\n",
      "|Double Room for one -Herne Hill Zone 2/3Thameslink|2024-05-26  |2024              |\n",
      "|Apartment in Southwark - Private living room      |2024-07-09  |2024              |\n",
      "|Sm double room  with own bathroom                 |2024-06-04  |2024              |\n",
      "|Superlux flat in Knightsbridge                    |2024-01-01  |2024              |\n",
      "|Luxurious Flat in South Kensington                |2024-06-19  |2024              |\n",
      "|The Pink House, Notting Hill                      |2024-07-14  |2024              |\n",
      "|Superior Single Room (En-suite)                   |2024-06-21  |2024              |\n",
      "|Charming flat in Tufnell Park                     |2024-04-28  |2024              |\n",
      "+--------------------------------------------------+------------+------------------+\n",
      "only showing top 10 rows\n",
      "\n"
     ]
    }
   ],
   "source": [
    "# 10. Get listings with a first review in 2024\n",
    "# Consider using the \"year\" function from \"pyspark.sql.functions\"\n",
    "\n",
    "from pyspark.sql.functions import year\n",
    "\n",
    "listings.filter(\n",
    "    year(listings.first_review) == 2024\n",
    ") \\\n",
    ".select('name', 'first_review', year(listings.first_review)) \\\n",
    ".show(10, truncate=False)"
   ]
  },
  {
   "cell_type": "code",
   "execution_count": null,
   "id": "7df3dd47-d0bd-4dd3-98d5-fb3533322b4c",
   "metadata": {},
   "outputs": [],
   "source": []
  }
 ],
 "metadata": {
  "kernelspec": {
   "display_name": "Python 3 (ipykernel)",
   "language": "python",
   "name": "python3"
  },
  "language_info": {
   "codemirror_mode": {
    "name": "ipython",
    "version": 3
   },
   "file_extension": ".py",
   "mimetype": "text/x-python",
   "name": "python",
   "nbconvert_exporter": "python",
   "pygments_lexer": "ipython3",
   "version": "3.12.7"
  }
 },
 "nbformat": 4,
 "nbformat_minor": 5
}
