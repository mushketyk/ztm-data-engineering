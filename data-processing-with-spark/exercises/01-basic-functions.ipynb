{
 "cells": [
  {
   "cell_type": "code",
   "execution_count": 2,
   "id": "aab4b687-8702-4a1f-87e9-8960a48c111e",
   "metadata": {},
   "outputs": [
    {
     "name": "stderr",
     "output_type": "stream",
     "text": [
      "24/11/23 22:51:32 WARN SparkSession: Using an existing Spark session; only runtime SQL configurations will take effect.\n"
     ]
    }
   ],
   "source": [
    "from pyspark.sql import SparkSession\n",
    "\n",
    "spark = SparkSession.builder \\\n",
    "    .appName(\"Read Inside Airbnb data\") \\\n",
    "    .getOrCreate()"
   ]
  },
  {
   "cell_type": "code",
   "execution_count": 3,
   "id": "5a20da58-e78b-475d-94d1-872668c2b3c9",
   "metadata": {},
   "outputs": [
    {
     "name": "stderr",
     "output_type": "stream",
     "text": [
      "                                                                                \r"
     ]
    }
   ],
   "source": [
    "listings = spark.read.csv(\"../data/listings.csv.gz\", \n",
    "    header=True,\n",
    "    inferSchema=True,\n",
    "    sep=\",\", \n",
    "    quote='\"',\n",
    "    escape='\"', \n",
    "    multiLine=True,\n",
    "    mode=\"PERMISSIVE\" \n",
    ")"
   ]
  },
  {
   "cell_type": "code",
   "execution_count": 4,
   "id": "d9cd4b39-ec0b-4562-9797-8a041ea3e456",
   "metadata": {},
   "outputs": [
    {
     "name": "stdout",
     "output_type": "stream",
     "text": [
      "root\n",
      " |-- id: long (nullable = true)\n",
      " |-- listing_url: string (nullable = true)\n",
      " |-- scrape_id: long (nullable = true)\n",
      " |-- last_scraped: date (nullable = true)\n",
      " |-- source: string (nullable = true)\n",
      " |-- name: string (nullable = true)\n",
      " |-- description: string (nullable = true)\n",
      " |-- neighborhood_overview: string (nullable = true)\n",
      " |-- picture_url: string (nullable = true)\n",
      " |-- host_id: integer (nullable = true)\n",
      " |-- host_url: string (nullable = true)\n",
      " |-- host_name: string (nullable = true)\n",
      " |-- host_since: date (nullable = true)\n",
      " |-- host_location: string (nullable = true)\n",
      " |-- host_about: string (nullable = true)\n",
      " |-- host_response_time: string (nullable = true)\n",
      " |-- host_response_rate: string (nullable = true)\n",
      " |-- host_acceptance_rate: string (nullable = true)\n",
      " |-- host_is_superhost: string (nullable = true)\n",
      " |-- host_thumbnail_url: string (nullable = true)\n",
      " |-- host_picture_url: string (nullable = true)\n",
      " |-- host_neighbourhood: string (nullable = true)\n",
      " |-- host_listings_count: integer (nullable = true)\n",
      " |-- host_total_listings_count: integer (nullable = true)\n",
      " |-- host_verifications: string (nullable = true)\n",
      " |-- host_has_profile_pic: string (nullable = true)\n",
      " |-- host_identity_verified: string (nullable = true)\n",
      " |-- neighbourhood: string (nullable = true)\n",
      " |-- neighbourhood_cleansed: string (nullable = true)\n",
      " |-- neighbourhood_group_cleansed: string (nullable = true)\n",
      " |-- latitude: double (nullable = true)\n",
      " |-- longitude: double (nullable = true)\n",
      " |-- property_type: string (nullable = true)\n",
      " |-- room_type: string (nullable = true)\n",
      " |-- accommodates: integer (nullable = true)\n",
      " |-- bathrooms: double (nullable = true)\n",
      " |-- bathrooms_text: string (nullable = true)\n",
      " |-- bedrooms: integer (nullable = true)\n",
      " |-- beds: integer (nullable = true)\n",
      " |-- amenities: string (nullable = true)\n",
      " |-- price: string (nullable = true)\n",
      " |-- minimum_nights: integer (nullable = true)\n",
      " |-- maximum_nights: integer (nullable = true)\n",
      " |-- minimum_minimum_nights: integer (nullable = true)\n",
      " |-- maximum_minimum_nights: integer (nullable = true)\n",
      " |-- minimum_maximum_nights: integer (nullable = true)\n",
      " |-- maximum_maximum_nights: integer (nullable = true)\n",
      " |-- minimum_nights_avg_ntm: double (nullable = true)\n",
      " |-- maximum_nights_avg_ntm: double (nullable = true)\n",
      " |-- calendar_updated: string (nullable = true)\n",
      " |-- has_availability: string (nullable = true)\n",
      " |-- availability_30: integer (nullable = true)\n",
      " |-- availability_60: integer (nullable = true)\n",
      " |-- availability_90: integer (nullable = true)\n",
      " |-- availability_365: integer (nullable = true)\n",
      " |-- calendar_last_scraped: date (nullable = true)\n",
      " |-- number_of_reviews: integer (nullable = true)\n",
      " |-- number_of_reviews_ltm: integer (nullable = true)\n",
      " |-- number_of_reviews_l30d: integer (nullable = true)\n",
      " |-- first_review: date (nullable = true)\n",
      " |-- last_review: date (nullable = true)\n",
      " |-- review_scores_rating: double (nullable = true)\n",
      " |-- review_scores_accuracy: double (nullable = true)\n",
      " |-- review_scores_cleanliness: double (nullable = true)\n",
      " |-- review_scores_checkin: double (nullable = true)\n",
      " |-- review_scores_communication: double (nullable = true)\n",
      " |-- review_scores_location: double (nullable = true)\n",
      " |-- review_scores_value: double (nullable = true)\n",
      " |-- license: string (nullable = true)\n",
      " |-- instant_bookable: string (nullable = true)\n",
      " |-- calculated_host_listings_count: integer (nullable = true)\n",
      " |-- calculated_host_listings_count_entire_homes: integer (nullable = true)\n",
      " |-- calculated_host_listings_count_private_rooms: integer (nullable = true)\n",
      " |-- calculated_host_listings_count_shared_rooms: integer (nullable = true)\n",
      " |-- reviews_per_month: double (nullable = true)\n",
      "\n"
     ]
    }
   ],
   "source": [
    "listings.printSchema()"
   ]
  },
  {
   "cell_type": "code",
   "execution_count": 5,
   "id": "85786288-3ac5-4de3-91af-b32b6f27fb8e",
   "metadata": {},
   "outputs": [
    {
     "name": "stdout",
     "output_type": "stream",
     "text": [
      "+------------------------------------------------------------------------------------------------------+\n",
      "|picture_url                                                                                           |\n",
      "+------------------------------------------------------------------------------------------------------+\n",
      "|https://a0.muscache.com/pictures/miso/Hosting-13913/original/d755aa6d-cebb-4464-80be-2722c921e8d5.jpeg|\n",
      "+------------------------------------------------------------------------------------------------------+\n",
      "\n"
     ]
    }
   ],
   "source": [
    "# Get a non-null picture URL for any property (\"picture_url\" field)\n",
    "# Select any non-null picture URL\n",
    "listings.filter(\n",
    "    listings.picture_url.isNotNull()\n",
    ") \\\n",
    ".select('picture_url') \\\n",
    ".limit(1) \\\n",
    ".show(truncate=False)"
   ]
  },
  {
   "cell_type": "code",
   "execution_count": 6,
   "id": "07aac6df-eb62-4813-9727-d6f13b1cf8da",
   "metadata": {},
   "outputs": [
    {
     "name": "stderr",
     "output_type": "stream",
     "text": [
      "                                                                                \r"
     ]
    },
    {
     "data": {
      "text/plain": [
       "66"
      ]
     },
     "execution_count": 6,
     "metadata": {},
     "output_type": "execute_result"
    }
   ],
   "source": [
    "# Get number of properties that get more than 10 reviews per month\n",
    "listings.filter(\n",
    "  listings.reviews_per_month > 10\n",
    ") \\\n",
    ".count()"
   ]
  },
  {
   "cell_type": "code",
   "execution_count": 7,
   "id": "3c810e97-ad51-4233-8e7d-0bd42fe51957",
   "metadata": {},
   "outputs": [
    {
     "name": "stdout",
     "output_type": "stream",
     "text": [
      "+--------------------------------------------------+---------+--------+\n",
      "|name                                              |bathrooms|bedrooms|\n",
      "+--------------------------------------------------+---------+--------+\n",
      "|Battersea live/work artist house, garden & parking|1.5      |1       |\n",
      "|West London-W7, Hanwell(Area Ealing) Room (Female)|1.5      |1       |\n",
      "|West London,loft ensuite, 5min2tube               |1.5      |1       |\n",
      "|Large Bedroom with EnSuite Bathroom               |1.5      |1       |\n",
      "|Cosy Double studio in Zone 2 Hammersmith (1)      |1.5      |1       |\n",
      "|Shoreditch Loft                                   |1.5      |1       |\n",
      "|Five minute walk to South Bank                    |1.5      |1       |\n",
      "|Designer room Park Views 4 mins zone 1 station    |1.5      |1       |\n",
      "|Cosy Double room London, River View               |1.5      |1       |\n",
      "|Maisonette in Central London Zone 1               |1.5      |1       |\n",
      "+--------------------------------------------------+---------+--------+\n",
      "only showing top 10 rows\n",
      "\n"
     ]
    }
   ],
   "source": [
    "# Get a property that has more bathrooms than bedrooms\n",
    "listings.filter(\n",
    "    (listings.bathrooms > listings.bedrooms)\n",
    ") \\\n",
    ".select('name', 'bathrooms', 'bedrooms') \\\n",
    ".show(10, truncate=False)"
   ]
  },
  {
   "cell_type": "code",
   "execution_count": 12,
   "id": "f576362b-4406-4861-93bf-4525895d631a",
   "metadata": {},
   "outputs": [
    {
     "name": "stderr",
     "output_type": "stream",
     "text": [
      "                                                                                \r"
     ]
    },
    {
     "data": {
      "text/plain": [
       "[Row(name='HUGE DOUBLE ROOM WITH MEZZANINE', price='$5,000.00'),\n",
       " Row(name='Bright ,Modern, 12m to Bond street.', price='$5,500.00'),\n",
       " Row(name='Bright airy large Victorian house', price='$5,000.00'),\n",
       " Row(name='Spacious Double Room in E14', price='$4,000.00'),\n",
       " Row(name='Room in a cosy flat. Central, clean', price='$8,000.00'),\n",
       " Row(name='3 Bed Flat in South Hampstead with Large Garden!', price='$25,000.00'),\n",
       " Row(name='Spacious Private Ground Floor Room', price='$7,693.00'),\n",
       " Row(name='No Longer Available', price='$53,588.00'),\n",
       " Row(name='Very nice double room in the heart of Soho', price='$5,100.00'),\n",
       " Row(name='SHORT WALK TO LONDON EYE (SWITZ)', price='$5,000.00'),\n",
       " Row(name='Knightsbridge Penthouse', price='$8,895.00'),\n",
       " Row(name='Double Room with King Size Bed near Tower Bridge', price='$3,670.00'),\n",
       " Row(name='London | Modern flat for travelers and families', price='$3,500.00'),\n",
       " Row(name='Luxury 5-star Flat with Art & Tech', price='$6,276.00'),\n",
       " Row(name='The Loft Queens Park', price='$4,000.00'),\n",
       " Row(name='Friendly and welcoming flat in North London B2', price='$4,000.00'),\n",
       " Row(name='Spare North London room  over summer.', price='$5,000.00'),\n",
       " Row(name='The Apartments by The Sloane Club, L 2 Bedroom Apt', price='$7,589.00'),\n",
       " Row(name='The Apartments by The Sloane Club, One Bedroom Apt', price='$7,589.00'),\n",
       " Row(name='Boswell & Johnson 8room Covent Garden FlowerMarket', price='$5,000.00'),\n",
       " Row(name='Great Apartment next to Sloane Square', price='$6,250.00'),\n",
       " Row(name='Lovely Private double room at zone 2 Holloway Road', price='$5,147.00'),\n",
       " Row(name='Magnificent  House in Knightsbridge', price='$4,600.00'),\n",
       " Row(name='Kensington- Luxury 2 bedroom ground floor flat', price='$8,000.00'),\n",
       " Row(name='Spacious London Flat', price='$5,000.00'),\n",
       " Row(name='Single room. 7ft x 9ft - Over looking garden', price='$6,000.00'),\n",
       " Row(name='Close To London Eye (HED)', price='$75,000.00'),\n",
       " Row(name='Close To London Eye (TUR)', price='$5,000.00'),\n",
       " Row(name='CLOSE TO LONDON EYE (CHECZ)', price='$75,000.00'),\n",
       " Row(name='Stunning  Renovated Townhouse in Pretty Square', price='$60,000.00'),\n",
       " Row(name='Semi-detached mews house in Knightsbridge.', price='$7,000.00'),\n",
       " Row(name='Beautiful 2 BR flat in Kilburn with free parking', price='$6,000.00'),\n",
       " Row(name='Contemporary style moments from Tower Bridge', price='$5,000.00'),\n",
       " Row(name='First Street III by onefinestay', price='$3,036.00'),\n",
       " Row(name='Single room', price='$5,000.00'),\n",
       " Row(name='Affordable Spacious  Room on the edge of the city', price='$6,000.00'),\n",
       " Row(name='Oxford Street Escape', price='$3,738.00'),\n",
       " Row(name='—', price='$20,000.00'),\n",
       " Row(name='Henry’s Townhouse, London', price='$4,208.00'),\n",
       " Row(name='Hyde Park Suite', price='$6,545.00'),\n",
       " Row(name='Serpentine Suite', price='$5,645.00'),\n",
       " Row(name='City Suite', price='$6,245.00'),\n",
       " Row(name='Westminster Suite', price='$5,945.00'),\n",
       " Row(name='Short Walk to London Eye (P1C)', price='$5,000.00'),\n",
       " Row(name='The Presidential - 6 bed - stunning elegance', price='$6,000.00'),\n",
       " Row(name='Kensington Penthouse', price='$9,395.00'),\n",
       " Row(name='Mayfair Penthouse', price='$8,895.00'),\n",
       " Row(name='Riverside Views in Belgravia', price='$3,033.00'),\n",
       " Row(name='Westcott Lodge', price='$4,286.00'),\n",
       " Row(name='Stylish & Spacious 1BD Flat - Maida Vale', price='$5,000.00'),\n",
       " Row(name='Resolve Apartment', price='$4,143.00'),\n",
       " Row(name='Temporary accommodation', price='$5,000.00'),\n",
       " Row(name='Spacious 3BD House with Garden - Hammersmith', price='$5,000.00'),\n",
       " Row(name='Luxury apartment in Mayfair', price='$3,540.00'),\n",
       " Row(name='Modern & Spacious 1BD Flat with Balcony - Finsbury', price='$5,000.00'),\n",
       " Row(name='studio flat in Stratford, London', price='$5,000.00'),\n",
       " Row(name='Luxurious penthouse Acton', price='$5,000.00'),\n",
       " Row(name='Chic & Modern 2BD Maisonette in Homerton!', price='$5,000.00'),\n",
       " Row(name='Modern Townhouse with Cinema Room in London SE1', price='$4,010.00'),\n",
       " Row(name='Portobello Palace', price='$3,985.00'),\n",
       " Row(name='De Parysss', price='$3,489.00'),\n",
       " Row(name='London mansion with pool', price='$3,300.00'),\n",
       " Row(name='Close To Waterloo & London Eye (GRK)', price='$3,457.00'),\n",
       " Row(name='Foxter Properties Chelsea', price='$12,000.00'),\n",
       " Row(name='Tour Central London', price='$4,000.00'),\n",
       " Row(name='Close To London Eye', price='$8,000.00'),\n",
       " Row(name='Bright and Spacious 1 Bedroom Flat in Notting Hill', price='$5,000.00'),\n",
       " Row(name='1. V02 Large Apartment; next to Piccadilly Circus!', price='$6,400.00'),\n",
       " Row(name='Kensington Oasis Central London', price='$5,000.00'),\n",
       " Row(name='Oasis Abode: Ideal Travel Stop', price='$4,000.00'),\n",
       " Row(name='Prestige Paddington 2 Bed', price='$5,720.00'),\n",
       " Row(name='Room In Zone 1 (TOB)', price='$80,000.00'),\n",
       " Row(name='Villa Almas Mayfair.', price='$5,400.00'),\n",
       " Row(name='𝐕𝐢𝐥𝐥𝐚 𝐄𝐦𝐞𝐫𝐚𝐥𝐝 𝐌𝐞𝐰𝐬', price='$5,364.00'),\n",
       " Row(name='6 Bedroom House Near Airport', price='$4,000.00'),\n",
       " Row(name='Close To London Bridge', price='$80,000.00'),\n",
       " Row(name='CentralLondon Luxury for 5! 1Min from Paddington', price='$9,680.00'),\n",
       " Row(name='Home Guest', price='$6,033.00'),\n",
       " Row(name='Classic Contemporary 1BD Flat — Stockwell, London!', price='$5,000.00'),\n",
       " Row(name='Superb and unique Penthouse', price='$3,150.00'),\n",
       " Row(name='Room in Central London (RHI)', price='$5,000.00'),\n",
       " Row(name='Villa Almas Mayfair', price='$4,746.00'),\n",
       " Row(name='Two Bedroom Residence', price='$3,500.00'),\n",
       " Row(name='Montpelier Square Knightsbridge', price='$3,220.00'),\n",
       " Row(name='Channels team testing 1', price='$3,500.00'),\n",
       " Row(name='Five-Bedroom Penthouse', price='$4,800.00'),\n",
       " Row(name='Luxury 6 bedroom 7 bath Hyde Park Princes Gate', price='$4,500.00'),\n",
       " Row(name='The Royal House', price='$5,000.00'),\n",
       " Row(name='20% Off Monthly Business Relocation Stays Belsize', price='$15,000.00'),\n",
       " Row(name='Close To London Eye (FIL)', price='$4,310.00'),\n",
       " Row(name='James and Co Listing 9', price='$3,500.00'),\n",
       " Row(name='Ovington Square', price='$4,400.00'),\n",
       " Row(name='Ultra Luxe 4 Bed flat in Mayfair', price='$6,000.00'),\n",
       " Row(name='Rare Luxury Arlington 4 Bed', price='$3,300.00'),\n",
       " Row(name='Modern 1 bed Flat in Wembley Park 1', price='$5,000.00'),\n",
       " Row(name='Modern 1 bed flat in Wembley Park 2', price='$5,000.00'),\n",
       " Row(name='Short Walk To London Eye (SUR)', price='$71,000.00'),\n",
       " Row(name='Central London (JAM)', price='$5,000.00'),\n",
       " Row(name='London luxury.', price='$12,000.00'),\n",
       " Row(name='Cinema, Sauna, Private Parking', price='$3,176.00'),\n",
       " Row(name='Short Walk to London Eye (HON)', price='$50,000.00'),\n",
       " Row(name='The Artists House', price='$16,564.00'),\n",
       " Row(name='Luxury Grade II Listed Mansion', price='$9,000.00'),\n",
       " Row(name='best place to be to relax', price='$6,248.00'),\n",
       " Row(name='Modern apartment Central London', price='$9,900.00')]"
      ]
     },
     "execution_count": 12,
     "metadata": {},
     "output_type": "execute_result"
    }
   ],
   "source": [
    "# Get 10 properties where the price is greater than 3,000. Collect it as a list\n",
    "from pyspark.sql.functions import regexp_replace\n",
    "\n",
    "listings_with_price = listings \\\n",
    "  .withColumn('price_numeric', regexp_replace('price', '[$,]', '').cast('float'))\n",
    "\n",
    "res = listings_with_price.filter(\n",
    "    (listings_with_price.price_numeric > 3000)\n",
    ") \\\n",
    ".select('name', 'price') \\\n",
    ".collect()\n",
    "\n",
    "res"
   ]
  },
  {
   "cell_type": "code",
   "execution_count": 13,
   "id": "7672f4d2-63cb-4240-80f7-140bc44798fe",
   "metadata": {},
   "outputs": [
    {
     "name": "stdout",
     "output_type": "stream",
     "text": [
      "+--------------------------------------------------+-------------+-----------------+--------------------+\n",
      "|name                                              |price_numeric|number_of_reviews|review_scores_rating|\n",
      "+--------------------------------------------------+-------------+-----------------+--------------------+\n",
      "|Holiday London DB Room Let-on going               |59.0         |44               |4.82                |\n",
      "|Bright Chelsea  Apartment. Chelsea!               |120.0        |96               |4.8                 |\n",
      "|Double Room (Unavailable for check in 31Dec-1Jan) |40.0         |38               |4.89                |\n",
      "|A stylish Victorian home in West London           |131.0        |91               |4.85                |\n",
      "|I Bedroom flat Tower of London                    |145.0        |248              |4.9                 |\n",
      "|You are GUARANTEED to love this                   |82.0         |691              |4.86                |\n",
      "|SPACIOUS ROOM IN CONTEMPORARY STYLE FLAT          |55.0         |55               |4.96                |\n",
      "|West London-W7, Hanwell(Area Ealing) Room (Female)|37.0         |117              |4.79                |\n",
      "|West London,loft ensuite, 5min2tube               |69.0         |187              |4.7                 |\n",
      "|A double Room 5mins from King's College Hospital  |55.0         |99               |4.73                |\n",
      "|Charming Flat in Notting Hill                     |94.0         |247              |4.74                |\n",
      "|Room with a view, shared flat,  central  Bankside |86.0         |128              |4.69                |\n",
      "|You Will Save Money Here                          |65.0         |591              |4.89                |\n",
      "|Quiet Comfortable Room in Fulham                  |60.0         |245              |4.72                |\n",
      "|Beautiful 1 bed apt in Queens Park                |130.0        |134              |4.87                |\n",
      "|Pleasant Single Room in zone 1.                   |59.0         |458              |4.81                |\n",
      "|Large Bedroom with EnSuite Bathroom               |68.0         |298              |4.66                |\n",
      "|Cosy Double studio in Zone 2 Hammersmith (6)      |87.0         |170              |4.69                |\n",
      "|Beautiful Small Studio Hammersmith                |85.0         |201              |4.71                |\n",
      "|Cosy Double studio in Zone 2 Hammersmith (1)      |89.0         |136              |4.71                |\n",
      "+--------------------------------------------------+-------------+-----------------+--------------------+\n",
      "only showing top 20 rows\n",
      "\n"
     ]
    }
   ],
   "source": [
    "# Get a list of properties with the following characteristics:\n",
    "# * price < 150\n",
    "# * more than 20 reviews\n",
    "# * review_scores_rating > 4.5\n",
    "\n",
    "listings_with_price.filter(\n",
    "    (listings_with_price.price_numeric < 150) &\n",
    "    (listings_with_price.number_of_reviews > 20) &\n",
    "    (listings_with_price.review_scores_rating > 4.5)\n",
    "  ) \\\n",
    ".select('name', 'price_numeric', 'number_of_reviews', 'review_scores_rating') \\\n",
    ".show(truncate=False)"
   ]
  },
  {
   "cell_type": "code",
   "execution_count": 16,
   "id": "4dbc4ba2-53fa-45af-a2fa-c45b13256266",
   "metadata": {},
   "outputs": [
    {
     "name": "stderr",
     "output_type": "stream",
     "text": [
      "[Stage 15:>                                                         (0 + 1) / 1]\r"
     ]
    },
    {
     "name": "stdout",
     "output_type": "stream",
     "text": [
      "+------------------+\n",
      "|max(price_numeric)|\n",
      "+------------------+\n",
      "|           80000.0|\n",
      "+------------------+\n",
      "\n"
     ]
    },
    {
     "name": "stderr",
     "output_type": "stream",
     "text": [
      "                                                                                \r"
     ]
    }
   ],
   "source": [
    "from pyspark.sql.functions import max\n",
    "\n",
    "# Get the highest price in the dataset\n",
    "listings_with_price.select(max('price_numeric')).show()\n"
   ]
  },
  {
   "cell_type": "code",
   "execution_count": 22,
   "id": "34362abc-f428-45cb-92ea-3ca13b513485",
   "metadata": {},
   "outputs": [
    {
     "name": "stderr",
     "output_type": "stream",
     "text": [
      "[Stage 30:>                                                         (0 + 1) / 1]\r"
     ]
    },
    {
     "name": "stdout",
     "output_type": "stream",
     "text": [
      "+--------------------+----------+\n",
      "|                name|     price|\n",
      "+--------------------+----------+\n",
      "|Room In Zone 1 (TOB)|$80,000.00|\n",
      "|Close To London B...|$80,000.00|\n",
      "+--------------------+----------+\n",
      "\n"
     ]
    },
    {
     "name": "stderr",
     "output_type": "stream",
     "text": [
      "                                                                                \r"
     ]
    }
   ],
   "source": [
    "# Get the name and a price of property with the highest number of reviews per month\n",
    "from pyspark.sql.functions import length\n",
    "\n",
    "# max_desc_len = listings_with_price.select(max(length('description'))).collect()[0]\n",
    "\n",
    "listings_with_price.filter(listings_with_price.price_numeric == 80000.0).select('name', 'price').show()\n"
   ]
  },
  {
   "cell_type": "code",
   "execution_count": 23,
   "id": "6e883a01-2305-4227-aa32-2b1e2687d928",
   "metadata": {},
   "outputs": [
    {
     "name": "stderr",
     "output_type": "stream",
     "text": [
      "                                                                                \r"
     ]
    },
    {
     "data": {
      "text/plain": [
       "16379"
      ]
     },
     "execution_count": 23,
     "metadata": {},
     "output_type": "execute_result"
    }
   ],
   "source": [
    "# Get the number of hosts in the dataset\n",
    "listings.select('host_name').distinct().count()"
   ]
  },
  {
   "cell_type": "code",
   "execution_count": null,
   "id": "1e4be0bf-44e6-4dde-8733-7b270a9c0e1e",
   "metadata": {},
   "outputs": [],
   "source": []
  }
 ],
 "metadata": {
  "kernelspec": {
   "display_name": "Python 3 (ipykernel)",
   "language": "python",
   "name": "python3"
  },
  "language_info": {
   "codemirror_mode": {
    "name": "ipython",
    "version": 3
   },
   "file_extension": ".py",
   "mimetype": "text/x-python",
   "name": "python",
   "nbconvert_exporter": "python",
   "pygments_lexer": "ipython3",
   "version": "3.12.7"
  }
 },
 "nbformat": 4,
 "nbformat_minor": 5
}
