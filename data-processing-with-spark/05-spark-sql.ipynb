{
 "cells": [
  {
   "cell_type": "code",
   "execution_count": 1,
   "id": "c219df52-cb8d-4431-831a-3751a69062f2",
   "metadata": {},
   "outputs": [
    {
     "name": "stderr",
     "output_type": "stream",
     "text": [
      "24/10/03 21:59:35 WARN SparkSession: Using an existing Spark session; only runtime SQL configurations will take effect.\n"
     ]
    }
   ],
   "source": [
    "from pyspark.sql import SparkSession\n",
    "import pyspark.sql.functions as F\n",
    "\n",
    "# Initialize a Spark session\n",
    "spark = SparkSession.builder \\\n",
    "    .appName(\"Read CSV GZ Example\") \\\n",
    "    .getOrCreate()"
   ]
  },
  {
   "cell_type": "code",
   "execution_count": 2,
   "id": "ec00f92d-c582-4970-9617-ff0a9852cc45",
   "metadata": {},
   "outputs": [
    {
     "name": "stderr",
     "output_type": "stream",
     "text": [
      "                                                                                \r"
     ]
    }
   ],
   "source": [
    "listings = spark.read.csv(\"data/listings.csv.gz\", \n",
    "    header=True,\n",
    "    inferSchema=True,\n",
    "    sep=\",\",\n",
    "    quote='\"',\n",
    "    escape='\"',\n",
    "    multiLine=True,\n",
    "    mode=\"PERMISSIVE\"\n",
    ")"
   ]
  },
  {
   "cell_type": "code",
   "execution_count": 3,
   "id": "0ecc6319-a9ba-41e4-8553-5b3e2e3b83a7",
   "metadata": {},
   "outputs": [
    {
     "name": "stderr",
     "output_type": "stream",
     "text": [
      "                                                                                \r"
     ]
    }
   ],
   "source": [
    "reviews = spark.read.csv(\"data/reviews.csv.gz\", \n",
    "    header=True,\n",
    "    inferSchema=True,\n",
    "    sep=\",\",\n",
    "    quote='\"',\n",
    "    escape='\"',\n",
    "    multiLine=True,\n",
    "    mode=\"PERMISSIVE\"\n",
    ")"
   ]
  },
  {
   "cell_type": "code",
   "execution_count": 4,
   "id": "c358e26f-325a-4898-b837-098530ef9140",
   "metadata": {},
   "outputs": [],
   "source": [
    "listings_reviews = listings.join(\n",
    "    reviews, listings.id == reviews.listing_id, how='inner'\n",
    ")"
   ]
  },
  {
   "cell_type": "code",
   "execution_count": 5,
   "id": "18600e74-5cc6-4a90-858b-bd6ddc49b73a",
   "metadata": {},
   "outputs": [
    {
     "name": "stderr",
     "output_type": "stream",
     "text": [
      "                                                                                \r"
     ]
    },
    {
     "name": "stdout",
     "output_type": "stream",
     "text": [
      "+--------+--------------------------------------------------+-----------+\n",
      "|id      |name                                              |num_reviews|\n",
      "+--------+--------------------------------------------------+-----------+\n",
      "|30760930|Double Garden View room - London House Hotel***   |1682       |\n",
      "|47408549|Double Room+ Ensuite                              |1650       |\n",
      "|43120947|Private double room with en suite facilities      |1553       |\n",
      "|19670926|Designer Studio Apartment in Central London       |1382       |\n",
      "|1436172 |Cosy Double in Kings Cross Houseshare nr Eurostar |1134       |\n",
      "|45006692|Budget Double Room In Colliers Hotel.             |1132       |\n",
      "|2126708 |London's best transport hub 5 mins walk! Safe too!|1071       |\n",
      "|1436177 |En-suite Double in Kings Cross Houseshare Eurostar|943        |\n",
      "|3855375 |Double in Kings Cross Houseshare nr Eurostar      |935        |\n",
      "|2659707 |Large Room + Private Bathroom, E3.                |893        |\n",
      "|42081759|Micro Studio at Locke at Broken Wharf             |880        |\n",
      "|46233904|Superior Studio, avg size 23.5 msq                |879        |\n",
      "|47438714|KX Basic- Small Double- shared bathroom           |877        |\n",
      "|4748665 |Single bedroom near London Stratford              |868        |\n",
      "|14518189|Cellar room with Shared Bathroom & Toilet         |866        |\n",
      "|5266466 |Large London Room, Private Bathroom & Breakfast   |831        |\n",
      "|27833488|S - Heathrow Airport Terminal 2 3 4 5 Hatton Cross|793        |\n",
      "|2025844 |No PARTYING. Family Friendly Central London Flat  |790        |\n",
      "|4332039 |Single bedroom in old East London                 |764        |\n",
      "|5869526 |Beautiful studio loft room ensuite                |749        |\n",
      "+--------+--------------------------------------------------+-----------+\n",
      "only showing top 20 rows\n",
      "\n"
     ]
    }
   ],
   "source": [
    "reviews_per_listing = listings_reviews \\\n",
    "  .groupBy(listings.id, listings.name) \\\n",
    "  .agg(\n",
    "    F.count(reviews.id).alias('num_reviews')\n",
    "  ) \\\n",
    "  .orderBy('num_reviews', ascending=False) \\\n",
    "  .show(truncate=False)"
   ]
  }
 ],
 "metadata": {
  "kernelspec": {
   "display_name": "Python 3 (ipykernel)",
   "language": "python",
   "name": "python3"
  },
  "language_info": {
   "codemirror_mode": {
    "name": "ipython",
    "version": 3
   },
   "file_extension": ".py",
   "mimetype": "text/x-python",
   "name": "python",
   "nbconvert_exporter": "python",
   "pygments_lexer": "ipython3",
   "version": "3.12.5"
  }
 },
 "nbformat": 4,
 "nbformat_minor": 5
}
