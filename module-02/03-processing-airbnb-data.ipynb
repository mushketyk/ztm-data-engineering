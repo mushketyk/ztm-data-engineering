{
 "cells": [
  {
   "cell_type": "code",
   "execution_count": 1,
   "id": "c219df52-cb8d-4431-831a-3751a69062f2",
   "metadata": {},
   "outputs": [
    {
     "name": "stderr",
     "output_type": "stream",
     "text": [
      "24/10/01 22:20:51 WARN SparkSession: Using an existing Spark session; only runtime SQL configurations will take effect.\n"
     ]
    }
   ],
   "source": [
    "from pyspark.sql import SparkSession\n",
    "\n",
    "# Initialize a Spark session\n",
    "spark = SparkSession.builder \\\n",
    "    .appName(\"Read CSV GZ Example\") \\\n",
    "    .getOrCreate()"
   ]
  },
  {
   "cell_type": "code",
   "execution_count": 2,
   "id": "ec00f92d-c582-4970-9617-ff0a9852cc45",
   "metadata": {},
   "outputs": [
    {
     "name": "stderr",
     "output_type": "stream",
     "text": [
      "                                                                                \r"
     ]
    }
   ],
   "source": [
    "listings = spark.read.csv(\"data/listings.csv.gz\", \n",
    "    header=True,\n",
    "    inferSchema=True,\n",
    "    sep=\",\",        # The separator is still a comma\n",
    "    quote='\"',      # Quote character\n",
    "    escape='\"',    # No escape character\n",
    "    multiLine=True, # Allows for multiline records\n",
    "    mode=\"PERMISSIVE\"  # Handle malformed lines permissively\n",
    ")"
   ]
  },
  {
   "cell_type": "code",
   "execution_count": 3,
   "id": "608ed71d-7a78-46df-9190-4fb49c6b62ce",
   "metadata": {},
   "outputs": [
    {
     "name": "stdout",
     "output_type": "stream",
     "text": [
      "+----------------------+\n",
      "|review_scores_location|\n",
      "+----------------------+\n",
      "|                  4.72|\n",
      "|                  4.93|\n",
      "|                  4.89|\n",
      "|                  4.59|\n",
      "|                  4.67|\n",
      "|                  4.66|\n",
      "|                  4.54|\n",
      "|                  4.83|\n",
      "|                  NULL|\n",
      "|                  4.72|\n",
      "|                  4.92|\n",
      "|                  4.88|\n",
      "|                  4.83|\n",
      "|                  4.89|\n",
      "|                  4.77|\n",
      "|                  4.79|\n",
      "|                   5.0|\n",
      "|                  4.76|\n",
      "|                   4.5|\n",
      "|                  4.64|\n",
      "+----------------------+\n",
      "only showing top 20 rows\n",
      "\n"
     ]
    }
   ],
   "source": [
    "review_locations = listings.select(listings.review_scores_location)\n",
    "review_locations.show()"
   ]
  },
  {
   "cell_type": "code",
   "execution_count": 5,
   "id": "5ae431b3-c1c2-47e8-bae4-fb10f87fb5b3",
   "metadata": {},
   "outputs": [
    {
     "name": "stdout",
     "output_type": "stream",
     "text": [
      "+----------------------+\n",
      "|review_scores_location|\n",
      "+----------------------+\n",
      "|                  4.72|\n",
      "|                  4.93|\n",
      "|                  4.89|\n",
      "|                  4.59|\n",
      "|                  4.67|\n",
      "|                  4.66|\n",
      "|                  4.54|\n",
      "|                  4.83|\n",
      "|                  NULL|\n",
      "|                  4.72|\n",
      "|                  4.92|\n",
      "|                  4.88|\n",
      "|                  4.83|\n",
      "|                  4.89|\n",
      "|                  4.77|\n",
      "|                  4.79|\n",
      "|                   5.0|\n",
      "|                  4.76|\n",
      "|                   4.5|\n",
      "|                  4.64|\n",
      "+----------------------+\n",
      "only showing top 20 rows\n",
      "\n"
     ]
    }
   ],
   "source": [
    "listings \\\n",
    "  .select(listings.review_scores_location) \\\n",
    "  .show()"
   ]
  },
  {
   "cell_type": "code",
   "execution_count": 8,
   "id": "7739ebc9-8b6b-428e-af57-7e2616f39b14",
   "metadata": {},
   "outputs": [
    {
     "name": "stdout",
     "output_type": "stream",
     "text": [
      "+------+-------+--------------------------------------------------+----------------------+\n",
      "|id    |price  |name                                              |review_scores_location|\n",
      "+------+-------+--------------------------------------------------+----------------------+\n",
      "|13913 |$59.00 |Holiday London DB Room Let-on going               |4.72                  |\n",
      "|15400 |$120.00|Bright Chelsea  Apartment. Chelsea!               |4.93                  |\n",
      "|17402 |$493.00|Fab 3-Bed/2 Bath & Wifi: Trendy W1                |4.89                  |\n",
      "|24328 |$190.00|Battersea live/work artist house, garden & parking|4.59                  |\n",
      "|33332 |$140.00|Beautiful Ensuite Richmond-upon-Thames borough    |4.67                  |\n",
      "|116268|$40.00 |Double Room (Unavailable for check in 31Dec-1Jan) |4.66                  |\n",
      "|117203|$131.00|A stylish Victorian home in West London           |4.54                  |\n",
      "|127652|$215.00|Contemporary central London apt                   |4.83                  |\n",
      "|131444|$150.00|Apartment close to centre.                        |4.72                  |\n",
      "|137581|$145.00|I Bedroom flat Tower of London                    |4.92                  |\n",
      "|137907|NULL   |Elegant Very Central: Fitzrovia W1. King Bed, Wifi|4.88                  |\n",
      "|36274 |$109.00|Bright 1 bedroom off brick land                   |4.83                  |\n",
      "|36299 |$245.00|Kew Gardens 3BR house in cul-de-sac               |4.89                  |\n",
      "|36660 |$82.00 |You are GUARANTEED to love this                   |4.77                  |\n",
      "|38610 |$289.00|CHARMING FAMILY HOME                              |4.79                  |\n",
      "|38950 |$55.00 |Room 1 Large Double Bedroom - front ground floor  |5.0                   |\n",
      "|38995 |$55.00 |SPACIOUS ROOM IN CONTEMPORARY STYLE FLAT          |4.76                  |\n",
      "|41445 |$120.00|2 Double bed apartment in quiet area North London |4.64                  |\n",
      "|142117|$180.00|Stylish & Bright, 1 Bed, Shoreditch               |4.82                  |\n",
      "|145612|$37.00 |West London-W7, Hanwell(Area Ealing) Room (Female)|4.64                  |\n",
      "+------+-------+--------------------------------------------------+----------------------+\n",
      "only showing top 20 rows\n",
      "\n"
     ]
    }
   ],
   "source": [
    "high_score_listings = listings \\\n",
    "  .filter(listings.review_scores_location > 4.5) \\\n",
    "  .select('id', 'price', 'name', 'review_scores_location')\n",
    "\n",
    "high_score_listings.show(20, truncate=False)\n"
   ]
  },
  {
   "cell_type": "code",
   "execution_count": 10,
   "id": "5306bebf-6f83-430e-affd-6618494210b9",
   "metadata": {},
   "outputs": [
    {
     "name": "stdout",
     "output_type": "stream",
     "text": [
      "+------+-------+--------------------------------------------------+----------------------+\n",
      "|id    |price  |name                                              |review_scores_location|\n",
      "+------+-------+--------------------------------------------------+----------------------+\n",
      "|13913 |$59.00 |Holiday London DB Room Let-on going               |4.72                  |\n",
      "|15400 |$120.00|Bright Chelsea  Apartment. Chelsea!               |4.93                  |\n",
      "|17402 |$493.00|Fab 3-Bed/2 Bath & Wifi: Trendy W1                |4.89                  |\n",
      "|24328 |$190.00|Battersea live/work artist house, garden & parking|4.59                  |\n",
      "|33332 |$140.00|Beautiful Ensuite Richmond-upon-Thames borough    |4.67                  |\n",
      "|116268|$40.00 |Double Room (Unavailable for check in 31Dec-1Jan) |4.66                  |\n",
      "|117203|$131.00|A stylish Victorian home in West London           |4.54                  |\n",
      "|127652|$215.00|Contemporary central London apt                   |4.83                  |\n",
      "|131444|$150.00|Apartment close to centre.                        |4.72                  |\n",
      "|137581|$145.00|I Bedroom flat Tower of London                    |4.92                  |\n",
      "|36274 |$109.00|Bright 1 bedroom off brick land                   |4.83                  |\n",
      "|36299 |$245.00|Kew Gardens 3BR house in cul-de-sac               |4.89                  |\n",
      "|36660 |$82.00 |You are GUARANTEED to love this                   |4.77                  |\n",
      "|38610 |$289.00|CHARMING FAMILY HOME                              |4.79                  |\n",
      "|38950 |$55.00 |Room 1 Large Double Bedroom - front ground floor  |5.0                   |\n",
      "|38995 |$55.00 |SPACIOUS ROOM IN CONTEMPORARY STYLE FLAT          |4.76                  |\n",
      "|41445 |$120.00|2 Double bed apartment in quiet area North London |4.64                  |\n",
      "|142117|$180.00|Stylish & Bright, 1 Bed, Shoreditch               |4.82                  |\n",
      "|145612|$37.00 |West London-W7, Hanwell(Area Ealing) Room (Female)|4.64                  |\n",
      "|157714|$69.00 |West London,loft ensuite, 5min2tube               |4.75                  |\n",
      "+------+-------+--------------------------------------------------+----------------------+\n",
      "only showing top 20 rows\n",
      "\n"
     ]
    }
   ],
   "source": [
    "high_score_listings.dropna().show(20, truncate=False)"
   ]
  },
  {
   "cell_type": "code",
   "execution_count": 15,
   "id": "de1b6945-d850-4640-b985-99c1bd8e228b",
   "metadata": {},
   "outputs": [
    {
     "data": {
      "text/plain": [
       "StructField('price', StringType(), True)"
      ]
     },
     "execution_count": 15,
     "metadata": {},
     "output_type": "execute_result"
    }
   ],
   "source": [
    "high_score_listings.schema['price']"
   ]
  },
  {
   "cell_type": "code",
   "execution_count": 16,
   "id": "d42041b9-e078-430a-ab27-7ba97ebb8d75",
   "metadata": {},
   "outputs": [
    {
     "data": {
      "text/plain": [
       "StructField('price_num', FloatType(), True)"
      ]
     },
     "execution_count": 16,
     "metadata": {},
     "output_type": "execute_result"
    }
   ],
   "source": [
    "from pyspark.sql.functions import regexp_replace\n",
    "\n",
    "price_num_df = listings \\\n",
    "  .withColumn('price_num', regexp_replace('price', '[$,]', '').cast('float')) \\\n",
    "\n",
    "price_num_df.schema['price_num']"
   ]
  },
  {
   "cell_type": "code",
   "execution_count": 18,
   "id": "2611fddb-c125-4c8b-9cbc-387ed12529e0",
   "metadata": {},
   "outputs": [
    {
     "name": "stdout",
     "output_type": "stream",
     "text": [
      "+---------+--------------------------------------------------+\n",
      "|price_num|name                                              |\n",
      "+---------+--------------------------------------------------+\n",
      "|59.0     |Holiday London DB Room Let-on going               |\n",
      "|120.0    |Bright Chelsea  Apartment. Chelsea!               |\n",
      "|493.0    |Fab 3-Bed/2 Bath & Wifi: Trendy W1                |\n",
      "|190.0    |Battersea live/work artist house, garden & parking|\n",
      "|140.0    |Beautiful Ensuite Richmond-upon-Thames borough    |\n",
      "|40.0     |Double Room (Unavailable for check in 31Dec-1Jan) |\n",
      "|131.0    |A stylish Victorian home in West London           |\n",
      "|215.0    |Contemporary central London apt                   |\n",
      "|NULL     |Double bedroom in cottage Twickenham (sleeps 1-2) |\n",
      "|150.0    |Apartment close to centre.                        |\n",
      "|145.0    |I Bedroom flat Tower of London                    |\n",
      "|NULL     |Elegant Very Central: Fitzrovia W1. King Bed, Wifi|\n",
      "|109.0    |Bright 1 bedroom off brick land                   |\n",
      "|245.0    |Kew Gardens 3BR house in cul-de-sac               |\n",
      "|82.0     |You are GUARANTEED to love this                   |\n",
      "|289.0    |CHARMING FAMILY HOME                              |\n",
      "|55.0     |Room 1 Large Double Bedroom - front ground floor  |\n",
      "|55.0     |SPACIOUS ROOM IN CONTEMPORARY STYLE FLAT          |\n",
      "|NULL     |Stylish bedsit in Notting Hill ish flat.          |\n",
      "|120.0    |2 Double bed apartment in quiet area North London |\n",
      "+---------+--------------------------------------------------+\n",
      "only showing top 20 rows\n",
      "\n"
     ]
    }
   ],
   "source": [
    "price_num_df \\\n",
    "  .select('price_num', 'name') \\\n",
    "  .show(20, truncate=False)"
   ]
  },
  {
   "cell_type": "code",
   "execution_count": 23,
   "id": "f3f00f4c-e0ce-4d06-b5fe-0b2cd8539f46",
   "metadata": {},
   "outputs": [
    {
     "name": "stdout",
     "output_type": "stream",
     "text": [
      "+--------------------------------------------------+------+----------------------+\n",
      "|name                                              |price |review_scores_location|\n",
      "+--------------------------------------------------+------+----------------------+\n",
      "|Holiday London DB Room Let-on going               |$59.00|4.72                  |\n",
      "|Double Room (Unavailable for check in 31Dec-1Jan) |$40.00|4.66                  |\n",
      "|You are GUARANTEED to love this                   |$82.00|4.77                  |\n",
      "|Room 1 Large Double Bedroom - front ground floor  |$55.00|5.0                   |\n",
      "|SPACIOUS ROOM IN CONTEMPORARY STYLE FLAT          |$55.00|4.76                  |\n",
      "|West London-W7, Hanwell(Area Ealing) Room (Female)|$37.00|4.64                  |\n",
      "|West London,loft ensuite, 5min2tube               |$69.00|4.75                  |\n",
      "|Charming Flat in Notting Hill                     |$94.00|4.87                  |\n",
      "|Room with a view, shared flat,  central  Bankside |$86.00|4.86                  |\n",
      "|You Will Save Money Here                          |$65.00|4.74                  |\n",
      "|Quiet Comfortable Room in Fulham                  |$60.00|4.64                  |\n",
      "|Room with a garden                                |$45.00|5.0                   |\n",
      "|Pleasant Single Room in zone 1.                   |$59.00|4.76                  |\n",
      "|Large Bedroom with EnSuite Bathroom               |$68.00|4.88                  |\n",
      "|Cosy Double studio in Zone 2 Hammersmith (6)      |$87.00|4.9                   |\n",
      "|Beautiful Small Studio Hammersmith                |$85.00|4.84                  |\n",
      "|Close to Wimbledon All England Tennis -huge double|$85.00|5.0                   |\n",
      "|Cosy Double studio in Zone 2 Hammersmith (1)      |$89.00|4.92                  |\n",
      "|Cosy Double studio in Zone 2 Hammersmith (4)      |$89.00|4.91                  |\n",
      "|Cosy Double studio in Zone 2 Hammersmith (3)      |$82.00|4.92                  |\n",
      "+--------------------------------------------------+------+----------------------+\n",
      "only showing top 20 rows\n",
      "\n"
     ]
    }
   ],
   "source": [
    "price_num_df.filter( (price_num_df.price_num < 100) & (price_num_df.review_scores_location > 4.5)) \\\n",
    "  .select('name', 'price', 'review_scores_location') \\\n",
    "  .show(truncate=False)"
   ]
  },
  {
   "cell_type": "code",
   "execution_count": 25,
   "id": "ca2e5d7c-ee58-4b09-8eda-cb7b5d1ab898",
   "metadata": {},
   "outputs": [
    {
     "name": "stdout",
     "output_type": "stream",
     "text": [
      "+--------------------------------------------------+------+----------------------+\n",
      "|name                                              |price |review_scores_location|\n",
      "+--------------------------------------------------+------+----------------------+\n",
      "|Holiday London DB Room Let-on going               |$59.00|4.72                  |\n",
      "|Double Room (Unavailable for check in 31Dec-1Jan) |$40.00|4.66                  |\n",
      "|You are GUARANTEED to love this                   |$82.00|4.77                  |\n",
      "|Room 1 Large Double Bedroom - front ground floor  |$55.00|5.0                   |\n",
      "|SPACIOUS ROOM IN CONTEMPORARY STYLE FLAT          |$55.00|4.76                  |\n",
      "|West London-W7, Hanwell(Area Ealing) Room (Female)|$37.00|4.64                  |\n",
      "|West London,loft ensuite, 5min2tube               |$69.00|4.75                  |\n",
      "|Charming Flat in Notting Hill                     |$94.00|4.87                  |\n",
      "|Room with a view, shared flat,  central  Bankside |$86.00|4.86                  |\n",
      "|You Will Save Money Here                          |$65.00|4.74                  |\n",
      "|Quiet Comfortable Room in Fulham                  |$60.00|4.64                  |\n",
      "|Room with a garden                                |$45.00|5.0                   |\n",
      "|Pleasant Single Room in zone 1.                   |$59.00|4.76                  |\n",
      "|Large Bedroom with EnSuite Bathroom               |$68.00|4.88                  |\n",
      "|Cosy Double studio in Zone 2 Hammersmith (6)      |$87.00|4.9                   |\n",
      "|Beautiful Small Studio Hammersmith                |$85.00|4.84                  |\n",
      "|Close to Wimbledon All England Tennis -huge double|$85.00|5.0                   |\n",
      "|Cosy Double studio in Zone 2 Hammersmith (1)      |$89.00|4.92                  |\n",
      "|Cosy Double studio in Zone 2 Hammersmith (4)      |$89.00|4.91                  |\n",
      "|Cosy Double studio in Zone 2 Hammersmith (3)      |$82.00|4.92                  |\n",
      "+--------------------------------------------------+------+----------------------+\n",
      "only showing top 20 rows\n",
      "\n"
     ]
    }
   ],
   "source": [
    "price_num_df.filter('price_num < 100 AND review_scores_location > 4.5') \\\n",
    "  .select('name', 'price', 'review_scores_location') \\\n",
    "  .show(truncate=False)"
   ]
  },
  {
   "cell_type": "code",
   "execution_count": 30,
   "id": "cfb893b6-003b-40ec-82d3-b5bba6de90c0",
   "metadata": {},
   "outputs": [
    {
     "name": "stderr",
     "output_type": "stream",
     "text": [
      "[Stage 20:>                                                         (0 + 1) / 1]\r"
     ]
    },
    {
     "name": "stdout",
     "output_type": "stream",
     "text": [
      "+----------------------------------+\n",
      "|property_type                     |\n",
      "+----------------------------------+\n",
      "|Private room in lighthouse        |\n",
      "|Private room in loft              |\n",
      "|Private room in earthen home      |\n",
      "|Entire chalet                     |\n",
      "|Earthen home                      |\n",
      "|Shared room in bus                |\n",
      "|Farm stay                         |\n",
      "|Entire rental unit                |\n",
      "|Shared room in hostel             |\n",
      "|Shared room                       |\n",
      "|Private room in condo             |\n",
      "|Room in boutique hotel            |\n",
      "|Private room in religious building|\n",
      "|Room in bed and breakfast         |\n",
      "|Private room in casa particular   |\n",
      "|Entire guesthouse                 |\n",
      "|Private room in bungalow          |\n",
      "|Entire cabin                      |\n",
      "|Hut                               |\n",
      "|Private room in nature lodge      |\n",
      "+----------------------------------+\n",
      "only showing top 20 rows\n",
      "\n"
     ]
    },
    {
     "name": "stderr",
     "output_type": "stream",
     "text": [
      "                                                                                \r"
     ]
    }
   ],
   "source": [
    "listings \\\n",
    "  .select(listings.property_type) \\\n",
    "  .distinct() \\\n",
    "  .show(truncate=False)"
   ]
  },
  {
   "cell_type": "code",
   "execution_count": 31,
   "id": "67666c54-ea5f-4589-ad3a-5ca82434d1e8",
   "metadata": {},
   "outputs": [
    {
     "name": "stderr",
     "output_type": "stream",
     "text": [
      "[Stage 23:>                                                         (0 + 1) / 1]\r"
     ]
    },
    {
     "name": "stdout",
     "output_type": "stream",
     "text": [
      "+----------------------------------+---------------+\n",
      "|property_type                     |room_type      |\n",
      "+----------------------------------+---------------+\n",
      "|Private room in casa particular   |Private room   |\n",
      "|Room in hostel                    |Hotel room     |\n",
      "|Dome                              |Entire home/apt|\n",
      "|Entire serviced apartment         |Entire home/apt|\n",
      "|Private room in loft              |Private room   |\n",
      "|Shipping container                |Entire home/apt|\n",
      "|Private room in villa             |Private room   |\n",
      "|Farm stay                         |Entire home/apt|\n",
      "|Room in hotel                     |Hotel room     |\n",
      "|Shared room in rental unit        |Shared room    |\n",
      "|Private room in guest suite       |Private room   |\n",
      "|Room in rental unit               |Hotel room     |\n",
      "|Room in serviced apartment        |Hotel room     |\n",
      "|Private room in serviced apartment|Private room   |\n",
      "|Private room in hostel            |Private room   |\n",
      "|Shared room                       |Shared room    |\n",
      "|Private room in yurt              |Private room   |\n",
      "|Room in boutique hotel            |Private room   |\n",
      "|Private room in shepherd's hut    |Private room   |\n",
      "|Entire rental unit                |Entire home/apt|\n",
      "+----------------------------------+---------------+\n",
      "only showing top 20 rows\n",
      "\n"
     ]
    },
    {
     "name": "stderr",
     "output_type": "stream",
     "text": [
      "                                                                                \r"
     ]
    }
   ],
   "source": [
    "listings \\\n",
    "  .select(listings.property_type, listings.room_type) \\\n",
    "  .distinct() \\\n",
    "  .show(truncate=False)"
   ]
  },
  {
   "cell_type": "code",
   "execution_count": 34,
   "id": "2686c317-8726-4276-ae8a-d4ce474cd487",
   "metadata": {},
   "outputs": [
    {
     "name": "stderr",
     "output_type": "stream",
     "text": [
      "                                                                                \r"
     ]
    }
   ],
   "source": [
    "listings \\\n",
    "  .select(listings.property_type) \\\n",
    "  .distinct() \\\n",
    "  .write \\\n",
    "  .csv('data/property_types')"
   ]
  },
  {
   "cell_type": "code",
   "execution_count": null,
   "id": "6aeb76ea-d562-4b29-948b-bb526066da02",
   "metadata": {},
   "outputs": [],
   "source": []
  }
 ],
 "metadata": {
  "kernelspec": {
   "display_name": "Python 3 (ipykernel)",
   "language": "python",
   "name": "python3"
  },
  "language_info": {
   "codemirror_mode": {
    "name": "ipython",
    "version": 3
   },
   "file_extension": ".py",
   "mimetype": "text/x-python",
   "name": "python",
   "nbconvert_exporter": "python",
   "pygments_lexer": "ipython3",
   "version": "3.12.5"
  }
 },
 "nbformat": 4,
 "nbformat_minor": 5
}
