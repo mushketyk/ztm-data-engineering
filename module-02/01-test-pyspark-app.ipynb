{
 "cells": [
  {
   "cell_type": "code",
   "execution_count": 1,
   "id": "c219df52-cb8d-4431-831a-3751a69062f2",
   "metadata": {},
   "outputs": [
    {
     "name": "stderr",
     "output_type": "stream",
     "text": [
      "24/09/30 23:31:15 WARN SparkSession: Using an existing Spark session; only runtime SQL configurations will take effect.\n"
     ]
    }
   ],
   "source": [
    "from pyspark.sql import SparkSession\n",
    "\n",
    "spark = SparkSession.builder \\\n",
    "    .appName(\"First Spark application\") \\\n",
    "    .getOrCreate()"
   ]
  },
  {
   "cell_type": "code",
   "execution_count": 5,
   "id": "ec00f92d-c582-4970-9617-ff0a9852cc45",
   "metadata": {},
   "outputs": [],
   "source": [
    "data = [\n",
    "    {\"userId\": 1, \"paymentAmount\": 100.0, \"date\": \"2023-01-01\"},\n",
    "    {\"userId\": 2, \"paymentAmount\": 150.5, \"date\": \"2023-01-02\"},\n",
    "    {\"userId\": 3, \"paymentAmount\": 200.75, \"date\": \"2023-01-03\"},\n",
    "    {\"userId\": 2, \"paymentAmount\": 50.25, \"date\": \"2023-01-04\"},\n",
    "    {\"userId\": 1, \"paymentAmount\": 80.0, \"date\": \"2023-01-05\"}\n",
    "]\n",
    "\n",
    "df = spark.createDataFrame(data)\n"
   ]
  },
  {
   "cell_type": "code",
   "execution_count": 6,
   "id": "070d0281-927f-430c-a522-14e93ae1d399",
   "metadata": {},
   "outputs": [
    {
     "name": "stdout",
     "output_type": "stream",
     "text": [
      "+----------+-------------+------+\n",
      "|      date|paymentAmount|userId|\n",
      "+----------+-------------+------+\n",
      "|2023-01-01|        100.0|     1|\n",
      "|2023-01-02|        150.5|     2|\n",
      "|2023-01-03|       200.75|     3|\n",
      "|2023-01-04|        50.25|     2|\n",
      "|2023-01-05|         80.0|     1|\n",
      "+----------+-------------+------+\n",
      "\n"
     ]
    }
   ],
   "source": [
    "df.show()"
   ]
  },
  {
   "cell_type": "code",
   "execution_count": 7,
   "id": "5ed8ce14-7f1e-4a27-a5f8-e0f8f2aba424",
   "metadata": {},
   "outputs": [
    {
     "data": {
      "text/plain": [
       "5"
      ]
     },
     "execution_count": 7,
     "metadata": {},
     "output_type": "execute_result"
    }
   ],
   "source": [
    "df.count()"
   ]
  },
  {
   "cell_type": "code",
   "execution_count": 9,
   "id": "3acb5930-966d-4c86-96b1-0d36e52c499c",
   "metadata": {},
   "outputs": [
    {
     "name": "stdout",
     "output_type": "stream",
     "text": [
      "+------+------+----------+\n",
      "|userId|amount|      date|\n",
      "+------+------+----------+\n",
      "|     1| 100.0|2023-01-01|\n",
      "|     2| 150.5|2023-01-02|\n",
      "|     3|200.75|2023-01-03|\n",
      "+------+------+----------+\n",
      "only showing top 3 rows\n",
      "\n"
     ]
    }
   ],
   "source": [
    "data = data_values = [\n",
    "    (1, 100.0, \"2023-01-01\"),\n",
    "    (2, 150.5, \"2023-01-02\"),\n",
    "    (3, 200.75, \"2023-01-03\"),\n",
    "    (2, 50.25, \"2023-01-04\"),\n",
    "    (1, 80.0, \"2023-01-05\")\n",
    "]\n",
    "\n",
    "df = spark.createDataFrame(data, [\"userId\", \"amount\", \"date\"])\n",
    "df.show(3)"
   ]
  },
  {
   "cell_type": "code",
   "execution_count": null,
   "id": "888929b6-e789-456d-a638-a93c88d85814",
   "metadata": {},
   "outputs": [],
   "source": []
  }
 ],
 "metadata": {
  "kernelspec": {
   "display_name": "Python 3 (ipykernel)",
   "language": "python",
   "name": "python3"
  },
  "language_info": {
   "codemirror_mode": {
    "name": "ipython",
    "version": 3
   },
   "file_extension": ".py",
   "mimetype": "text/x-python",
   "name": "python",
   "nbconvert_exporter": "python",
   "pygments_lexer": "ipython3",
   "version": "3.12.5"
  }
 },
 "nbformat": 4,
 "nbformat_minor": 5
}
