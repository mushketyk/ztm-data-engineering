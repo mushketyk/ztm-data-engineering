{
 "cells": [
  {
   "cell_type": "code",
   "execution_count": null,
   "id": "c219df52-cb8d-4431-831a-3751a69062f2",
   "metadata": {},
   "outputs": [],
   "source": [
    "from pyspark.sql import SparkSession\n",
    "\n",
    "# Initialize a Spark session\n",
    "spark = SparkSession.builder \\\n",
    "    .appName(\"Read CSV GZ Example\") \\\n",
    "    .getOrCreate()"
   ]
  },
  {
   "cell_type": "code",
   "execution_count": null,
   "id": "01e25f9a-2d0a-4b7d-a0a2-68f84eaf7be8",
   "metadata": {},
   "outputs": [],
   "source": []
  },
  {
   "cell_type": "code",
   "execution_count": null,
   "id": "ec00f92d-c582-4970-9617-ff0a9852cc45",
   "metadata": {},
   "outputs": [],
   "source": [
    "listings = spark.read.csv(\"data/listings.csv.gz\", \n",
    "    header=True,\n",
    "    inferSchema=True,\n",
    "    sep=\",\",        # The separator is still a comma\n",
    "    quote='\"',      # Quote character\n",
    "    escape='\"',    # No escape character\n",
    "    multiLine=True, # Allows for multiline records\n",
    "    mode=\"PERMISSIVE\"  # Handle malformed lines permissively\n",
    ")"
   ]
  },
  {
   "cell_type": "code",
   "execution_count": null,
   "id": "173f066e-9e4c-40bf-9b30-befcf4b0e4ec",
   "metadata": {},
   "outputs": [],
   "source": [
    "listings.schema"
   ]
  },
  {
   "cell_type": "code",
   "execution_count": null,
   "id": "070d0281-927f-430c-a522-14e93ae1d399",
   "metadata": {},
   "outputs": [],
   "source": [
    "import json\n",
    "# Convert the schema to JSON format\n",
    "schema_json = listings.schema.json()\n",
    "\n",
    "# Pretty print the JSON schema\n",
    "print(json.dumps(json.loads(schema_json), indent=2))"
   ]
  },
  {
   "cell_type": "code",
   "execution_count": null,
   "id": "1bf33965-8cb2-48b6-bea0-d1da7de3382f",
   "metadata": {},
   "outputs": [],
   "source": [
    "neighbourhoods = listings.select(listings.neighbourhood_cleansed)\n",
    "neighbourhoods.show(20)"
   ]
  },
  {
   "cell_type": "code",
   "execution_count": null,
   "id": "d108827d-ad80-43dc-9648-ef8b21c08a49",
   "metadata": {},
   "outputs": [],
   "source": [
    "neighbourhoods = listings.select(listings.neighbourhood_cleansed)\n",
    "neighbourhoods.show(20, truncate=False)"
   ]
  },
  {
   "cell_type": "code",
   "execution_count": null,
   "id": "a8debced-ca77-42dd-8895-ddc6f9ea1d04",
   "metadata": {},
   "outputs": [],
   "source": []
  },
  {
   "cell_type": "code",
   "execution_count": null,
   "id": "a363beee-9ec4-4c56-bf72-6f2379b32904",
   "metadata": {},
   "outputs": [],
   "source": []
  },
  {
   "cell_type": "code",
   "execution_count": null,
   "id": "2686c317-8726-4276-ae8a-d4ce474cd487",
   "metadata": {},
   "outputs": [],
   "source": []
  }
 ],
 "metadata": {
  "kernelspec": {
   "display_name": "Python 3 (ipykernel)",
   "language": "python",
   "name": "python3"
  },
  "language_info": {
   "codemirror_mode": {
    "name": "ipython",
    "version": 3
   },
   "file_extension": ".py",
   "mimetype": "text/x-python",
   "name": "python",
   "nbconvert_exporter": "python",
   "pygments_lexer": "ipython3",
   "version": "3.12.5"
  }
 },
 "nbformat": 4,
 "nbformat_minor": 5
}
