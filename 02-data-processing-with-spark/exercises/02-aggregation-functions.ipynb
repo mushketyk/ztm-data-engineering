{
 "cells": [
  {
   "cell_type": "code",
   "execution_count": null,
   "id": "2321b05f-9964-42dd-a049-6226310a5e08",
   "metadata": {},
   "outputs": [],
   "source": [
    "from pyspark.sql import SparkSession\n",
    "\n",
    "spark = SparkSession.builder \\\n",
    "    .appName(\"Spark aggregation functions\") \\\n",
    "    .getOrCreate()"
   ]
  },
  {
   "cell_type": "code",
   "execution_count": null,
   "id": "b409f1b4-0cb7-4544-ae6e-5ecf760cba7d",
   "metadata": {},
   "outputs": [],
   "source": [
    "listings = spark.read.csv(\"../data/listings.csv.gz\", \n",
    "    header=True,\n",
    "    inferSchema=True,\n",
    "    sep=\",\", \n",
    "    quote='\"',\n",
    "    escape='\"', \n",
    "    multiLine=True,\n",
    "    mode=\"PERMISSIVE\" \n",
    ")\n",
    "listings.printSchema()"
   ]
  },
  {
   "cell_type": "code",
   "execution_count": null,
   "id": "ed5808e2-8296-4e55-8b9f-8ced9e7cae0b",
   "metadata": {},
   "outputs": [],
   "source": [
    "reviews = spark.read.csv(\"../data/reviews.csv.gz\", \n",
    "    header=True,\n",
    "    inferSchema=True,\n",
    "    sep=\",\",\n",
    "    quote='\"',\n",
    "    escape='\"',\n",
    "    multiLine=True,\n",
    "    mode=\"PERMISSIVE\"\n",
    ")\n",
    "reviews.printSchema()"
   ]
  },
  {
   "cell_type": "code",
   "execution_count": null,
   "id": "fde34e78-3feb-4fd3-a675-3831adf3bc73",
   "metadata": {},
   "outputs": [],
   "source": [
    "# 1. Count the number of reviews per listing using the \"reviews\" dataset\n"
   ]
  },
  {
   "cell_type": "code",
   "execution_count": null,
   "id": "5bc370f9-0375-4b2c-a8cf-7fd7437e1978",
   "metadata": {},
   "outputs": [],
   "source": [
    "# 2. Compute the total number of listings and average review score per host\n"
   ]
  },
  {
   "cell_type": "code",
   "execution_count": null,
   "id": "84d9e7bd-341e-4468-881c-ef4491df08b4",
   "metadata": {},
   "outputs": [],
   "source": [
    "# 3: Find the top ten listings with the highest number of reviews\n"
   ]
  },
  {
   "cell_type": "code",
   "execution_count": null,
   "id": "ada1d343-15b9-4245-9801-7dd468ffd9cd",
   "metadata": {},
   "outputs": [],
   "source": [
    "# 4. Find the top five neighborhoods with the most listings\n"
   ]
  },
  {
   "cell_type": "code",
   "execution_count": null,
   "id": "a45177ab-5191-4cbf-8f07-5244d78b4f58",
   "metadata": {},
   "outputs": [],
   "source": [
    "# 5. Get a data frame with the following four columns:\n",
    "# * Listing's ID\n",
    "# * Listing's name\n",
    "# * Reviewer's name\n",
    "# * Review's comment\n",
    "# Use \"join\" to combine data from two datasets\n"
   ]
  },
  {
   "cell_type": "code",
   "execution_count": null,
   "id": "c70008c5-cb99-4079-8309-e812449bd8d7",
   "metadata": {},
   "outputs": [],
   "source": [
    "# 6.Get top five listings with the highest average review comment length. Only return listings with at least 5 reviews\n",
    "# Use the \"length\" function from the \"pyspark.sql.functions\" to get a lenght of a review\n"
   ]
  },
  {
   "cell_type": "code",
   "execution_count": null,
   "id": "f2d55601-9eb6-496c-b214-6ad56d2aec53",
   "metadata": {},
   "outputs": [],
   "source": [
    "# 7. Using the \"join\" operator find listings without reviews.\n",
    "# Hint: Use \"left_join\" or \"left_anti\" join type when implementing this\n"
   ]
  },
  {
   "cell_type": "code",
   "execution_count": null,
   "id": "888ce8f0-6e49-41ba-b521-64147316cf22",
   "metadata": {},
   "outputs": [],
   "source": []
  }
 ],
 "metadata": {
  "kernelspec": {
   "display_name": "Python 3 (ipykernel)",
   "language": "python",
   "name": "python3"
  },
  "language_info": {
   "codemirror_mode": {
    "name": "ipython",
    "version": 3
   },
   "file_extension": ".py",
   "mimetype": "text/x-python",
   "name": "python",
   "nbconvert_exporter": "python",
   "pygments_lexer": "ipython3",
   "version": "3.13.2"
  }
 },
 "nbformat": 4,
 "nbformat_minor": 5
}
