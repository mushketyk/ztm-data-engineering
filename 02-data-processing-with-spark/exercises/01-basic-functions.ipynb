{
 "cells": [
  {
   "cell_type": "code",
   "execution_count": 1,
   "id": "aab4b687-8702-4a1f-87e9-8960a48c111e",
   "metadata": {},
   "outputs": [
    {
     "name": "stderr",
     "output_type": "stream",
     "text": [
      "24/11/26 18:26:00 WARN SparkSession: Using an existing Spark session; only runtime SQL configurations will take effect.\n"
     ]
    }
   ],
   "source": [
    "from pyspark.sql import SparkSession\n",
    "\n",
    "spark = SparkSession.builder \\\n",
    "    .appName(\"Read Inside Airbnb data\") \\\n",
    "    .getOrCreate()"
   ]
  },
  {
   "cell_type": "code",
   "execution_count": 2,
   "id": "5a20da58-e78b-475d-94d1-872668c2b3c9",
   "metadata": {},
   "outputs": [
    {
     "name": "stderr",
     "output_type": "stream",
     "text": [
      "                                                                                \r"
     ]
    }
   ],
   "source": [
    "listings = spark.read.csv(\"../data/listings.csv.gz\", \n",
    "    header=True,\n",
    "    inferSchema=True,\n",
    "    sep=\",\", \n",
    "    quote='\"',\n",
    "    escape='\"', \n",
    "    multiLine=True,\n",
    "    mode=\"PERMISSIVE\" \n",
    ")"
   ]
  },
  {
   "cell_type": "code",
   "execution_count": 3,
   "id": "d9cd4b39-ec0b-4562-9797-8a041ea3e456",
   "metadata": {},
   "outputs": [
    {
     "name": "stdout",
     "output_type": "stream",
     "text": [
      "root\n",
      " |-- id: long (nullable = true)\n",
      " |-- listing_url: string (nullable = true)\n",
      " |-- scrape_id: long (nullable = true)\n",
      " |-- last_scraped: date (nullable = true)\n",
      " |-- source: string (nullable = true)\n",
      " |-- name: string (nullable = true)\n",
      " |-- description: string (nullable = true)\n",
      " |-- neighborhood_overview: string (nullable = true)\n",
      " |-- picture_url: string (nullable = true)\n",
      " |-- host_id: integer (nullable = true)\n",
      " |-- host_url: string (nullable = true)\n",
      " |-- host_name: string (nullable = true)\n",
      " |-- host_since: date (nullable = true)\n",
      " |-- host_location: string (nullable = true)\n",
      " |-- host_about: string (nullable = true)\n",
      " |-- host_response_time: string (nullable = true)\n",
      " |-- host_response_rate: string (nullable = true)\n",
      " |-- host_acceptance_rate: string (nullable = true)\n",
      " |-- host_is_superhost: string (nullable = true)\n",
      " |-- host_thumbnail_url: string (nullable = true)\n",
      " |-- host_picture_url: string (nullable = true)\n",
      " |-- host_neighbourhood: string (nullable = true)\n",
      " |-- host_listings_count: integer (nullable = true)\n",
      " |-- host_total_listings_count: integer (nullable = true)\n",
      " |-- host_verifications: string (nullable = true)\n",
      " |-- host_has_profile_pic: string (nullable = true)\n",
      " |-- host_identity_verified: string (nullable = true)\n",
      " |-- neighbourhood: string (nullable = true)\n",
      " |-- neighbourhood_cleansed: string (nullable = true)\n",
      " |-- neighbourhood_group_cleansed: string (nullable = true)\n",
      " |-- latitude: double (nullable = true)\n",
      " |-- longitude: double (nullable = true)\n",
      " |-- property_type: string (nullable = true)\n",
      " |-- room_type: string (nullable = true)\n",
      " |-- accommodates: integer (nullable = true)\n",
      " |-- bathrooms: double (nullable = true)\n",
      " |-- bathrooms_text: string (nullable = true)\n",
      " |-- bedrooms: integer (nullable = true)\n",
      " |-- beds: integer (nullable = true)\n",
      " |-- amenities: string (nullable = true)\n",
      " |-- price: string (nullable = true)\n",
      " |-- minimum_nights: integer (nullable = true)\n",
      " |-- maximum_nights: integer (nullable = true)\n",
      " |-- minimum_minimum_nights: integer (nullable = true)\n",
      " |-- maximum_minimum_nights: integer (nullable = true)\n",
      " |-- minimum_maximum_nights: integer (nullable = true)\n",
      " |-- maximum_maximum_nights: integer (nullable = true)\n",
      " |-- minimum_nights_avg_ntm: double (nullable = true)\n",
      " |-- maximum_nights_avg_ntm: double (nullable = true)\n",
      " |-- calendar_updated: string (nullable = true)\n",
      " |-- has_availability: string (nullable = true)\n",
      " |-- availability_30: integer (nullable = true)\n",
      " |-- availability_60: integer (nullable = true)\n",
      " |-- availability_90: integer (nullable = true)\n",
      " |-- availability_365: integer (nullable = true)\n",
      " |-- calendar_last_scraped: date (nullable = true)\n",
      " |-- number_of_reviews: integer (nullable = true)\n",
      " |-- number_of_reviews_ltm: integer (nullable = true)\n",
      " |-- number_of_reviews_l30d: integer (nullable = true)\n",
      " |-- first_review: date (nullable = true)\n",
      " |-- last_review: date (nullable = true)\n",
      " |-- review_scores_rating: double (nullable = true)\n",
      " |-- review_scores_accuracy: double (nullable = true)\n",
      " |-- review_scores_cleanliness: double (nullable = true)\n",
      " |-- review_scores_checkin: double (nullable = true)\n",
      " |-- review_scores_communication: double (nullable = true)\n",
      " |-- review_scores_location: double (nullable = true)\n",
      " |-- review_scores_value: double (nullable = true)\n",
      " |-- license: string (nullable = true)\n",
      " |-- instant_bookable: string (nullable = true)\n",
      " |-- calculated_host_listings_count: integer (nullable = true)\n",
      " |-- calculated_host_listings_count_entire_homes: integer (nullable = true)\n",
      " |-- calculated_host_listings_count_private_rooms: integer (nullable = true)\n",
      " |-- calculated_host_listings_count_shared_rooms: integer (nullable = true)\n",
      " |-- reviews_per_month: double (nullable = true)\n",
      "\n"
     ]
    }
   ],
   "source": [
    "listings.printSchema()"
   ]
  },
  {
   "cell_type": "code",
   "execution_count": null,
   "id": "85786288-3ac5-4de3-91af-b32b6f27fb8e",
   "metadata": {},
   "outputs": [],
   "source": [
    "# 1. Get a non-null picture URL for any property (\"picture_url\" field)\n",
    "# Select any non-null picture URL\n"
   ]
  },
  {
   "cell_type": "code",
   "execution_count": null,
   "id": "07aac6df-eb62-4813-9727-d6f13b1cf8da",
   "metadata": {},
   "outputs": [],
   "source": [
    "# 2. Get number of properties that get more than 10 reviews per month\n"
   ]
  },
  {
   "cell_type": "code",
   "execution_count": null,
   "id": "3c810e97-ad51-4233-8e7d-0bd42fe51957",
   "metadata": {},
   "outputs": [],
   "source": [
    "# 3. Get properties that have more bathrooms than bedrooms\n"
   ]
  },
  {
   "cell_type": "code",
   "execution_count": null,
   "id": "f576362b-4406-4861-93bf-4525895d631a",
   "metadata": {},
   "outputs": [],
   "source": [
    "# 4. Get properties where the price is greater than 5,000. Collect the result as a Python list\n",
    "# Remember to convert a price into a number first!\n"
   ]
  },
  {
   "cell_type": "code",
   "execution_count": null,
   "id": "7672f4d2-63cb-4240-80f7-140bc44798fe",
   "metadata": {},
   "outputs": [],
   "source": [
    "# 5. Get a list of properties with the following characteristics:\n",
    "# * price < 150\n",
    "# * more than 20 reviews\n",
    "# * review_scores_rating > 4.5\n",
    "# Consider using the \"&\" operator\n"
   ]
  },
  {
   "cell_type": "code",
   "execution_count": null,
   "id": "2db9de02-0039-4167-a7f5-ef00ecbc19e4",
   "metadata": {},
   "outputs": [],
   "source": [
    "# 6. Get a list of properties with the following characteristics:\n",
    "# * price < 150 OR more than one bathroom\n",
    "# Use the \"|\" operator to implement the OR operator\n"
   ]
  },
  {
   "cell_type": "code",
   "execution_count": null,
   "id": "4dbc4ba2-53fa-45af-a2fa-c45b13256266",
   "metadata": {},
   "outputs": [],
   "source": [
    "# 7. Get the highest listing price in this dataset\n",
    "# Consider using the \"max\" function from \"pyspark.sql.functions\"\n"
   ]
  },
  {
   "cell_type": "code",
   "execution_count": null,
   "id": "3375451d-56c4-490a-b66d-8c3529fa718a",
   "metadata": {},
   "outputs": [],
   "source": [
    "# 8. Get the name and a price of property with the highest price\n",
    "# Try to use \"collect\" method to get the highest price first, and then use it in a \"filter\" call \n"
   ]
  },
  {
   "cell_type": "code",
   "execution_count": null,
   "id": "6e883a01-2305-4227-aa32-2b1e2687d928",
   "metadata": {},
   "outputs": [],
   "source": [
    "# 9. Get the number of hosts in the dataset\n"
   ]
  },
  {
   "cell_type": "code",
   "execution_count": null,
   "id": "1e4be0bf-44e6-4dde-8733-7b270a9c0e1e",
   "metadata": {},
   "outputs": [],
   "source": [
    "# 10. Get listings with a first review in 2024\n",
    "# Consider using the \"year\" function from \"pyspark.sql.functions\"\n"
   ]
  },
  {
   "cell_type": "code",
   "execution_count": null,
   "id": "7df3dd47-d0bd-4dd3-98d5-fb3533322b4c",
   "metadata": {},
   "outputs": [],
   "source": []
  }
 ],
 "metadata": {
  "kernelspec": {
   "display_name": "Python 3 (ipykernel)",
   "language": "python",
   "name": "python3"
  },
  "language_info": {
   "codemirror_mode": {
    "name": "ipython",
    "version": 3
   },
   "file_extension": ".py",
   "mimetype": "text/x-python",
   "name": "python",
   "nbconvert_exporter": "python",
   "pygments_lexer": "ipython3",
   "version": "3.13.2"
  }
 },
 "nbformat": 4,
 "nbformat_minor": 5
}
