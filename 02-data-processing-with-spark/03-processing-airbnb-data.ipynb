{
 "cells": [
  {
   "cell_type": "code",
   "execution_count": null,
   "id": "c219df52-cb8d-4431-831a-3751a69062f2",
   "metadata": {},
   "outputs": [],
   "source": [
    "from pyspark.sql import SparkSession\n",
    "\n",
    "spark = SparkSession.builder \\\n",
    "    .appName(\"Inside Airbnb data processing\") \\\n",
    "    .getOrCreate()"
   ]
  },
  {
   "cell_type": "code",
   "execution_count": null,
   "id": "ec00f92d-c582-4970-9617-ff0a9852cc45",
   "metadata": {},
   "outputs": [],
   "source": [
    "listings = spark.read.csv(\"data/listings.csv.gz\", \n",
    "    header=True,\n",
    "    inferSchema=True,\n",
    "    sep=\",\",\n",
    "    quote='\"',\n",
    "    escape='\"',\n",
    "    multiLine=True,\n",
    "    mode=\"PERMISSIVE\"\n",
    ")"
   ]
  },
  {
   "cell_type": "code",
   "execution_count": null,
   "id": "608ed71d-7a78-46df-9190-4fb49c6b62ce",
   "metadata": {},
   "outputs": [],
   "source": [
    "review_locations = listings.select(listings.review_scores_location)\n",
    "review_locations.show()"
   ]
  },
  {
   "cell_type": "code",
   "execution_count": null,
   "id": "5ae431b3-c1c2-47e8-bae4-fb10f87fb5b3",
   "metadata": {},
   "outputs": [],
   "source": [
    "listings \\\n",
    "  .select(listings.review_scores_location) \\\n",
    "  .show()"
   ]
  },
  {
   "cell_type": "code",
   "execution_count": null,
   "id": "7739ebc9-8b6b-428e-af57-7e2616f39b14",
   "metadata": {},
   "outputs": [],
   "source": [
    "high_score_listings = listings \\\n",
    "  .filter(listings.review_scores_location > 4.5) \\\n",
    "  .select('id', 'price', 'name', 'review_scores_location')\n",
    "\n",
    "high_score_listings.show(20, truncate=False)\n"
   ]
  },
  {
   "cell_type": "code",
   "execution_count": null,
   "id": "5306bebf-6f83-430e-affd-6618494210b9",
   "metadata": {},
   "outputs": [],
   "source": [
    "high_score_listings.dropna().show(20, truncate=False)"
   ]
  },
  {
   "cell_type": "code",
   "execution_count": null,
   "id": "de1b6945-d850-4640-b985-99c1bd8e228b",
   "metadata": {},
   "outputs": [],
   "source": [
    "high_score_listings.schema['price']"
   ]
  },
  {
   "cell_type": "code",
   "execution_count": null,
   "id": "d42041b9-e078-430a-ab27-7ba97ebb8d75",
   "metadata": {},
   "outputs": [],
   "source": [
    "from pyspark.sql.functions import regexp_replace\n",
    "\n",
    "price_num_df = listings \\\n",
    "  .withColumn('price_num', regexp_replace('price', '[$,]', '').cast('float')) \\\n",
    "\n",
    "price_num_df.schema['price_num']"
   ]
  },
  {
   "cell_type": "code",
   "execution_count": null,
   "id": "2611fddb-c125-4c8b-9cbc-387ed12529e0",
   "metadata": {},
   "outputs": [],
   "source": [
    "price_num_df \\\n",
    "  .select('price_num', 'name') \\\n",
    "  .show(20, truncate=False)"
   ]
  },
  {
   "cell_type": "code",
   "execution_count": null,
   "id": "f3f00f4c-e0ce-4d06-b5fe-0b2cd8539f46",
   "metadata": {},
   "outputs": [],
   "source": [
    "price_num_df.filter( (price_num_df.price_num < 100) & (price_num_df.review_scores_location > 4.5)) \\\n",
    "  .select('name', 'price', 'review_scores_location') \\\n",
    "  .show(truncate=False)"
   ]
  },
  {
   "cell_type": "code",
   "execution_count": null,
   "id": "ca2e5d7c-ee58-4b09-8eda-cb7b5d1ab898",
   "metadata": {},
   "outputs": [],
   "source": [
    "price_num_df.filter('price_num < 100 AND review_scores_location > 4.5') \\\n",
    "  .select('name', 'price', 'review_scores_location') \\\n",
    "  .show(truncate=False)"
   ]
  },
  {
   "cell_type": "code",
   "execution_count": null,
   "id": "cfb893b6-003b-40ec-82d3-b5bba6de90c0",
   "metadata": {},
   "outputs": [],
   "source": [
    "listings \\\n",
    "  .select(listings.property_type) \\\n",
    "  .distinct() \\\n",
    "  .show(truncate=False)"
   ]
  },
  {
   "cell_type": "code",
   "execution_count": null,
   "id": "67666c54-ea5f-4589-ad3a-5ca82434d1e8",
   "metadata": {},
   "outputs": [],
   "source": [
    "listings \\\n",
    "  .select(listings.property_type, listings.room_type) \\\n",
    "  .distinct() \\\n",
    "  .show(truncate=False)"
   ]
  },
  {
   "cell_type": "code",
   "execution_count": null,
   "id": "2686c317-8726-4276-ae8a-d4ce474cd487",
   "metadata": {},
   "outputs": [],
   "source": [
    "listings \\\n",
    "  .select(listings.property_type) \\\n",
    "  .distinct() \\\n",
    "  .write \\\n",
    "  .csv('data/property_types')"
   ]
  }
 ],
 "metadata": {
  "kernelspec": {
   "display_name": "Python 3 (ipykernel)",
   "language": "python",
   "name": "python3"
  },
  "language_info": {
   "codemirror_mode": {
    "name": "ipython",
    "version": 3
   },
   "file_extension": ".py",
   "mimetype": "text/x-python",
   "name": "python",
   "nbconvert_exporter": "python",
   "pygments_lexer": "ipython3",
   "version": "3.12.7"
  }
 },
 "nbformat": 4,
 "nbformat_minor": 5
}
