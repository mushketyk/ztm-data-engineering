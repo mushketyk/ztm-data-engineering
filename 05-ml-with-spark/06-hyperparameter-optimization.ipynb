{
 "cells": [
  {
   "cell_type": "code",
   "execution_count": 17,
   "id": "53eb4614-6b2e-4c33-8822-c230a9dba13b",
   "metadata": {},
   "outputs": [],
   "source": [
    "from pyspark.sql import SparkSession\n",
    "\n",
    "spark = SparkSession \\\n",
    "  .builder \\\n",
    "  .appName(\"Hyperparameter optimization\") \\\n",
    "  .getOrCreate()"
   ]
  },
  {
   "cell_type": "code",
   "execution_count": 18,
   "id": "af281fdf-a02b-4602-9c29-c0d22a726ecd",
   "metadata": {},
   "outputs": [],
   "source": [
    "data = spark.read.csv(\"data/hotel-reservations.csv\", header=True, inferSchema=True)"
   ]
  },
  {
   "cell_type": "code",
   "execution_count": 19,
   "id": "c14d638e-be68-44e2-bebf-f06077cf1cce",
   "metadata": {},
   "outputs": [
    {
     "name": "stdout",
     "output_type": "stream",
     "text": [
      "Train size:  29040\n",
      "Test size:  7235\n"
     ]
    }
   ],
   "source": [
    "train_data, test_data = data.randomSplit([0.8, 0.2], seed=42)\n",
    "print(\"Train size: \", train_data.count())\n",
    "print(\"Test size: \", test_data.count())"
   ]
  },
  {
   "cell_type": "code",
   "execution_count": 20,
   "id": "0deaa33e-2509-469a-9b69-ce9bace913ab",
   "metadata": {},
   "outputs": [],
   "source": [
    "pipeline_stages = []"
   ]
  },
  {
   "cell_type": "code",
   "execution_count": 21,
   "id": "6c567350-0cdf-4d1f-82f5-77871e985665",
   "metadata": {},
   "outputs": [
    {
     "name": "stdout",
     "output_type": "stream",
     "text": [
      "StringIndexer type_of_meal_plan -> type_of_meal_plan_index\n",
      "OneHotEncoder type_of_meal_plan_index -> type_of_meal_plan_vec\n",
      "\n",
      "StringIndexer room_type_reserved -> room_type_reserved_index\n",
      "OneHotEncoder room_type_reserved_index -> room_type_reserved_vec\n",
      "\n",
      "StringIndexer arrival_month -> arrival_month_index\n",
      "OneHotEncoder arrival_month_index -> arrival_month_vec\n",
      "\n",
      "StringIndexer market_segment_type -> market_segment_type_index\n",
      "OneHotEncoder market_segment_type_index -> market_segment_type_vec\n",
      "\n"
     ]
    }
   ],
   "source": [
    "from pyspark.ml.feature import StringIndexer, OneHotEncoder \n",
    "\n",
    "categorical_cols = ['type_of_meal_plan', 'room_type_reserved', 'arrival_month', 'market_segment_type']\n",
    "\n",
    "for col in categorical_cols:\n",
    "    string_indexer = StringIndexer(inputCol=col, outputCol= col + '_index')\n",
    "    print(f'StringIndexer {string_indexer.getInputCol()} -> {string_indexer.getOutputCol()}')\n",
    "    \n",
    "    encoder = OneHotEncoder(inputCol=string_indexer.getOutputCol(), outputCol=col + '_vec', dropLast=False)\n",
    "    print(f'OneHotEncoder {encoder.getInputCol()} -> {encoder.getOutputCol()}')\n",
    "    print()\n",
    "    \n",
    "    pipeline_stages += [string_indexer, encoder]"
   ]
  },
  {
   "cell_type": "code",
   "execution_count": 22,
   "id": "8cb6cf8a-7af5-42a5-9746-565dbaa56079",
   "metadata": {},
   "outputs": [],
   "source": [
    "pipeline_stages += [StringIndexer(inputCol='booking_status', outputCol= 'booking_status_index')]"
   ]
  },
  {
   "cell_type": "code",
   "execution_count": 23,
   "id": "85119be4-9155-485d-97d9-c4594e1ea2e5",
   "metadata": {},
   "outputs": [
    {
     "data": {
      "text/plain": [
       "['type_of_meal_plan_vec',\n",
       " 'room_type_reserved_vec',\n",
       " 'arrival_month_vec',\n",
       " 'market_segment_type_vec']"
      ]
     },
     "execution_count": 23,
     "metadata": {},
     "output_type": "execute_result"
    }
   ],
   "source": [
    "encoded_categorical_cols = [col + \"_vec\" for col in categorical_cols]\n",
    "encoded_categorical_cols"
   ]
  },
  {
   "cell_type": "code",
   "execution_count": 24,
   "id": "8c15faf0-f3cf-471c-8197-94c2911566c4",
   "metadata": {},
   "outputs": [],
   "source": [
    "numeric_cols = ['no_of_adults', 'no_of_children', 'no_of_weekend_nights', 'no_of_week_nights',\n",
    "               'required_car_parking_space', 'lead_time',\n",
    "               'repeated_guest', 'no_of_previous_cancellations', 'no_of_previous_bookings_not_canceled',\n",
    "               'avg_price_per_room', 'no_of_special_requests'] "
   ]
  },
  {
   "cell_type": "code",
   "execution_count": 25,
   "id": "d2dffe07-ad1c-45a1-b7d3-ae8495b01caf",
   "metadata": {},
   "outputs": [
    {
     "data": {
      "text/plain": [
       "['type_of_meal_plan_vec',\n",
       " 'room_type_reserved_vec',\n",
       " 'arrival_month_vec',\n",
       " 'market_segment_type_vec',\n",
       " 'no_of_adults',\n",
       " 'no_of_children',\n",
       " 'no_of_weekend_nights',\n",
       " 'no_of_week_nights',\n",
       " 'required_car_parking_space',\n",
       " 'lead_time',\n",
       " 'repeated_guest',\n",
       " 'no_of_previous_cancellations',\n",
       " 'no_of_previous_bookings_not_canceled',\n",
       " 'avg_price_per_room',\n",
       " 'no_of_special_requests']"
      ]
     },
     "execution_count": 25,
     "metadata": {},
     "output_type": "execute_result"
    }
   ],
   "source": [
    "input_columns = encoded_categorical_cols + numeric_cols\n",
    "input_columns"
   ]
  },
  {
   "cell_type": "code",
   "execution_count": 26,
   "id": "10e9a5f9-c973-4f96-b764-052ead157c9e",
   "metadata": {},
   "outputs": [],
   "source": [
    "from pyspark.ml.feature import VectorAssembler\n",
    "\n",
    "assembler = VectorAssembler(inputCols=input_columns, outputCol='features')\n",
    "\n",
    "pipeline_stages.append(assembler)"
   ]
  },
  {
   "cell_type": "code",
   "execution_count": null,
   "id": "0c891b8b-d1f9-481f-a45f-e9915bab6ea0",
   "metadata": {},
   "outputs": [],
   "source": []
  },
  {
   "cell_type": "code",
   "execution_count": 27,
   "id": "a1ad2d6f-9fd5-403c-b8bf-686f578d26a5",
   "metadata": {},
   "outputs": [],
   "source": [
    "from pyspark.ml.classification import DecisionTreeClassifier\n",
    "\n",
    "dtc = DecisionTreeClassifier(featuresCol='features', labelCol='booking_status_index')\n",
    "\n",
    "pipeline_stages.append(dtc)"
   ]
  },
  {
   "cell_type": "code",
   "execution_count": 28,
   "id": "e07506f7-0bde-449d-93c1-c20b5c6d87e5",
   "metadata": {},
   "outputs": [],
   "source": [
    "from pyspark.ml import Pipeline\n",
    "\n",
    "pipeline = Pipeline(stages=pipeline_stages)"
   ]
  },
  {
   "cell_type": "code",
   "execution_count": null,
   "id": "2ada0719-b3d2-42e2-8840-6c0388a11a85",
   "metadata": {},
   "outputs": [],
   "source": [
    "from pyspark.ml.tuning import TrainValidationSplit, ParamGridBuilder\n",
    "\n",
    "from pyspark.ml.evaluation import MulticlassClassificationEvaluator\n",
    "\n",
    "paramGrid = ParamGridBuilder() \\\n",
    "  .addGrid(dtc.maxDepth, [2, 5, 10]) \\\n",
    "  .addGrid(dtc.maxBins, [10, 20, 40]) \\\n",
    "  .addGrid(dtc.minInstancesPerNode, [1, 2, 4]) \\\n",
    "  .build()\n",
    "\n",
    "\n",
    "evaluator = MulticlassClassificationEvaluator(\n",
    "    labelCol='booking_status_index',\n",
    "    predictionCol='prediction',\n",
    "    metricName='accuracy'\n",
    ")\n",
    "\n",
    "tvs_model = TrainValidationSplit(\n",
    "    estimator=pipeline,\n",
    "    estimatorParamMaps=paramGrid,\n",
    "    evaluator=evaluator,\n",
    "    seed=42\n",
    ")\n",
    "\n",
    "best_model = tvs_model.fit(train_data)"
   ]
  },
  {
   "cell_type": "code",
   "execution_count": null,
   "id": "9afe6160-6588-4210-ad80-1f789d292c8a",
   "metadata": {},
   "outputs": [],
   "source": [
    "predictions = best_model.transform(test_data)"
   ]
  },
  {
   "cell_type": "code",
   "execution_count": null,
   "id": "c0a1b109-a13a-41f9-b8a2-7d4e86669c8b",
   "metadata": {},
   "outputs": [],
   "source": [
    "accuracy = evaluator.evaluate(predictions) * 100\n",
    "print(f'Accuracy = {accuracy:.2f}%')"
   ]
  },
  {
   "cell_type": "code",
   "execution_count": null,
   "id": "9a7e73c9-eb74-497e-b5ae-07556aa386d5",
   "metadata": {},
   "outputs": [],
   "source": [
    "for param_values, metric_value in zip(paramGrid, best_model.validationMetrics):\n",
    "    for param, value in param_values.items():\n",
    "        print(f'{param.name} = {value}')\n",
    "    print(f'Accuracy -> {metric_value}')\n"
   ]
  },
  {
   "cell_type": "code",
   "execution_count": null,
   "id": "ec26630a-7e73-42ff-add9-46c9ddd0259d",
   "metadata": {},
   "outputs": [],
   "source": []
  }
 ],
 "metadata": {
  "kernelspec": {
   "display_name": "Python 3 (ipykernel)",
   "language": "python",
   "name": "python3"
  },
  "language_info": {
   "codemirror_mode": {
    "name": "ipython",
    "version": 3
   },
   "file_extension": ".py",
   "mimetype": "text/x-python",
   "name": "python",
   "nbconvert_exporter": "python",
   "pygments_lexer": "ipython3",
   "version": "3.12.7"
  }
 },
 "nbformat": 4,
 "nbformat_minor": 5
}
