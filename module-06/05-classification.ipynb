{
 "cells": [
  {
   "cell_type": "code",
   "execution_count": 33,
   "id": "f9696f9a-34fc-47e0-8391-4349531222b1",
   "metadata": {},
   "outputs": [],
   "source": [
    "from pyspark.sql import SparkSession\n",
    "from pyspark.ml.regression import LinearRegression\n",
    "from pyspark.ml.feature import VectorAssembler\n",
    "from pyspark.ml.feature import StringIndexer, OneHotEncoder, VectorAssembler, StandardScaler\n",
    "from pyspark.ml.classification import GBTClassifier\n",
    "from pyspark.ml.evaluation import MulticlassClassificationEvaluator\n",
    "from pyspark.sql.functions import isnan, when, count, col\n",
    "from pyspark.ml.evaluation import RegressionEvaluator\n",
    "from pyspark.ml import Pipeline"
   ]
  },
  {
   "cell_type": "code",
   "execution_count": 13,
   "id": "53eb4614-6b2e-4c33-8822-c230a9dba13b",
   "metadata": {},
   "outputs": [],
   "source": [
    "# Initialize SparkSession\n",
    "spark = SparkSession.builder.appName(\"HotelReservations\").getOrCreate()"
   ]
  },
  {
   "cell_type": "code",
   "execution_count": 14,
   "id": "af281fdf-a02b-4602-9c29-c0d22a726ecd",
   "metadata": {},
   "outputs": [
    {
     "name": "stdout",
     "output_type": "stream",
     "text": [
      "root\n",
      " |-- Booking_ID: string (nullable = true)\n",
      " |-- no_of_adults: integer (nullable = true)\n",
      " |-- no_of_children: integer (nullable = true)\n",
      " |-- no_of_weekend_nights: integer (nullable = true)\n",
      " |-- no_of_week_nights: integer (nullable = true)\n",
      " |-- type_of_meal_plan: string (nullable = true)\n",
      " |-- required_car_parking_space: integer (nullable = true)\n",
      " |-- room_type_reserved: string (nullable = true)\n",
      " |-- lead_time: integer (nullable = true)\n",
      " |-- arrival_year: integer (nullable = true)\n",
      " |-- arrival_month: integer (nullable = true)\n",
      " |-- arrival_date: integer (nullable = true)\n",
      " |-- market_segment_type: string (nullable = true)\n",
      " |-- repeated_guest: integer (nullable = true)\n",
      " |-- no_of_previous_cancellations: integer (nullable = true)\n",
      " |-- no_of_previous_bookings_not_canceled: integer (nullable = true)\n",
      " |-- avg_price_per_room: double (nullable = true)\n",
      " |-- no_of_special_requests: integer (nullable = true)\n",
      " |-- booking_status: string (nullable = true)\n",
      "\n"
     ]
    }
   ],
   "source": [
    "# Load the dataset\n",
    "data = spark.read.csv(\"data/hotel-reservations.csv\", header=True, inferSchema=True)\n",
    "\n",
    "# Display the schema of the dataset\n",
    "data.printSchema()"
   ]
  },
  {
   "cell_type": "code",
   "execution_count": 15,
   "id": "55481ffe-68c6-4d51-a80a-8536079c7a07",
   "metadata": {},
   "outputs": [
    {
     "data": {
      "text/plain": [
       "36275"
      ]
     },
     "execution_count": 15,
     "metadata": {},
     "output_type": "execute_result"
    }
   ],
   "source": [
    "data.count()"
   ]
  },
  {
   "cell_type": "code",
   "execution_count": 16,
   "id": "89be533f-d68a-4a88-b0e8-d5afb315b3f4",
   "metadata": {},
   "outputs": [
    {
     "name": "stdout",
     "output_type": "stream",
     "text": [
      "+----------+------------+--------------+--------------------+-----------------+-----------------+--------------------------+------------------+---------+------------+-------------+------------+-------------------+--------------+----------------------------+------------------------------------+------------------+----------------------+--------------+\n",
      "|Booking_ID|no_of_adults|no_of_children|no_of_weekend_nights|no_of_week_nights|type_of_meal_plan|required_car_parking_space|room_type_reserved|lead_time|arrival_year|arrival_month|arrival_date|market_segment_type|repeated_guest|no_of_previous_cancellations|no_of_previous_bookings_not_canceled|avg_price_per_room|no_of_special_requests|booking_status|\n",
      "+----------+------------+--------------+--------------------+-----------------+-----------------+--------------------------+------------------+---------+------------+-------------+------------+-------------------+--------------+----------------------------+------------------------------------+------------------+----------------------+--------------+\n",
      "|  INN00001|           2|             0|                   1|                2|      Meal Plan 1|                         0|       Room_Type 1|      224|        2017|           10|           2|            Offline|             0|                           0|                                   0|              65.0|                     0|  Not_Canceled|\n",
      "|  INN00002|           2|             0|                   2|                3|     Not Selected|                         0|       Room_Type 1|        5|        2018|           11|           6|             Online|             0|                           0|                                   0|            106.68|                     1|  Not_Canceled|\n",
      "|  INN00003|           1|             0|                   2|                1|      Meal Plan 1|                         0|       Room_Type 1|        1|        2018|            2|          28|             Online|             0|                           0|                                   0|              60.0|                     0|      Canceled|\n",
      "|  INN00004|           2|             0|                   0|                2|      Meal Plan 1|                         0|       Room_Type 1|      211|        2018|            5|          20|             Online|             0|                           0|                                   0|             100.0|                     0|      Canceled|\n",
      "|  INN00005|           2|             0|                   1|                1|     Not Selected|                         0|       Room_Type 1|       48|        2018|            4|          11|             Online|             0|                           0|                                   0|              94.5|                     0|      Canceled|\n",
      "|  INN00006|           2|             0|                   0|                2|      Meal Plan 2|                         0|       Room_Type 1|      346|        2018|            9|          13|             Online|             0|                           0|                                   0|             115.0|                     1|      Canceled|\n",
      "|  INN00007|           2|             0|                   1|                3|      Meal Plan 1|                         0|       Room_Type 1|       34|        2017|           10|          15|             Online|             0|                           0|                                   0|            107.55|                     1|  Not_Canceled|\n",
      "|  INN00008|           2|             0|                   1|                3|      Meal Plan 1|                         0|       Room_Type 4|       83|        2018|           12|          26|             Online|             0|                           0|                                   0|            105.61|                     1|  Not_Canceled|\n",
      "|  INN00009|           3|             0|                   0|                4|      Meal Plan 1|                         0|       Room_Type 1|      121|        2018|            7|           6|            Offline|             0|                           0|                                   0|              96.9|                     1|  Not_Canceled|\n",
      "|  INN00010|           2|             0|                   0|                5|      Meal Plan 1|                         0|       Room_Type 4|       44|        2018|           10|          18|             Online|             0|                           0|                                   0|            133.44|                     3|  Not_Canceled|\n",
      "|  INN00011|           1|             0|                   1|                0|     Not Selected|                         0|       Room_Type 1|        0|        2018|            9|          11|             Online|             0|                           0|                                   0|             85.03|                     0|  Not_Canceled|\n",
      "|  INN00012|           1|             0|                   2|                1|      Meal Plan 1|                         0|       Room_Type 4|       35|        2018|            4|          30|             Online|             0|                           0|                                   0|             140.4|                     1|  Not_Canceled|\n",
      "|  INN00013|           2|             0|                   2|                1|     Not Selected|                         0|       Room_Type 1|       30|        2018|           11|          26|             Online|             0|                           0|                                   0|              88.0|                     0|      Canceled|\n",
      "|  INN00014|           1|             0|                   2|                0|      Meal Plan 1|                         0|       Room_Type 1|       95|        2018|           11|          20|             Online|             0|                           0|                                   0|              90.0|                     2|      Canceled|\n",
      "|  INN00015|           2|             0|                   0|                2|      Meal Plan 1|                         0|       Room_Type 1|       47|        2017|           10|          20|             Online|             0|                           0|                                   0|              94.5|                     2|  Not_Canceled|\n",
      "|  INN00016|           2|             0|                   0|                2|      Meal Plan 2|                         0|       Room_Type 1|      256|        2018|            6|          15|             Online|             0|                           0|                                   0|             115.0|                     1|      Canceled|\n",
      "|  INN00017|           1|             0|                   1|                0|      Meal Plan 1|                         0|       Room_Type 1|        0|        2017|           10|           5|            Offline|             0|                           0|                                   0|              96.0|                     0|  Not_Canceled|\n",
      "|  INN00018|           2|             0|                   1|                3|     Not Selected|                         0|       Room_Type 1|        1|        2017|            8|          10|             Online|             0|                           0|                                   0|              96.0|                     1|  Not_Canceled|\n",
      "|  INN00019|           2|             0|                   2|                2|      Meal Plan 1|                         0|       Room_Type 1|       99|        2017|           10|          30|             Online|             0|                           0|                                   0|              65.0|                     0|      Canceled|\n",
      "|  INN00020|           2|             0|                   1|                0|      Meal Plan 1|                         0|       Room_Type 1|       12|        2017|           10|           4|            Offline|             0|                           0|                                   0|              72.0|                     0|  Not_Canceled|\n",
      "+----------+------------+--------------+--------------------+-----------------+-----------------+--------------------------+------------------+---------+------------+-------------+------------+-------------------+--------------+----------------------------+------------------------------------+------------------+----------------------+--------------+\n",
      "only showing top 20 rows\n",
      "\n"
     ]
    }
   ],
   "source": [
    "data.show()"
   ]
  },
  {
   "cell_type": "code",
   "execution_count": 76,
   "id": "0deaa33e-2509-469a-9b69-ce9bace913ab",
   "metadata": {},
   "outputs": [],
   "source": [
    "stages = []"
   ]
  },
  {
   "cell_type": "code",
   "execution_count": 77,
   "id": "6c567350-0cdf-4d1f-82f5-77871e985665",
   "metadata": {},
   "outputs": [],
   "source": [
    "categorical_cols = ['type_of_meal_plan', 'room_type_reserved', 'arrival_month', 'market_segment_type']\n",
    "\n",
    "for col in categorical_cols:\n",
    "    string_indexer = StringIndexer(inputCol=col, outputCol= col + '_index')\n",
    "    encoder = OneHotEncoder(inputCol=string_indexer.getOutputCol(), outputCol=col + '_vec')\n",
    "    stages += [string_indexer, encoder]\n",
    "\n",
    "stages += [StringIndexer(inputCol='booking_status', outputCol= 'booking_status_index')]"
   ]
  },
  {
   "cell_type": "code",
   "execution_count": 78,
   "id": "8c15faf0-f3cf-471c-8197-94c2911566c4",
   "metadata": {},
   "outputs": [],
   "source": [
    "numeric_cols = ['no_of_adults', 'no_of_children', 'no_of_weekend_nights', 'no_of_week_nights',\n",
    "               'required_car_parking_space', 'lead_time', 'arrival_year', 'arrival_date',\n",
    "               'repeated_guest', 'no_of_previous_cancellations', 'no_of_previous_bookings_not_canceled',\n",
    "               'avg_price_per_room', 'no_of_special_requests'] "
   ]
  },
  {
   "cell_type": "code",
   "execution_count": 79,
   "id": "d2dffe07-ad1c-45a1-b7d3-ae8495b01caf",
   "metadata": {},
   "outputs": [],
   "source": [
    "input_columns = [c + \"_vec\" for c in categorical_cols] + numeric_cols"
   ]
  },
  {
   "cell_type": "code",
   "execution_count": 80,
   "id": "10e9a5f9-c973-4f96-b764-052ead157c9e",
   "metadata": {},
   "outputs": [],
   "source": [
    "assembler = VectorAssembler(inputCols=input_columns, outputCol='features')\n",
    "stages += [assembler]\n"
   ]
  },
  {
   "cell_type": "code",
   "execution_count": 81,
   "id": "62b5e875-336c-4510-933b-c6fd927e24ff",
   "metadata": {},
   "outputs": [],
   "source": [
    "# pipeline = Pipeline(stages=stages)\n",
    "\n",
    "# model = pipeline.fit(train_data)\n",
    "# model.transform(test_data).show()"
   ]
  },
  {
   "cell_type": "code",
   "execution_count": 82,
   "id": "0c891b8b-d1f9-481f-a45f-e9915bab6ea0",
   "metadata": {},
   "outputs": [
    {
     "name": "stdout",
     "output_type": "stream",
     "text": [
      "Train size:  29040\n",
      "Test size:  7235\n"
     ]
    }
   ],
   "source": [
    "train_data, test_data = data.randomSplit([0.8, 0.2], seed=42)\n",
    "print(\"Train size: \", train_data.count())\n",
    "print(\"Test size: \", test_data.count())"
   ]
  },
  {
   "cell_type": "code",
   "execution_count": 83,
   "id": "a1ad2d6f-9fd5-403c-b8bf-686f578d26a5",
   "metadata": {},
   "outputs": [],
   "source": [
    "# Create GBTClassifier\n",
    "gbt = GBTClassifier(featuresCol='features', labelCol='booking_status_index', maxIter=10)\n",
    "stages.append(gbt)"
   ]
  },
  {
   "cell_type": "code",
   "execution_count": 84,
   "id": "e07506f7-0bde-449d-93c1-c20b5c6d87e5",
   "metadata": {},
   "outputs": [],
   "source": [
    "\n",
    "pipeline = Pipeline(stages=stages)\n",
    "\n",
    "model = pipeline.fit(train_data)"
   ]
  },
  {
   "cell_type": "code",
   "execution_count": 86,
   "id": "2ada0719-b3d2-42e2-8840-6c0388a11a85",
   "metadata": {},
   "outputs": [
    {
     "name": "stdout",
     "output_type": "stream",
     "text": [
      "Test Accuracy = 0.842018\n",
      "Test Error = 0.157982\n"
     ]
    },
    {
     "name": "stderr",
     "output_type": "stream",
     "text": [
      "24/09/25 23:12:57 WARN InstanceBuilder: Failed to load implementation from:dev.ludovic.netlib.blas.JNIBLAS\n",
      "24/09/25 23:12:57 WARN InstanceBuilder: Failed to load implementation from:dev.ludovic.netlib.blas.VectorBLAS\n"
     ]
    }
   ],
   "source": [
    "# Make predictions\n",
    "predictions = model.transform(test_data)\n",
    "\n",
    "# Evaluate model\n",
    "evaluator = MulticlassClassificationEvaluator(labelCol='booking_status_index', predictionCol='prediction', metricName='accuracy')\n",
    "accuracy = evaluator.evaluate(predictions)\n",
    "print(\"Test Accuracy = %g\" % accuracy)\n",
    "print(\"Test Error = %g\" % (1.0 - accuracy))\n"
   ]
  },
  {
   "cell_type": "code",
   "execution_count": null,
   "id": "c0a1b109-a13a-41f9-b8a2-7d4e86669c8b",
   "metadata": {},
   "outputs": [],
   "source": []
  }
 ],
 "metadata": {
  "kernelspec": {
   "display_name": "Python 3 (ipykernel)",
   "language": "python",
   "name": "python3"
  },
  "language_info": {
   "codemirror_mode": {
    "name": "ipython",
    "version": 3
   },
   "file_extension": ".py",
   "mimetype": "text/x-python",
   "name": "python",
   "nbconvert_exporter": "python",
   "pygments_lexer": "ipython3",
   "version": "3.12.5"
  }
 },
 "nbformat": 4,
 "nbformat_minor": 5
}
