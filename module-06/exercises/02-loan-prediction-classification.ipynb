{
 "cells": [
  {
   "cell_type": "code",
   "execution_count": 1,
   "id": "cbddf4ae-c42c-43f1-bddc-847f49b7c8c5",
   "metadata": {},
   "outputs": [
    {
     "name": "stderr",
     "output_type": "stream",
     "text": [
      "24/11/20 23:50:36 WARN SparkSession: Using an existing Spark session; only runtime SQL configurations will take effect.\n"
     ]
    }
   ],
   "source": [
    "from pyspark.sql import SparkSession\n",
    "from pyspark.sql.functions import col, isnan, when, count\n",
    "from pyspark.ml.feature import VectorAssembler, StringIndexer, StandardScaler\n",
    "from pyspark.ml.classification import LogisticRegression\n",
    "\n",
    "\n",
    "# Initialize SparkSession\n",
    "spark = SparkSession.builder \\\n",
    "    .appName('Loan prediction classification') \\\n",
    "    .getOrCreate()\n",
    "\n",
    "# Load the dataset\n",
    "data_path = 'data/loan-prediction-train.csv'\n",
    "loan_data = spark.read.csv(data_path, header=True, inferSchema=True)\n"
   ]
  },
  {
   "cell_type": "code",
   "execution_count": 2,
   "id": "29911f33-b04b-46be-a254-e9b039585ea0",
   "metadata": {},
   "outputs": [
    {
     "name": "stdout",
     "output_type": "stream",
     "text": [
      "root\n",
      " |-- Loan_ID: string (nullable = true)\n",
      " |-- Gender: string (nullable = true)\n",
      " |-- Married: string (nullable = true)\n",
      " |-- Dependents: string (nullable = true)\n",
      " |-- Education: string (nullable = true)\n",
      " |-- Self_Employed: string (nullable = true)\n",
      " |-- ApplicantIncome: integer (nullable = true)\n",
      " |-- CoapplicantIncome: double (nullable = true)\n",
      " |-- LoanAmount: integer (nullable = true)\n",
      " |-- Loan_Amount_Term: integer (nullable = true)\n",
      " |-- Credit_History: integer (nullable = true)\n",
      " |-- Property_Area: string (nullable = true)\n",
      " |-- Loan_Status: string (nullable = true)\n",
      "\n"
     ]
    }
   ],
   "source": [
    "# Display data schema\n",
    "loan_data.printSchema()"
   ]
  },
  {
   "cell_type": "code",
   "execution_count": 3,
   "id": "a9ba2f6b-2252-4f46-ba50-8e510e810ea2",
   "metadata": {},
   "outputs": [
    {
     "name": "stdout",
     "output_type": "stream",
     "text": [
      "+--------+------+-------+----------+------------+-------------+---------------+-----------------+----------+----------------+--------------+-------------+-----------+\n",
      "| Loan_ID|Gender|Married|Dependents|   Education|Self_Employed|ApplicantIncome|CoapplicantIncome|LoanAmount|Loan_Amount_Term|Credit_History|Property_Area|Loan_Status|\n",
      "+--------+------+-------+----------+------------+-------------+---------------+-----------------+----------+----------------+--------------+-------------+-----------+\n",
      "|LP001002|  Male|     No|         0|    Graduate|           No|           5849|              0.0|      NULL|             360|             1|        Urban|          Y|\n",
      "|LP001003|  Male|    Yes|         1|    Graduate|           No|           4583|           1508.0|       128|             360|             1|        Rural|          N|\n",
      "|LP001005|  Male|    Yes|         0|    Graduate|          Yes|           3000|              0.0|        66|             360|             1|        Urban|          Y|\n",
      "|LP001006|  Male|    Yes|         0|Not Graduate|           No|           2583|           2358.0|       120|             360|             1|        Urban|          Y|\n",
      "|LP001008|  Male|     No|         0|    Graduate|           No|           6000|              0.0|       141|             360|             1|        Urban|          Y|\n",
      "|LP001011|  Male|    Yes|         2|    Graduate|          Yes|           5417|           4196.0|       267|             360|             1|        Urban|          Y|\n",
      "|LP001013|  Male|    Yes|         0|Not Graduate|           No|           2333|           1516.0|        95|             360|             1|        Urban|          Y|\n",
      "|LP001014|  Male|    Yes|        3+|    Graduate|           No|           3036|           2504.0|       158|             360|             0|    Semiurban|          N|\n",
      "|LP001018|  Male|    Yes|         2|    Graduate|           No|           4006|           1526.0|       168|             360|             1|        Urban|          Y|\n",
      "|LP001020|  Male|    Yes|         1|    Graduate|           No|          12841|          10968.0|       349|             360|             1|    Semiurban|          N|\n",
      "|LP001024|  Male|    Yes|         2|    Graduate|           No|           3200|            700.0|        70|             360|             1|        Urban|          Y|\n",
      "|LP001027|  Male|    Yes|         2|    Graduate|         NULL|           2500|           1840.0|       109|             360|             1|        Urban|          Y|\n",
      "|LP001028|  Male|    Yes|         2|    Graduate|           No|           3073|           8106.0|       200|             360|             1|        Urban|          Y|\n",
      "|LP001029|  Male|     No|         0|    Graduate|           No|           1853|           2840.0|       114|             360|             1|        Rural|          N|\n",
      "|LP001030|  Male|    Yes|         2|    Graduate|           No|           1299|           1086.0|        17|             120|             1|        Urban|          Y|\n",
      "|LP001032|  Male|     No|         0|    Graduate|           No|           4950|              0.0|       125|             360|             1|        Urban|          Y|\n",
      "|LP001034|  Male|     No|         1|Not Graduate|           No|           3596|              0.0|       100|             240|          NULL|        Urban|          Y|\n",
      "|LP001036|Female|     No|         0|    Graduate|           No|           3510|              0.0|        76|             360|             0|        Urban|          N|\n",
      "|LP001038|  Male|    Yes|         0|Not Graduate|           No|           4887|              0.0|       133|             360|             1|        Rural|          N|\n",
      "|LP001041|  Male|    Yes|         0|    Graduate|         NULL|           2600|           3500.0|       115|            NULL|             1|        Urban|          Y|\n",
      "+--------+------+-------+----------+------------+-------------+---------------+-----------------+----------+----------------+--------------+-------------+-----------+\n",
      "only showing top 20 rows\n",
      "\n"
     ]
    }
   ],
   "source": [
    "loan_data.show()"
   ]
  },
  {
   "cell_type": "code",
   "execution_count": 4,
   "id": "b5c5c08f-1058-426d-8c5c-f2277290c9d1",
   "metadata": {},
   "outputs": [],
   "source": [
    "# Train/test split\n",
    "train_data, test_data = loan_data.randomSplit([0.8, 0.2], seed=42)\n"
   ]
  },
  {
   "cell_type": "code",
   "execution_count": 14,
   "id": "ead50fb8-579e-4bcd-adde-f70299f39390",
   "metadata": {},
   "outputs": [
    {
     "name": "stdout",
     "output_type": "stream",
     "text": [
      "Feature columns: ['Gender_vec', 'Married_vec', 'Dependents_vec', 'Education_vec', 'Self_Employed_vec', 'Property_Area_vec', 'LoanAmount_imputed', 'Loan_Amount_Term_imputed', 'Credit_History_imputed', 'ApplicantIncome', 'CoapplicantIncome']\n"
     ]
    }
   ],
   "source": [
    "from pyspark.ml.feature import Imputer, StringIndexer, OneHotEncoder, VectorAssembler\n",
    "from pyspark.ml.classification import DecisionTreeClassifier\n",
    "from pyspark.ml import Pipeline\n",
    "\n",
    "pipeline_stages = []\n",
    "\n",
    "# Impute numerical columns\n",
    "imputer_columns = ['LoanAmount', 'Loan_Amount_Term', 'Credit_History']\n",
    "imputed_columns = [f'{c}_imputed' for c in imputer_columns]\n",
    "# Replace null values with column median\n",
    "imputer = Imputer(\n",
    "    inputCols=imputer_columns,\n",
    "    outputCols=imputed_columns,\n",
    "    strategy='median'\n",
    ")\n",
    "pipeline_stages.append(imputer)\n",
    "\n",
    "# Transform categorical columns to one-hot encoded vectors\n",
    "categorical_columns =  ['Gender', 'Married', 'Dependents', 'Education', 'Self_Employed', 'Property_Area']\n",
    "\n",
    "for col in categorical_columns:\n",
    "    string_indexer = StringIndexer(inputCol=col, outputCol= col + '_index', handleInvalid='keep')\n",
    "    \n",
    "    encoder = OneHotEncoder(inputCol=string_indexer.getOutputCol(), outputCol=col + '_vec', dropLast=False)\n",
    "    \n",
    "    pipeline_stages += [string_indexer, encoder]\n",
    "\n",
    "pipeline_stages.append(StringIndexer(inputCol='Loan_Status', outputCol= 'Loan_Status_index'))\n",
    "\n",
    "\n",
    "# Get a list of all features\n",
    "feature_cols = [f'{col}_vec' for col in categorical_columns] + \\\n",
    "    imputed_columns + \\\n",
    "    ['ApplicantIncome', 'CoapplicantIncome']\n",
    "    \n",
    "print('Feature columns: ' + str(feature_cols))\n",
    "\n",
    "# Create feature vectors\n",
    "assembler = VectorAssembler(inputCols=feature_cols, outputCol=\"features\")\n",
    "pipeline_stages.append(assembler)\n",
    "\n",
    "# Create a classifier\n",
    "dtc = DecisionTreeClassifier(featuresCol='features', labelCol='Loan_Status_index')\n",
    "pipeline_stages.append(dtc)\n",
    "\n",
    "# Create the pipeline\n",
    "pipeline = Pipeline(stages=pipeline_stages)"
   ]
  },
  {
   "cell_type": "code",
   "execution_count": 15,
   "id": "cf373fc4-1a64-460e-9ff6-f38c314a6a7c",
   "metadata": {},
   "outputs": [
    {
     "name": "stdout",
     "output_type": "stream",
     "text": [
      "+--------+------+-------+----------+------------+-------------+---------------+-----------------+----------+----------------+--------------+-------------+-----------+\n",
      "| Loan_ID|Gender|Married|Dependents|   Education|Self_Employed|ApplicantIncome|CoapplicantIncome|LoanAmount|Loan_Amount_Term|Credit_History|Property_Area|Loan_Status|\n",
      "+--------+------+-------+----------+------------+-------------+---------------+-----------------+----------+----------------+--------------+-------------+-----------+\n",
      "|LP001002|  Male|     No|         0|    Graduate|           No|           5849|              0.0|      NULL|             360|             1|        Urban|          Y|\n",
      "|LP001003|  Male|    Yes|         1|    Graduate|           No|           4583|           1508.0|       128|             360|             1|        Rural|          N|\n",
      "|LP001005|  Male|    Yes|         0|    Graduate|          Yes|           3000|              0.0|        66|             360|             1|        Urban|          Y|\n",
      "|LP001006|  Male|    Yes|         0|Not Graduate|           No|           2583|           2358.0|       120|             360|             1|        Urban|          Y|\n",
      "|LP001008|  Male|     No|         0|    Graduate|           No|           6000|              0.0|       141|             360|             1|        Urban|          Y|\n",
      "|LP001011|  Male|    Yes|         2|    Graduate|          Yes|           5417|           4196.0|       267|             360|             1|        Urban|          Y|\n",
      "|LP001013|  Male|    Yes|         0|Not Graduate|           No|           2333|           1516.0|        95|             360|             1|        Urban|          Y|\n",
      "|LP001014|  Male|    Yes|        3+|    Graduate|           No|           3036|           2504.0|       158|             360|             0|    Semiurban|          N|\n",
      "|LP001018|  Male|    Yes|         2|    Graduate|           No|           4006|           1526.0|       168|             360|             1|        Urban|          Y|\n",
      "|LP001020|  Male|    Yes|         1|    Graduate|           No|          12841|          10968.0|       349|             360|             1|    Semiurban|          N|\n",
      "|LP001024|  Male|    Yes|         2|    Graduate|           No|           3200|            700.0|        70|             360|             1|        Urban|          Y|\n",
      "|LP001027|  Male|    Yes|         2|    Graduate|         NULL|           2500|           1840.0|       109|             360|             1|        Urban|          Y|\n",
      "|LP001028|  Male|    Yes|         2|    Graduate|           No|           3073|           8106.0|       200|             360|             1|        Urban|          Y|\n",
      "|LP001029|  Male|     No|         0|    Graduate|           No|           1853|           2840.0|       114|             360|             1|        Rural|          N|\n",
      "|LP001030|  Male|    Yes|         2|    Graduate|           No|           1299|           1086.0|        17|             120|             1|        Urban|          Y|\n",
      "|LP001032|  Male|     No|         0|    Graduate|           No|           4950|              0.0|       125|             360|             1|        Urban|          Y|\n",
      "|LP001034|  Male|     No|         1|Not Graduate|           No|           3596|              0.0|       100|             240|          NULL|        Urban|          Y|\n",
      "|LP001036|Female|     No|         0|    Graduate|           No|           3510|              0.0|        76|             360|             0|        Urban|          N|\n",
      "|LP001038|  Male|    Yes|         0|Not Graduate|           No|           4887|              0.0|       133|             360|             1|        Rural|          N|\n",
      "|LP001041|  Male|    Yes|         0|    Graduate|         NULL|           2600|           3500.0|       115|            NULL|             1|        Urban|          Y|\n",
      "+--------+------+-------+----------+------------+-------------+---------------+-----------------+----------+----------------+--------------+-------------+-----------+\n",
      "only showing top 20 rows\n",
      "\n"
     ]
    }
   ],
   "source": [
    "loan_data.show()"
   ]
  },
  {
   "cell_type": "code",
   "execution_count": 16,
   "id": "01850103-4f2c-414f-963e-1be5ae185eda",
   "metadata": {},
   "outputs": [],
   "source": [
    "# Train the model\n",
    "pipeline_model = pipeline.fit(train_data)"
   ]
  },
  {
   "cell_type": "code",
   "execution_count": 17,
   "id": "7d6391f0-3ef6-4566-ae74-11e4bc98ae93",
   "metadata": {},
   "outputs": [
    {
     "name": "stdout",
     "output_type": "stream",
     "text": [
      "Accuracy = 76.29%\n"
     ]
    }
   ],
   "source": [
    "from pyspark.ml.evaluation import MulticlassClassificationEvaluator\n",
    "\n",
    "# Evaluate the model\n",
    "predictions = pipeline_model.transform(test_data)\n",
    "evaluator = MulticlassClassificationEvaluator(labelCol='Loan_Status_index', metricName='accuracy')\n",
    "accuracy = evaluator.evaluate(predictions) * 100\n",
    "print(f'Accuracy = {accuracy:.2f}%')\n"
   ]
  },
  {
   "cell_type": "code",
   "execution_count": null,
   "id": "778ecadd-0e73-414f-8a21-19e4abf81031",
   "metadata": {},
   "outputs": [],
   "source": []
  }
 ],
 "metadata": {
  "kernelspec": {
   "display_name": "Python 3 (ipykernel)",
   "language": "python",
   "name": "python3"
  },
  "language_info": {
   "codemirror_mode": {
    "name": "ipython",
    "version": 3
   },
   "file_extension": ".py",
   "mimetype": "text/x-python",
   "name": "python",
   "nbconvert_exporter": "python",
   "pygments_lexer": "ipython3",
   "version": "3.12.7"
  }
 },
 "nbformat": 4,
 "nbformat_minor": 5
}
