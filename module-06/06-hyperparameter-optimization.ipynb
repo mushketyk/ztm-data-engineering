{
 "cells": [
  {
   "cell_type": "code",
   "execution_count": 1,
   "id": "53eb4614-6b2e-4c33-8822-c230a9dba13b",
   "metadata": {},
   "outputs": [
    {
     "name": "stderr",
     "output_type": "stream",
     "text": [
      "24/10/15 23:02:48 WARN SparkSession: Using an existing Spark session; only runtime SQL configurations will take effect.\n"
     ]
    }
   ],
   "source": [
    "from pyspark.sql import SparkSession\n",
    "\n",
    "spark = SparkSession \\\n",
    "  .builder \\\n",
    "  .appName(\"Hyperparameter optimization\") \\\n",
    "  .getOrCreate()"
   ]
  },
  {
   "cell_type": "code",
   "execution_count": 2,
   "id": "af281fdf-a02b-4602-9c29-c0d22a726ecd",
   "metadata": {},
   "outputs": [],
   "source": [
    "data = spark.read.csv(\"data/hotel-reservations.csv\", header=True, inferSchema=True)"
   ]
  },
  {
   "cell_type": "code",
   "execution_count": 3,
   "id": "c14d638e-be68-44e2-bebf-f06077cf1cce",
   "metadata": {},
   "outputs": [
    {
     "name": "stdout",
     "output_type": "stream",
     "text": [
      "Train size:  29040\n",
      "Test size:  7235\n"
     ]
    }
   ],
   "source": [
    "train_data, test_data = data.randomSplit([0.8, 0.2], seed=42)\n",
    "print(\"Train size: \", train_data.count())\n",
    "print(\"Test size: \", test_data.count())"
   ]
  },
  {
   "cell_type": "code",
   "execution_count": 6,
   "id": "0deaa33e-2509-469a-9b69-ce9bace913ab",
   "metadata": {},
   "outputs": [],
   "source": [
    "stages = []"
   ]
  },
  {
   "cell_type": "code",
   "execution_count": 7,
   "id": "6c567350-0cdf-4d1f-82f5-77871e985665",
   "metadata": {},
   "outputs": [
    {
     "name": "stdout",
     "output_type": "stream",
     "text": [
      "StringIndexer type_of_meal_plan -> type_of_meal_plan_index\n",
      "OneHotEncoder type_of_meal_plan_index -> type_of_meal_plan_vec\n",
      "\n",
      "StringIndexer room_type_reserved -> room_type_reserved_index\n",
      "OneHotEncoder room_type_reserved_index -> room_type_reserved_vec\n",
      "\n",
      "StringIndexer arrival_month -> arrival_month_index\n",
      "OneHotEncoder arrival_month_index -> arrival_month_vec\n",
      "\n",
      "StringIndexer market_segment_type -> market_segment_type_index\n",
      "OneHotEncoder market_segment_type_index -> market_segment_type_vec\n",
      "\n"
     ]
    }
   ],
   "source": [
    "from pyspark.ml.feature import StringIndexer, OneHotEncoder \n",
    "\n",
    "categorical_cols = ['type_of_meal_plan', 'room_type_reserved', 'arrival_month', 'market_segment_type']\n",
    "\n",
    "for col in categorical_cols:\n",
    "    string_indexer = StringIndexer(inputCol=col, outputCol= col + '_index')\n",
    "    print(f'StringIndexer {string_indexer.getInputCol()} -> {string_indexer.getOutputCol()}')\n",
    "    \n",
    "    encoder = OneHotEncoder(inputCol=string_indexer.getOutputCol(), outputCol=col + '_vec', dropLast=False)\n",
    "    print(f'OneHotEncoder {encoder.getInputCol()} -> {encoder.getOutputCol()}')\n",
    "    print()\n",
    "    \n",
    "    stages += [string_indexer, encoder]"
   ]
  },
  {
   "cell_type": "code",
   "execution_count": 8,
   "id": "8cb6cf8a-7af5-42a5-9746-565dbaa56079",
   "metadata": {},
   "outputs": [],
   "source": [
    "stages += [StringIndexer(inputCol='booking_status', outputCol= 'booking_status_index')]"
   ]
  },
  {
   "cell_type": "code",
   "execution_count": 9,
   "id": "85119be4-9155-485d-97d9-c4594e1ea2e5",
   "metadata": {},
   "outputs": [
    {
     "data": {
      "text/plain": [
       "['type_of_meal_plan_vec',\n",
       " 'room_type_reserved_vec',\n",
       " 'arrival_month_vec',\n",
       " 'market_segment_type_vec']"
      ]
     },
     "execution_count": 9,
     "metadata": {},
     "output_type": "execute_result"
    }
   ],
   "source": [
    "encoded_categorical_cols = [col + \"_vec\" for col in categorical_cols]\n",
    "encoded_categorical_cols"
   ]
  },
  {
   "cell_type": "code",
   "execution_count": 10,
   "id": "8c15faf0-f3cf-471c-8197-94c2911566c4",
   "metadata": {},
   "outputs": [],
   "source": [
    "numeric_cols = ['no_of_adults', 'no_of_children', 'no_of_weekend_nights', 'no_of_week_nights',\n",
    "               'required_car_parking_space', 'lead_time',\n",
    "               'repeated_guest', 'no_of_previous_cancellations', 'no_of_previous_bookings_not_canceled',\n",
    "               'avg_price_per_room', 'no_of_special_requests'] "
   ]
  },
  {
   "cell_type": "code",
   "execution_count": 11,
   "id": "d2dffe07-ad1c-45a1-b7d3-ae8495b01caf",
   "metadata": {},
   "outputs": [
    {
     "data": {
      "text/plain": [
       "['type_of_meal_plan_vec',\n",
       " 'room_type_reserved_vec',\n",
       " 'arrival_month_vec',\n",
       " 'market_segment_type_vec',\n",
       " 'no_of_adults',\n",
       " 'no_of_children',\n",
       " 'no_of_weekend_nights',\n",
       " 'no_of_week_nights',\n",
       " 'required_car_parking_space',\n",
       " 'lead_time',\n",
       " 'repeated_guest',\n",
       " 'no_of_previous_cancellations',\n",
       " 'no_of_previous_bookings_not_canceled',\n",
       " 'avg_price_per_room',\n",
       " 'no_of_special_requests']"
      ]
     },
     "execution_count": 11,
     "metadata": {},
     "output_type": "execute_result"
    }
   ],
   "source": [
    "input_columns = encoded_categorical_cols + numeric_cols\n",
    "input_columns"
   ]
  },
  {
   "cell_type": "code",
   "execution_count": 12,
   "id": "10e9a5f9-c973-4f96-b764-052ead157c9e",
   "metadata": {},
   "outputs": [],
   "source": [
    "from pyspark.ml.feature import VectorAssembler\n",
    "\n",
    "assembler = VectorAssembler(inputCols=input_columns, outputCol='features')\n",
    "\n",
    "stages.append(assembler)"
   ]
  },
  {
   "cell_type": "code",
   "execution_count": null,
   "id": "0c891b8b-d1f9-481f-a45f-e9915bab6ea0",
   "metadata": {},
   "outputs": [],
   "source": []
  },
  {
   "cell_type": "code",
   "execution_count": 13,
   "id": "a1ad2d6f-9fd5-403c-b8bf-686f578d26a5",
   "metadata": {},
   "outputs": [],
   "source": [
    "from pyspark.ml.classification import GBTClassifier\n",
    "\n",
    "gbt = GBTClassifier(featuresCol='features', labelCol='booking_status_index', maxIter=10)\n",
    "\n",
    "stages.append(gbt)"
   ]
  },
  {
   "cell_type": "code",
   "execution_count": 14,
   "id": "e07506f7-0bde-449d-93c1-c20b5c6d87e5",
   "metadata": {},
   "outputs": [],
   "source": [
    "from pyspark.ml import Pipeline\n",
    "\n",
    "pipeline = Pipeline(stages=stages)"
   ]
  },
  {
   "cell_type": "code",
   "execution_count": 15,
   "id": "2ada0719-b3d2-42e2-8840-6c0388a11a85",
   "metadata": {},
   "outputs": [
    {
     "name": "stderr",
     "output_type": "stream",
     "text": [
      "24/10/15 23:03:12 WARN InstanceBuilder: Failed to load implementation from:dev.ludovic.netlib.blas.JNIBLAS\n",
      "24/10/15 23:03:12 WARN InstanceBuilder: Failed to load implementation from:dev.ludovic.netlib.blas.VectorBLAS\n",
      "24/10/15 23:03:43 WARN DAGScheduler: Broadcasting large task binary with size 1027.2 KiB\n",
      "24/10/15 23:03:43 WARN DAGScheduler: Broadcasting large task binary with size 1020.0 KiB\n",
      "24/10/15 23:03:43 WARN DAGScheduler: Broadcasting large task binary with size 1020.5 KiB\n",
      "24/10/15 23:03:43 WARN DAGScheduler: Broadcasting large task binary with size 1021.0 KiB\n",
      "24/10/15 23:03:44 WARN DAGScheduler: Broadcasting large task binary with size 1022.3 KiB\n",
      "24/10/15 23:03:44 WARN DAGScheduler: Broadcasting large task binary with size 1024.5 KiB\n",
      "24/10/15 23:03:44 WARN DAGScheduler: Broadcasting large task binary with size 1028.3 KiB\n",
      "24/10/15 23:03:44 WARN DAGScheduler: Broadcasting large task binary with size 1035.7 KiB\n",
      "24/10/15 23:03:44 WARN DAGScheduler: Broadcasting large task binary with size 1049.6 KiB\n",
      "24/10/15 23:03:44 WARN DAGScheduler: Broadcasting large task binary with size 1071.7 KiB\n",
      "24/10/15 23:03:44 WARN DAGScheduler: Broadcasting large task binary with size 1103.5 KiB\n",
      "24/10/15 23:03:44 WARN DAGScheduler: Broadcasting large task binary with size 1096.8 KiB\n",
      "24/10/15 23:03:44 WARN DAGScheduler: Broadcasting large task binary with size 1097.3 KiB\n",
      "24/10/15 23:03:44 WARN DAGScheduler: Broadcasting large task binary with size 1097.8 KiB\n",
      "24/10/15 23:03:44 WARN DAGScheduler: Broadcasting large task binary with size 1099.0 KiB\n",
      "24/10/15 23:03:44 WARN DAGScheduler: Broadcasting large task binary with size 1101.3 KiB\n",
      "24/10/15 23:03:44 WARN DAGScheduler: Broadcasting large task binary with size 1105.6 KiB\n",
      "24/10/15 23:03:44 WARN DAGScheduler: Broadcasting large task binary with size 1113.4 KiB\n",
      "24/10/15 23:03:44 WARN DAGScheduler: Broadcasting large task binary with size 1127.4 KiB\n",
      "24/10/15 23:03:44 WARN DAGScheduler: Broadcasting large task binary with size 1149.9 KiB\n",
      "24/10/15 23:03:44 WARN DAGScheduler: Broadcasting large task binary with size 1184.5 KiB\n",
      "24/10/15 23:03:44 WARN DAGScheduler: Broadcasting large task binary with size 1179.3 KiB\n",
      "24/10/15 23:03:45 WARN DAGScheduler: Broadcasting large task binary with size 1179.8 KiB\n",
      "24/10/15 23:03:45 WARN DAGScheduler: Broadcasting large task binary with size 1180.3 KiB\n",
      "24/10/15 23:03:45 WARN DAGScheduler: Broadcasting large task binary with size 1181.5 KiB\n",
      "24/10/15 23:03:45 WARN DAGScheduler: Broadcasting large task binary with size 1183.8 KiB\n",
      "24/10/15 23:03:45 WARN DAGScheduler: Broadcasting large task binary with size 1187.9 KiB\n",
      "24/10/15 23:03:45 WARN DAGScheduler: Broadcasting large task binary with size 1195.6 KiB\n",
      "24/10/15 23:03:45 WARN DAGScheduler: Broadcasting large task binary with size 1209.4 KiB\n",
      "24/10/15 23:03:45 WARN DAGScheduler: Broadcasting large task binary with size 1231.3 KiB\n",
      "24/10/15 23:03:45 WARN DAGScheduler: Broadcasting large task binary with size 1264.7 KiB\n",
      "24/10/15 23:03:45 WARN DAGScheduler: Broadcasting large task binary with size 1258.6 KiB\n",
      "24/10/15 23:03:46 WARN DAGScheduler: Broadcasting large task binary with size 1259.0 KiB\n",
      "24/10/15 23:03:46 WARN DAGScheduler: Broadcasting large task binary with size 1259.6 KiB\n",
      "24/10/15 23:03:46 WARN DAGScheduler: Broadcasting large task binary with size 1260.8 KiB\n",
      "24/10/15 23:03:46 WARN DAGScheduler: Broadcasting large task binary with size 1263.1 KiB\n",
      "24/10/15 23:03:46 WARN DAGScheduler: Broadcasting large task binary with size 1267.5 KiB\n",
      "24/10/15 23:03:46 WARN DAGScheduler: Broadcasting large task binary with size 1274.7 KiB\n",
      "24/10/15 23:03:46 WARN DAGScheduler: Broadcasting large task binary with size 1287.8 KiB\n",
      "24/10/15 23:03:46 WARN DAGScheduler: Broadcasting large task binary with size 1308.4 KiB\n",
      "24/10/15 23:03:46 WARN DAGScheduler: Broadcasting large task binary with size 1339.1 KiB\n",
      "24/10/15 23:03:46 WARN DAGScheduler: Broadcasting large task binary with size 1333.2 KiB\n",
      "24/10/15 23:03:46 WARN DAGScheduler: Broadcasting large task binary with size 1333.6 KiB\n",
      "24/10/15 23:03:46 WARN DAGScheduler: Broadcasting large task binary with size 1334.2 KiB\n",
      "24/10/15 23:03:46 WARN DAGScheduler: Broadcasting large task binary with size 1335.4 KiB\n",
      "24/10/15 23:03:46 WARN DAGScheduler: Broadcasting large task binary with size 1337.7 KiB\n",
      "24/10/15 23:03:46 WARN DAGScheduler: Broadcasting large task binary with size 1342.0 KiB\n",
      "24/10/15 23:03:46 WARN DAGScheduler: Broadcasting large task binary with size 1349.4 KiB\n",
      "24/10/15 23:03:46 WARN DAGScheduler: Broadcasting large task binary with size 1363.1 KiB\n",
      "24/10/15 23:03:46 WARN DAGScheduler: Broadcasting large task binary with size 1384.0 KiB\n",
      "24/10/15 23:03:47 WARN DAGScheduler: Broadcasting large task binary with size 1415.4 KiB\n",
      "24/10/15 23:03:47 WARN DAGScheduler: Broadcasting large task binary with size 1412.0 KiB\n",
      "24/10/15 23:03:47 WARN DAGScheduler: Broadcasting large task binary with size 1412.4 KiB\n",
      "24/10/15 23:03:47 WARN DAGScheduler: Broadcasting large task binary with size 1413.0 KiB\n",
      "24/10/15 23:03:47 WARN DAGScheduler: Broadcasting large task binary with size 1414.2 KiB\n",
      "24/10/15 23:03:47 WARN DAGScheduler: Broadcasting large task binary with size 1416.5 KiB\n",
      "24/10/15 23:03:47 WARN DAGScheduler: Broadcasting large task binary with size 1420.5 KiB\n",
      "24/10/15 23:03:47 WARN DAGScheduler: Broadcasting large task binary with size 1427.3 KiB\n",
      "24/10/15 23:03:47 WARN DAGScheduler: Broadcasting large task binary with size 1439.3 KiB\n",
      "24/10/15 23:03:47 WARN DAGScheduler: Broadcasting large task binary with size 1459.3 KiB\n",
      "24/10/15 23:03:47 WARN DAGScheduler: Broadcasting large task binary with size 1491.9 KiB\n",
      "24/10/15 23:03:47 WARN DAGScheduler: Broadcasting large task binary with size 1489.3 KiB\n",
      "24/10/15 23:03:47 WARN DAGScheduler: Broadcasting large task binary with size 1489.8 KiB\n",
      "24/10/15 23:03:47 WARN DAGScheduler: Broadcasting large task binary with size 1490.4 KiB\n",
      "24/10/15 23:03:48 WARN DAGScheduler: Broadcasting large task binary with size 1491.6 KiB\n",
      "24/10/15 23:03:48 WARN DAGScheduler: Broadcasting large task binary with size 1493.9 KiB\n",
      "24/10/15 23:03:48 WARN DAGScheduler: Broadcasting large task binary with size 1498.0 KiB\n",
      "24/10/15 23:03:48 WARN DAGScheduler: Broadcasting large task binary with size 1505.7 KiB\n",
      "24/10/15 23:03:48 WARN DAGScheduler: Broadcasting large task binary with size 1519.3 KiB\n",
      "24/10/15 23:03:48 WARN DAGScheduler: Broadcasting large task binary with size 1541.6 KiB\n",
      "24/10/15 23:03:48 WARN DAGScheduler: Broadcasting large task binary with size 1576.8 KiB\n",
      "24/10/15 23:03:48 WARN DAGScheduler: Broadcasting large task binary with size 1573.0 KiB\n",
      "24/10/15 23:03:48 WARN DAGScheduler: Broadcasting large task binary with size 1573.5 KiB\n",
      "24/10/15 23:03:48 WARN DAGScheduler: Broadcasting large task binary with size 1574.1 KiB\n",
      "24/10/15 23:03:48 WARN DAGScheduler: Broadcasting large task binary with size 1575.3 KiB\n",
      "24/10/15 23:03:48 WARN DAGScheduler: Broadcasting large task binary with size 1577.6 KiB\n",
      "24/10/15 23:03:48 WARN DAGScheduler: Broadcasting large task binary with size 1581.6 KiB\n",
      "24/10/15 23:03:48 WARN DAGScheduler: Broadcasting large task binary with size 1589.2 KiB\n",
      "24/10/15 23:03:48 WARN DAGScheduler: Broadcasting large task binary with size 1602.0 KiB\n",
      "24/10/15 23:03:48 WARN DAGScheduler: Broadcasting large task binary with size 1623.8 KiB\n",
      "24/10/15 23:03:49 WARN DAGScheduler: Broadcasting large task binary with size 1656.5 KiB\n",
      "24/10/15 23:03:49 WARN DAGScheduler: Broadcasting large task binary with size 1651.8 KiB\n",
      "24/10/15 23:03:49 WARN DAGScheduler: Broadcasting large task binary with size 1652.3 KiB\n",
      "24/10/15 23:03:49 WARN DAGScheduler: Broadcasting large task binary with size 1652.9 KiB\n",
      "24/10/15 23:03:49 WARN DAGScheduler: Broadcasting large task binary with size 1654.1 KiB\n",
      "24/10/15 23:03:49 WARN DAGScheduler: Broadcasting large task binary with size 1656.4 KiB\n",
      "24/10/15 23:03:49 WARN DAGScheduler: Broadcasting large task binary with size 1660.2 KiB\n",
      "24/10/15 23:03:49 WARN DAGScheduler: Broadcasting large task binary with size 1667.4 KiB\n",
      "24/10/15 23:03:49 WARN DAGScheduler: Broadcasting large task binary with size 1680.3 KiB\n",
      "24/10/15 23:03:49 WARN DAGScheduler: Broadcasting large task binary with size 1701.1 KiB\n",
      "24/10/15 23:03:49 WARN DAGScheduler: Broadcasting large task binary with size 1732.5 KiB\n",
      "24/10/15 23:03:49 WARN DAGScheduler: Broadcasting large task binary with size 1723.3 KiB\n",
      "24/10/15 23:03:55 WARN DAGScheduler: Broadcasting large task binary with size 1001.3 KiB\n",
      "24/10/15 23:03:55 WARN DAGScheduler: Broadcasting large task binary with size 1035.8 KiB\n",
      "24/10/15 23:03:55 WARN DAGScheduler: Broadcasting large task binary with size 1030.2 KiB\n",
      "24/10/15 23:03:55 WARN DAGScheduler: Broadcasting large task binary with size 1030.7 KiB\n",
      "24/10/15 23:03:55 WARN DAGScheduler: Broadcasting large task binary with size 1031.3 KiB\n",
      "24/10/15 23:03:56 WARN DAGScheduler: Broadcasting large task binary with size 1032.5 KiB\n",
      "24/10/15 23:03:56 WARN DAGScheduler: Broadcasting large task binary with size 1034.8 KiB\n",
      "24/10/15 23:03:56 WARN DAGScheduler: Broadcasting large task binary with size 1038.8 KiB\n",
      "24/10/15 23:03:56 WARN DAGScheduler: Broadcasting large task binary with size 1045.6 KiB\n",
      "24/10/15 23:03:56 WARN DAGScheduler: Broadcasting large task binary with size 1058.2 KiB\n",
      "24/10/15 23:03:56 WARN DAGScheduler: Broadcasting large task binary with size 1078.6 KiB\n",
      "24/10/15 23:03:56 WARN DAGScheduler: Broadcasting large task binary with size 1111.6 KiB\n",
      "24/10/15 23:03:56 WARN DAGScheduler: Broadcasting large task binary with size 1107.2 KiB\n",
      "24/10/15 23:03:56 WARN DAGScheduler: Broadcasting large task binary with size 1107.7 KiB\n",
      "24/10/15 23:03:56 WARN DAGScheduler: Broadcasting large task binary with size 1108.3 KiB\n",
      "24/10/15 23:03:56 WARN DAGScheduler: Broadcasting large task binary with size 1109.5 KiB\n",
      "24/10/15 23:03:56 WARN DAGScheduler: Broadcasting large task binary with size 1111.8 KiB\n",
      "24/10/15 23:03:56 WARN DAGScheduler: Broadcasting large task binary with size 1115.9 KiB\n",
      "24/10/15 23:03:56 WARN DAGScheduler: Broadcasting large task binary with size 1123.2 KiB\n",
      "24/10/15 23:03:56 WARN DAGScheduler: Broadcasting large task binary with size 1136.9 KiB\n",
      "24/10/15 23:03:56 WARN DAGScheduler: Broadcasting large task binary with size 1159.3 KiB\n",
      "24/10/15 23:03:56 WARN DAGScheduler: Broadcasting large task binary with size 1194.1 KiB\n",
      "24/10/15 23:03:56 WARN DAGScheduler: Broadcasting large task binary with size 1189.5 KiB\n",
      "24/10/15 23:03:57 WARN DAGScheduler: Broadcasting large task binary with size 1190.0 KiB\n",
      "24/10/15 23:03:57 WARN DAGScheduler: Broadcasting large task binary with size 1190.5 KiB\n",
      "24/10/15 23:03:57 WARN DAGScheduler: Broadcasting large task binary with size 1191.7 KiB\n",
      "24/10/15 23:03:57 WARN DAGScheduler: Broadcasting large task binary with size 1194.1 KiB\n",
      "24/10/15 23:03:57 WARN DAGScheduler: Broadcasting large task binary with size 1197.8 KiB\n",
      "24/10/15 23:03:57 WARN DAGScheduler: Broadcasting large task binary with size 1205.0 KiB\n",
      "24/10/15 23:03:57 WARN DAGScheduler: Broadcasting large task binary with size 1218.6 KiB\n",
      "24/10/15 23:03:57 WARN DAGScheduler: Broadcasting large task binary with size 1241.1 KiB\n",
      "24/10/15 23:03:57 WARN DAGScheduler: Broadcasting large task binary with size 1276.3 KiB\n",
      "24/10/15 23:03:57 WARN DAGScheduler: Broadcasting large task binary with size 1272.1 KiB\n",
      "24/10/15 23:03:57 WARN DAGScheduler: Broadcasting large task binary with size 1272.6 KiB\n",
      "24/10/15 23:03:57 WARN DAGScheduler: Broadcasting large task binary with size 1273.1 KiB\n",
      "24/10/15 23:03:57 WARN DAGScheduler: Broadcasting large task binary with size 1274.3 KiB\n",
      "24/10/15 23:03:57 WARN DAGScheduler: Broadcasting large task binary with size 1276.6 KiB\n",
      "24/10/15 23:03:57 WARN DAGScheduler: Broadcasting large task binary with size 1280.4 KiB\n",
      "24/10/15 23:03:57 WARN DAGScheduler: Broadcasting large task binary with size 1287.5 KiB\n",
      "24/10/15 23:03:58 WARN DAGScheduler: Broadcasting large task binary with size 1300.5 KiB\n",
      "24/10/15 23:03:58 WARN DAGScheduler: Broadcasting large task binary with size 1323.7 KiB\n",
      "24/10/15 23:03:58 WARN DAGScheduler: Broadcasting large task binary with size 1358.3 KiB\n",
      "24/10/15 23:03:58 WARN DAGScheduler: Broadcasting large task binary with size 1354.1 KiB\n",
      "24/10/15 23:03:58 WARN DAGScheduler: Broadcasting large task binary with size 1354.6 KiB\n",
      "24/10/15 23:03:58 WARN DAGScheduler: Broadcasting large task binary with size 1355.2 KiB\n",
      "24/10/15 23:03:58 WARN DAGScheduler: Broadcasting large task binary with size 1356.4 KiB\n",
      "24/10/15 23:03:58 WARN DAGScheduler: Broadcasting large task binary with size 1358.7 KiB\n",
      "24/10/15 23:03:58 WARN DAGScheduler: Broadcasting large task binary with size 1362.9 KiB\n",
      "24/10/15 23:03:58 WARN DAGScheduler: Broadcasting large task binary with size 1370.6 KiB\n",
      "24/10/15 23:03:58 WARN DAGScheduler: Broadcasting large task binary with size 1383.9 KiB\n",
      "24/10/15 23:03:58 WARN DAGScheduler: Broadcasting large task binary with size 1407.0 KiB\n",
      "24/10/15 23:03:58 WARN DAGScheduler: Broadcasting large task binary with size 1443.3 KiB\n",
      "24/10/15 23:03:58 WARN DAGScheduler: Broadcasting large task binary with size 1440.3 KiB\n",
      "24/10/15 23:03:59 WARN DAGScheduler: Broadcasting large task binary with size 1440.8 KiB\n",
      "24/10/15 23:03:59 WARN DAGScheduler: Broadcasting large task binary with size 1441.4 KiB\n",
      "24/10/15 23:03:59 WARN DAGScheduler: Broadcasting large task binary with size 1442.6 KiB\n",
      "24/10/15 23:03:59 WARN DAGScheduler: Broadcasting large task binary with size 1444.9 KiB\n",
      "24/10/15 23:03:59 WARN DAGScheduler: Broadcasting large task binary with size 1448.9 KiB\n",
      "24/10/15 23:03:59 WARN DAGScheduler: Broadcasting large task binary with size 1456.5 KiB\n",
      "24/10/15 23:03:59 WARN DAGScheduler: Broadcasting large task binary with size 1470.1 KiB\n",
      "24/10/15 23:03:59 WARN DAGScheduler: Broadcasting large task binary with size 1492.8 KiB\n",
      "24/10/15 23:03:59 WARN DAGScheduler: Broadcasting large task binary with size 1527.8 KiB\n",
      "24/10/15 23:03:59 WARN DAGScheduler: Broadcasting large task binary with size 1524.0 KiB\n",
      "24/10/15 23:03:59 WARN DAGScheduler: Broadcasting large task binary with size 1524.5 KiB\n",
      "24/10/15 23:03:59 WARN DAGScheduler: Broadcasting large task binary with size 1525.0 KiB\n",
      "24/10/15 23:03:59 WARN DAGScheduler: Broadcasting large task binary with size 1526.2 KiB\n",
      "24/10/15 23:03:59 WARN DAGScheduler: Broadcasting large task binary with size 1528.5 KiB\n",
      "24/10/15 23:03:59 WARN DAGScheduler: Broadcasting large task binary with size 1532.3 KiB\n",
      "24/10/15 23:03:59 WARN DAGScheduler: Broadcasting large task binary with size 1539.6 KiB\n",
      "24/10/15 23:04:00 WARN DAGScheduler: Broadcasting large task binary with size 1552.7 KiB\n",
      "24/10/15 23:04:00 WARN DAGScheduler: Broadcasting large task binary with size 1574.1 KiB\n",
      "24/10/15 23:04:00 WARN DAGScheduler: Broadcasting large task binary with size 1606.4 KiB\n",
      "24/10/15 23:04:00 WARN DAGScheduler: Broadcasting large task binary with size 1602.2 KiB\n",
      "24/10/15 23:04:00 WARN DAGScheduler: Broadcasting large task binary with size 1602.7 KiB\n",
      "24/10/15 23:04:00 WARN DAGScheduler: Broadcasting large task binary with size 1603.3 KiB\n",
      "24/10/15 23:04:00 WARN DAGScheduler: Broadcasting large task binary with size 1604.5 KiB\n",
      "24/10/15 23:04:00 WARN DAGScheduler: Broadcasting large task binary with size 1606.8 KiB\n",
      "24/10/15 23:04:00 WARN DAGScheduler: Broadcasting large task binary with size 1610.8 KiB\n",
      "24/10/15 23:04:00 WARN DAGScheduler: Broadcasting large task binary with size 1618.2 KiB\n",
      "24/10/15 23:04:00 WARN DAGScheduler: Broadcasting large task binary with size 1632.4 KiB\n",
      "24/10/15 23:04:00 WARN DAGScheduler: Broadcasting large task binary with size 1655.0 KiB\n",
      "24/10/15 23:04:00 WARN DAGScheduler: Broadcasting large task binary with size 1689.2 KiB\n",
      "24/10/15 23:04:00 WARN DAGScheduler: Broadcasting large task binary with size 1684.0 KiB\n",
      "24/10/15 23:04:00 WARN DAGScheduler: Broadcasting large task binary with size 1684.5 KiB\n",
      "24/10/15 23:04:00 WARN DAGScheduler: Broadcasting large task binary with size 1685.0 KiB\n",
      "24/10/15 23:04:01 WARN DAGScheduler: Broadcasting large task binary with size 1686.2 KiB\n",
      "24/10/15 23:04:01 WARN DAGScheduler: Broadcasting large task binary with size 1688.5 KiB\n",
      "24/10/15 23:04:01 WARN DAGScheduler: Broadcasting large task binary with size 1692.3 KiB\n",
      "24/10/15 23:04:01 WARN DAGScheduler: Broadcasting large task binary with size 1699.7 KiB\n",
      "24/10/15 23:04:01 WARN DAGScheduler: Broadcasting large task binary with size 1713.9 KiB\n",
      "24/10/15 23:04:01 WARN DAGScheduler: Broadcasting large task binary with size 1737.1 KiB\n",
      "24/10/15 23:04:01 WARN DAGScheduler: Broadcasting large task binary with size 1773.4 KiB\n",
      "24/10/15 23:04:01 WARN DAGScheduler: Broadcasting large task binary with size 1764.0 KiB\n",
      "24/10/15 23:04:07 WARN DAGScheduler: Broadcasting large task binary with size 1021.1 KiB\n",
      "24/10/15 23:04:07 WARN DAGScheduler: Broadcasting large task binary with size 1017.1 KiB\n",
      "24/10/15 23:04:07 WARN DAGScheduler: Broadcasting large task binary with size 1017.6 KiB\n",
      "24/10/15 23:04:07 WARN DAGScheduler: Broadcasting large task binary with size 1018.1 KiB\n",
      "24/10/15 23:04:08 WARN DAGScheduler: Broadcasting large task binary with size 1019.3 KiB\n",
      "24/10/15 23:04:08 WARN DAGScheduler: Broadcasting large task binary with size 1021.6 KiB\n",
      "24/10/15 23:04:08 WARN DAGScheduler: Broadcasting large task binary with size 1025.7 KiB\n",
      "24/10/15 23:04:08 WARN DAGScheduler: Broadcasting large task binary with size 1033.6 KiB\n",
      "24/10/15 23:04:08 WARN DAGScheduler: Broadcasting large task binary with size 1048.6 KiB\n",
      "24/10/15 23:04:08 WARN DAGScheduler: Broadcasting large task binary with size 1074.7 KiB\n",
      "24/10/15 23:04:08 WARN DAGScheduler: Broadcasting large task binary with size 1113.8 KiB\n",
      "24/10/15 23:04:08 WARN DAGScheduler: Broadcasting large task binary with size 1109.7 KiB\n",
      "24/10/15 23:04:08 WARN DAGScheduler: Broadcasting large task binary with size 1110.2 KiB\n",
      "24/10/15 23:04:08 WARN DAGScheduler: Broadcasting large task binary with size 1110.7 KiB\n",
      "24/10/15 23:04:08 WARN DAGScheduler: Broadcasting large task binary with size 1112.0 KiB\n",
      "24/10/15 23:04:08 WARN DAGScheduler: Broadcasting large task binary with size 1114.3 KiB\n",
      "24/10/15 23:04:08 WARN DAGScheduler: Broadcasting large task binary with size 1118.8 KiB\n",
      "24/10/15 23:04:08 WARN DAGScheduler: Broadcasting large task binary with size 1127.3 KiB\n",
      "24/10/15 23:04:08 WARN DAGScheduler: Broadcasting large task binary with size 1142.8 KiB\n",
      "24/10/15 23:04:08 WARN DAGScheduler: Broadcasting large task binary with size 1168.4 KiB\n",
      "24/10/15 23:04:08 WARN DAGScheduler: Broadcasting large task binary with size 1207.0 KiB\n",
      "24/10/15 23:04:08 WARN DAGScheduler: Broadcasting large task binary with size 1203.1 KiB\n",
      "24/10/15 23:04:08 WARN DAGScheduler: Broadcasting large task binary with size 1203.6 KiB\n",
      "24/10/15 23:04:09 WARN DAGScheduler: Broadcasting large task binary with size 1204.1 KiB\n",
      "24/10/15 23:04:09 WARN DAGScheduler: Broadcasting large task binary with size 1205.3 KiB\n",
      "24/10/15 23:04:09 WARN DAGScheduler: Broadcasting large task binary with size 1207.6 KiB\n",
      "24/10/15 23:04:09 WARN DAGScheduler: Broadcasting large task binary with size 1211.9 KiB\n",
      "24/10/15 23:04:09 WARN DAGScheduler: Broadcasting large task binary with size 1219.8 KiB\n",
      "24/10/15 23:04:09 WARN DAGScheduler: Broadcasting large task binary with size 1234.4 KiB\n",
      "24/10/15 23:04:09 WARN DAGScheduler: Broadcasting large task binary with size 1259.2 KiB\n",
      "24/10/15 23:04:09 WARN DAGScheduler: Broadcasting large task binary with size 1296.6 KiB\n",
      "24/10/15 23:04:09 WARN DAGScheduler: Broadcasting large task binary with size 1292.8 KiB\n",
      "24/10/15 23:04:09 WARN DAGScheduler: Broadcasting large task binary with size 1293.2 KiB\n",
      "24/10/15 23:04:09 WARN DAGScheduler: Broadcasting large task binary with size 1293.8 KiB\n",
      "24/10/15 23:04:09 WARN DAGScheduler: Broadcasting large task binary with size 1295.0 KiB\n",
      "24/10/15 23:04:09 WARN DAGScheduler: Broadcasting large task binary with size 1297.3 KiB\n",
      "24/10/15 23:04:09 WARN DAGScheduler: Broadcasting large task binary with size 1301.7 KiB\n",
      "24/10/15 23:04:09 WARN DAGScheduler: Broadcasting large task binary with size 1309.9 KiB\n",
      "24/10/15 23:04:09 WARN DAGScheduler: Broadcasting large task binary with size 1325.1 KiB\n",
      "24/10/15 23:04:09 WARN DAGScheduler: Broadcasting large task binary with size 1351.0 KiB\n",
      "24/10/15 23:04:09 WARN DAGScheduler: Broadcasting large task binary with size 1391.1 KiB\n",
      "24/10/15 23:04:10 WARN DAGScheduler: Broadcasting large task binary with size 1386.8 KiB\n",
      "24/10/15 23:04:10 WARN DAGScheduler: Broadcasting large task binary with size 1387.3 KiB\n",
      "24/10/15 23:04:10 WARN DAGScheduler: Broadcasting large task binary with size 1387.9 KiB\n",
      "24/10/15 23:04:10 WARN DAGScheduler: Broadcasting large task binary with size 1389.1 KiB\n",
      "24/10/15 23:04:10 WARN DAGScheduler: Broadcasting large task binary with size 1391.3 KiB\n",
      "24/10/15 23:04:10 WARN DAGScheduler: Broadcasting large task binary with size 1395.7 KiB\n",
      "24/10/15 23:04:10 WARN DAGScheduler: Broadcasting large task binary with size 1403.9 KiB\n",
      "24/10/15 23:04:10 WARN DAGScheduler: Broadcasting large task binary with size 1418.6 KiB\n",
      "24/10/15 23:04:10 WARN DAGScheduler: Broadcasting large task binary with size 1442.9 KiB\n",
      "24/10/15 23:04:10 WARN DAGScheduler: Broadcasting large task binary with size 1481.1 KiB\n",
      "24/10/15 23:04:10 WARN DAGScheduler: Broadcasting large task binary with size 1476.5 KiB\n",
      "24/10/15 23:04:10 WARN DAGScheduler: Broadcasting large task binary with size 1477.0 KiB\n",
      "24/10/15 23:04:10 WARN DAGScheduler: Broadcasting large task binary with size 1477.5 KiB\n",
      "24/10/15 23:04:10 WARN DAGScheduler: Broadcasting large task binary with size 1478.7 KiB\n",
      "24/10/15 23:04:10 WARN DAGScheduler: Broadcasting large task binary with size 1481.0 KiB\n",
      "24/10/15 23:04:10 WARN DAGScheduler: Broadcasting large task binary with size 1485.3 KiB\n",
      "24/10/15 23:04:10 WARN DAGScheduler: Broadcasting large task binary with size 1493.5 KiB\n",
      "24/10/15 23:04:10 WARN DAGScheduler: Broadcasting large task binary with size 1507.9 KiB\n",
      "24/10/15 23:04:11 WARN DAGScheduler: Broadcasting large task binary with size 1531.6 KiB\n",
      "24/10/15 23:04:11 WARN DAGScheduler: Broadcasting large task binary with size 1569.7 KiB\n",
      "24/10/15 23:04:11 WARN DAGScheduler: Broadcasting large task binary with size 1567.9 KiB\n",
      "24/10/15 23:04:11 WARN DAGScheduler: Broadcasting large task binary with size 1568.4 KiB\n",
      "24/10/15 23:04:11 WARN DAGScheduler: Broadcasting large task binary with size 1569.0 KiB\n",
      "24/10/15 23:04:11 WARN DAGScheduler: Broadcasting large task binary with size 1570.2 KiB\n",
      "24/10/15 23:04:11 WARN DAGScheduler: Broadcasting large task binary with size 1572.5 KiB\n",
      "24/10/15 23:04:11 WARN DAGScheduler: Broadcasting large task binary with size 1577.1 KiB\n",
      "24/10/15 23:04:11 WARN DAGScheduler: Broadcasting large task binary with size 1585.2 KiB\n",
      "24/10/15 23:04:11 WARN DAGScheduler: Broadcasting large task binary with size 1600.1 KiB\n",
      "24/10/15 23:04:11 WARN DAGScheduler: Broadcasting large task binary with size 1624.6 KiB\n",
      "24/10/15 23:04:12 WARN DAGScheduler: Broadcasting large task binary with size 1661.0 KiB\n",
      "24/10/15 23:04:12 WARN DAGScheduler: Broadcasting large task binary with size 1657.0 KiB\n",
      "24/10/15 23:04:12 WARN DAGScheduler: Broadcasting large task binary with size 1657.5 KiB\n",
      "24/10/15 23:04:12 WARN DAGScheduler: Broadcasting large task binary with size 1658.1 KiB\n",
      "24/10/15 23:04:12 WARN DAGScheduler: Broadcasting large task binary with size 1659.3 KiB\n",
      "24/10/15 23:04:12 WARN DAGScheduler: Broadcasting large task binary with size 1661.6 KiB\n",
      "24/10/15 23:04:12 WARN DAGScheduler: Broadcasting large task binary with size 1665.9 KiB\n",
      "24/10/15 23:04:12 WARN DAGScheduler: Broadcasting large task binary with size 1673.8 KiB\n",
      "24/10/15 23:04:12 WARN DAGScheduler: Broadcasting large task binary with size 1688.6 KiB\n",
      "24/10/15 23:04:12 WARN DAGScheduler: Broadcasting large task binary with size 1714.7 KiB\n",
      "24/10/15 23:04:12 WARN DAGScheduler: Broadcasting large task binary with size 1752.9 KiB\n",
      "24/10/15 23:04:12 WARN DAGScheduler: Broadcasting large task binary with size 1747.4 KiB\n",
      "24/10/15 23:04:13 WARN DAGScheduler: Broadcasting large task binary with size 1747.9 KiB\n",
      "24/10/15 23:04:13 WARN DAGScheduler: Broadcasting large task binary with size 1748.5 KiB\n",
      "24/10/15 23:04:13 WARN DAGScheduler: Broadcasting large task binary with size 1749.7 KiB\n",
      "24/10/15 23:04:13 WARN DAGScheduler: Broadcasting large task binary with size 1752.0 KiB\n",
      "24/10/15 23:04:13 WARN DAGScheduler: Broadcasting large task binary with size 1756.6 KiB\n",
      "24/10/15 23:04:13 WARN DAGScheduler: Broadcasting large task binary with size 1764.6 KiB\n",
      "24/10/15 23:04:13 WARN DAGScheduler: Broadcasting large task binary with size 1779.0 KiB\n",
      "24/10/15 23:04:13 WARN DAGScheduler: Broadcasting large task binary with size 1804.2 KiB\n",
      "24/10/15 23:04:13 WARN DAGScheduler: Broadcasting large task binary with size 1841.9 KiB\n",
      "24/10/15 23:04:13 WARN DAGScheduler: Broadcasting large task binary with size 1837.4 KiB\n",
      "24/10/15 23:04:13 WARN DAGScheduler: Broadcasting large task binary with size 1837.9 KiB\n",
      "24/10/15 23:04:13 WARN DAGScheduler: Broadcasting large task binary with size 1838.4 KiB\n",
      "24/10/15 23:04:13 WARN DAGScheduler: Broadcasting large task binary with size 1839.6 KiB\n",
      "24/10/15 23:04:14 WARN DAGScheduler: Broadcasting large task binary with size 1841.9 KiB\n",
      "24/10/15 23:04:14 WARN DAGScheduler: Broadcasting large task binary with size 1846.2 KiB\n",
      "24/10/15 23:04:14 WARN DAGScheduler: Broadcasting large task binary with size 1854.2 KiB\n",
      "24/10/15 23:04:14 WARN DAGScheduler: Broadcasting large task binary with size 1868.6 KiB\n",
      "24/10/15 23:04:14 WARN DAGScheduler: Broadcasting large task binary with size 1892.8 KiB\n",
      "24/10/15 23:04:14 WARN DAGScheduler: Broadcasting large task binary with size 1928.6 KiB\n"
     ]
    }
   ],
   "source": [
    "from pyspark.ml.tuning import TrainValidationSplit, ParamGridBuilder\n",
    "\n",
    "from pyspark.ml.evaluation import MulticlassClassificationEvaluator\n",
    "\n",
    "paramGrid = ParamGridBuilder() \\\n",
    "    .addGrid(gbt.maxDepth, [5, 10]) \\\n",
    "    .addGrid(gbt.maxIter, [10, 20]) \\\n",
    "    .addGrid(gbt.stepSize, [0.1, 0.2]) \\\n",
    "    .build()\n",
    "\n",
    "evaluator = MulticlassClassificationEvaluator(\n",
    "    labelCol='booking_status_index',\n",
    "    predictionCol='prediction',\n",
    "    metricName='accuracy'\n",
    ")\n",
    "\n",
    "tvs_model = TrainValidationSplit(\n",
    "    estimator=pipeline,\n",
    "    estimatorParamMaps=paramGrid,\n",
    "    evaluator=evaluator,\n",
    "    seed=42\n",
    ")\n",
    "\n",
    "best_model = tvs_model.fit(train_data)"
   ]
  },
  {
   "cell_type": "code",
   "execution_count": 16,
   "id": "9afe6160-6588-4210-ad80-1f789d292c8a",
   "metadata": {},
   "outputs": [],
   "source": [
    "predictions = best_model.transform(test_data)"
   ]
  },
  {
   "cell_type": "code",
   "execution_count": 17,
   "id": "c0a1b109-a13a-41f9-b8a2-7d4e86669c8b",
   "metadata": {},
   "outputs": [
    {
     "name": "stderr",
     "output_type": "stream",
     "text": [
      "24/10/15 23:04:14 WARN DAGScheduler: Broadcasting large task binary with size 1920.5 KiB\n"
     ]
    },
    {
     "name": "stdout",
     "output_type": "stream",
     "text": [
      "Accuracy = 87.99%\n"
     ]
    }
   ],
   "source": [
    "accuracy = evaluator.evaluate(predictions) * 100\n",
    "print(f'Accuracy = {accuracy:.2f}%')"
   ]
  },
  {
   "cell_type": "code",
   "execution_count": 18,
   "id": "9a7e73c9-eb74-497e-b5ae-07556aa386d5",
   "metadata": {},
   "outputs": [
    {
     "name": "stdout",
     "output_type": "stream",
     "text": [
      "maxDepth = 5\n",
      "maxIter = 10\n",
      "stepSize = 0.1\n",
      "Accuracy -> 0.8435946990612921\n",
      "maxDepth = 5\n",
      "maxIter = 10\n",
      "stepSize = 0.2\n",
      "Accuracy -> 0.8513252346769741\n",
      "maxDepth = 5\n",
      "maxIter = 20\n",
      "stepSize = 0.1\n",
      "Accuracy -> 0.8558807288790723\n",
      "maxDepth = 5\n",
      "maxIter = 20\n",
      "stepSize = 0.2\n",
      "Accuracy -> 0.8601601325234677\n",
      "maxDepth = 10\n",
      "maxIter = 10\n",
      "stepSize = 0.1\n",
      "Accuracy -> 0.8716178906681391\n",
      "maxDepth = 10\n",
      "maxIter = 10\n",
      "stepSize = 0.2\n",
      "Accuracy -> 0.8725842076200994\n",
      "maxDepth = 10\n",
      "maxIter = 20\n",
      "stepSize = 0.1\n",
      "Accuracy -> 0.8738266151297626\n",
      "maxDepth = 10\n",
      "maxIter = 20\n",
      "stepSize = 0.2\n",
      "Accuracy -> 0.8728602981778023\n"
     ]
    }
   ],
   "source": [
    "for param_values, metric_value in zip(paramGrid, best_model.validationMetrics):\n",
    "    for param, value in param_values.items():\n",
    "        print(f'{param.name} = {value}')\n",
    "    print(f'Accuracy -> {metric_value}')\n"
   ]
  },
  {
   "cell_type": "code",
   "execution_count": null,
   "id": "ec26630a-7e73-42ff-add9-46c9ddd0259d",
   "metadata": {},
   "outputs": [],
   "source": []
  }
 ],
 "metadata": {
  "kernelspec": {
   "display_name": "Python 3 (ipykernel)",
   "language": "python",
   "name": "python3"
  },
  "language_info": {
   "codemirror_mode": {
    "name": "ipython",
    "version": 3
   },
   "file_extension": ".py",
   "mimetype": "text/x-python",
   "name": "python",
   "nbconvert_exporter": "python",
   "pygments_lexer": "ipython3",
   "version": "3.12.7"
  }
 },
 "nbformat": 4,
 "nbformat_minor": 5
}
