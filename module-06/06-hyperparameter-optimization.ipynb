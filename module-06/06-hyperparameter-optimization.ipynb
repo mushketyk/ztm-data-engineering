{
 "cells": [
  {
   "cell_type": "code",
   "execution_count": 1,
   "id": "53eb4614-6b2e-4c33-8822-c230a9dba13b",
   "metadata": {},
   "outputs": [
    {
     "name": "stderr",
     "output_type": "stream",
     "text": [
      "24/10/13 22:49:59 WARN SparkSession: Using an existing Spark session; only runtime SQL configurations will take effect.\n"
     ]
    }
   ],
   "source": [
    "from pyspark.sql import SparkSession\n",
    "\n",
    "spark = SparkSession \\\n",
    "  .builder \\\n",
    "  .appName(\"Hyperparameter optimization\") \\\n",
    "  .getOrCreate()"
   ]
  },
  {
   "cell_type": "code",
   "execution_count": 2,
   "id": "af281fdf-a02b-4602-9c29-c0d22a726ecd",
   "metadata": {},
   "outputs": [],
   "source": [
    "data = spark.read.csv(\"data/hotel-reservations.csv\", header=True, inferSchema=True)"
   ]
  },
  {
   "cell_type": "code",
   "execution_count": 3,
   "id": "0deaa33e-2509-469a-9b69-ce9bace913ab",
   "metadata": {},
   "outputs": [],
   "source": [
    "stages = []"
   ]
  },
  {
   "cell_type": "code",
   "execution_count": 4,
   "id": "6c567350-0cdf-4d1f-82f5-77871e985665",
   "metadata": {},
   "outputs": [
    {
     "name": "stdout",
     "output_type": "stream",
     "text": [
      "StringIndexer type_of_meal_plan -> type_of_meal_plan_index\n",
      "OneHotEncoder type_of_meal_plan_index -> type_of_meal_plan_vec\n",
      "\n",
      "StringIndexer room_type_reserved -> room_type_reserved_index\n",
      "OneHotEncoder room_type_reserved_index -> room_type_reserved_vec\n",
      "\n",
      "StringIndexer arrival_month -> arrival_month_index\n",
      "OneHotEncoder arrival_month_index -> arrival_month_vec\n",
      "\n",
      "StringIndexer market_segment_type -> market_segment_type_index\n",
      "OneHotEncoder market_segment_type_index -> market_segment_type_vec\n",
      "\n"
     ]
    }
   ],
   "source": [
    "from pyspark.ml.feature import StringIndexer, OneHotEncoder \n",
    "\n",
    "categorical_cols = ['type_of_meal_plan', 'room_type_reserved', 'arrival_month', 'market_segment_type']\n",
    "\n",
    "for col in categorical_cols:\n",
    "    string_indexer = StringIndexer(inputCol=col, outputCol= col + '_index')\n",
    "    print(f'StringIndexer {string_indexer.getInputCol()} -> {string_indexer.getOutputCol()}')\n",
    "    \n",
    "    encoder = OneHotEncoder(inputCol=string_indexer.getOutputCol(), outputCol=col + '_vec')\n",
    "    print(f'OneHotEncoder {encoder.getInputCol()} -> {encoder.getOutputCol()}')\n",
    "    print()\n",
    "    \n",
    "    stages += [string_indexer, encoder]"
   ]
  },
  {
   "cell_type": "code",
   "execution_count": 5,
   "id": "8cb6cf8a-7af5-42a5-9746-565dbaa56079",
   "metadata": {},
   "outputs": [],
   "source": [
    "stages += [StringIndexer(inputCol='booking_status', outputCol= 'booking_status_index')]"
   ]
  },
  {
   "cell_type": "code",
   "execution_count": 6,
   "id": "85119be4-9155-485d-97d9-c4594e1ea2e5",
   "metadata": {},
   "outputs": [
    {
     "data": {
      "text/plain": [
       "['type_of_meal_plan_vec',\n",
       " 'room_type_reserved_vec',\n",
       " 'arrival_month_vec',\n",
       " 'market_segment_type_vec']"
      ]
     },
     "execution_count": 6,
     "metadata": {},
     "output_type": "execute_result"
    }
   ],
   "source": [
    "encoded_categorical_cols = [col + \"_vec\" for col in categorical_cols]\n",
    "encoded_categorical_cols"
   ]
  },
  {
   "cell_type": "code",
   "execution_count": 7,
   "id": "8c15faf0-f3cf-471c-8197-94c2911566c4",
   "metadata": {},
   "outputs": [],
   "source": [
    "numeric_cols = ['no_of_adults', 'no_of_children', 'no_of_weekend_nights', 'no_of_week_nights',\n",
    "               'required_car_parking_space', 'lead_time', 'arrival_year', 'arrival_date',\n",
    "               'repeated_guest', 'no_of_previous_cancellations', 'no_of_previous_bookings_not_canceled',\n",
    "               'avg_price_per_room', 'no_of_special_requests'] "
   ]
  },
  {
   "cell_type": "code",
   "execution_count": 8,
   "id": "d2dffe07-ad1c-45a1-b7d3-ae8495b01caf",
   "metadata": {},
   "outputs": [
    {
     "data": {
      "text/plain": [
       "['type_of_meal_plan_vec',\n",
       " 'room_type_reserved_vec',\n",
       " 'arrival_month_vec',\n",
       " 'market_segment_type_vec',\n",
       " 'no_of_adults',\n",
       " 'no_of_children',\n",
       " 'no_of_weekend_nights',\n",
       " 'no_of_week_nights',\n",
       " 'required_car_parking_space',\n",
       " 'lead_time',\n",
       " 'arrival_year',\n",
       " 'arrival_date',\n",
       " 'repeated_guest',\n",
       " 'no_of_previous_cancellations',\n",
       " 'no_of_previous_bookings_not_canceled',\n",
       " 'avg_price_per_room',\n",
       " 'no_of_special_requests']"
      ]
     },
     "execution_count": 8,
     "metadata": {},
     "output_type": "execute_result"
    }
   ],
   "source": [
    "input_columns = encoded_categorical_cols + numeric_cols\n",
    "input_columns"
   ]
  },
  {
   "cell_type": "code",
   "execution_count": 9,
   "id": "10e9a5f9-c973-4f96-b764-052ead157c9e",
   "metadata": {},
   "outputs": [],
   "source": [
    "from pyspark.ml.feature import VectorAssembler\n",
    "\n",
    "assembler = VectorAssembler(inputCols=input_columns, outputCol='features')\n",
    "\n",
    "stages += [assembler]"
   ]
  },
  {
   "cell_type": "code",
   "execution_count": 10,
   "id": "0c891b8b-d1f9-481f-a45f-e9915bab6ea0",
   "metadata": {},
   "outputs": [
    {
     "name": "stdout",
     "output_type": "stream",
     "text": [
      "Train size:  29040\n",
      "Test size:  7235\n"
     ]
    }
   ],
   "source": [
    "train_data, test_data = data.randomSplit([0.8, 0.2], seed=42)\n",
    "print(\"Train size: \", train_data.count())\n",
    "print(\"Test size: \", test_data.count())"
   ]
  },
  {
   "cell_type": "code",
   "execution_count": 11,
   "id": "a1ad2d6f-9fd5-403c-b8bf-686f578d26a5",
   "metadata": {},
   "outputs": [],
   "source": [
    "from pyspark.ml.classification import GBTClassifier\n",
    "\n",
    "gbt = GBTClassifier(featuresCol='features', labelCol='booking_status_index', maxIter=10)\n",
    "\n",
    "stages.append(gbt)"
   ]
  },
  {
   "cell_type": "code",
   "execution_count": 12,
   "id": "e07506f7-0bde-449d-93c1-c20b5c6d87e5",
   "metadata": {},
   "outputs": [],
   "source": [
    "from pyspark.ml import Pipeline\n",
    "\n",
    "pipeline = Pipeline(stages=stages)"
   ]
  },
  {
   "cell_type": "code",
   "execution_count": 13,
   "id": "2ada0719-b3d2-42e2-8840-6c0388a11a85",
   "metadata": {},
   "outputs": [
    {
     "name": "stderr",
     "output_type": "stream",
     "text": [
      "24/10/13 22:50:51 WARN InstanceBuilder: Failed to load implementation from:dev.ludovic.netlib.blas.JNIBLAS\n",
      "24/10/13 22:50:51 WARN InstanceBuilder: Failed to load implementation from:dev.ludovic.netlib.blas.VectorBLAS\n",
      "24/10/13 22:51:06 WARN DAGScheduler: Broadcasting large task binary with size 1009.6 KiB\n",
      "24/10/13 22:51:06 WARN DAGScheduler: Broadcasting large task binary with size 1031.6 KiB\n",
      "24/10/13 22:51:06 WARN DAGScheduler: Broadcasting large task binary with size 1066.4 KiB\n",
      "24/10/13 22:51:06 WARN DAGScheduler: Broadcasting large task binary with size 1061.6 KiB\n",
      "24/10/13 22:51:15 WARN DAGScheduler: Broadcasting large task binary with size 1009.6 KiB\n",
      "24/10/13 22:51:16 WARN DAGScheduler: Broadcasting large task binary with size 1031.6 KiB\n",
      "24/10/13 22:51:16 WARN DAGScheduler: Broadcasting large task binary with size 1066.4 KiB\n",
      "24/10/13 22:51:16 WARN DAGScheduler: Broadcasting large task binary with size 1064.1 KiB\n",
      "24/10/13 22:51:16 WARN DAGScheduler: Broadcasting large task binary with size 1064.6 KiB\n",
      "24/10/13 22:51:16 WARN DAGScheduler: Broadcasting large task binary with size 1065.1 KiB\n",
      "24/10/13 22:51:16 WARN DAGScheduler: Broadcasting large task binary with size 1066.4 KiB\n",
      "24/10/13 22:51:16 WARN DAGScheduler: Broadcasting large task binary with size 1068.7 KiB\n",
      "24/10/13 22:51:16 WARN DAGScheduler: Broadcasting large task binary with size 1073.0 KiB\n",
      "24/10/13 22:51:16 WARN DAGScheduler: Broadcasting large task binary with size 1080.5 KiB\n",
      "24/10/13 22:51:16 WARN DAGScheduler: Broadcasting large task binary with size 1094.1 KiB\n",
      "24/10/13 22:51:16 WARN DAGScheduler: Broadcasting large task binary with size 1115.8 KiB\n",
      "24/10/13 22:51:16 WARN DAGScheduler: Broadcasting large task binary with size 1148.0 KiB\n",
      "24/10/13 22:51:16 WARN DAGScheduler: Broadcasting large task binary with size 1143.7 KiB\n",
      "24/10/13 22:51:16 WARN DAGScheduler: Broadcasting large task binary with size 1144.2 KiB\n",
      "24/10/13 22:51:16 WARN DAGScheduler: Broadcasting large task binary with size 1144.7 KiB\n",
      "24/10/13 22:51:16 WARN DAGScheduler: Broadcasting large task binary with size 1145.9 KiB\n",
      "24/10/13 22:51:16 WARN DAGScheduler: Broadcasting large task binary with size 1148.2 KiB\n",
      "24/10/13 22:51:16 WARN DAGScheduler: Broadcasting large task binary with size 1152.0 KiB\n",
      "24/10/13 22:51:16 WARN DAGScheduler: Broadcasting large task binary with size 1158.6 KiB\n",
      "24/10/13 22:51:16 WARN DAGScheduler: Broadcasting large task binary with size 1171.3 KiB\n",
      "24/10/13 22:51:16 WARN DAGScheduler: Broadcasting large task binary with size 1192.6 KiB\n",
      "24/10/13 22:51:17 WARN DAGScheduler: Broadcasting large task binary with size 1227.5 KiB\n",
      "24/10/13 22:51:17 WARN DAGScheduler: Broadcasting large task binary with size 1225.9 KiB\n",
      "24/10/13 22:51:17 WARN DAGScheduler: Broadcasting large task binary with size 1226.4 KiB\n",
      "24/10/13 22:51:17 WARN DAGScheduler: Broadcasting large task binary with size 1227.0 KiB\n",
      "24/10/13 22:51:17 WARN DAGScheduler: Broadcasting large task binary with size 1228.2 KiB\n",
      "24/10/13 22:51:17 WARN DAGScheduler: Broadcasting large task binary with size 1230.5 KiB\n",
      "24/10/13 22:51:17 WARN DAGScheduler: Broadcasting large task binary with size 1234.8 KiB\n",
      "24/10/13 22:51:17 WARN DAGScheduler: Broadcasting large task binary with size 1242.3 KiB\n",
      "24/10/13 22:51:17 WARN DAGScheduler: Broadcasting large task binary with size 1255.4 KiB\n",
      "24/10/13 22:51:17 WARN DAGScheduler: Broadcasting large task binary with size 1277.0 KiB\n",
      "24/10/13 22:51:17 WARN DAGScheduler: Broadcasting large task binary with size 1310.2 KiB\n",
      "24/10/13 22:51:17 WARN DAGScheduler: Broadcasting large task binary with size 1307.1 KiB\n",
      "24/10/13 22:51:17 WARN DAGScheduler: Broadcasting large task binary with size 1307.6 KiB\n",
      "24/10/13 22:51:17 WARN DAGScheduler: Broadcasting large task binary with size 1308.2 KiB\n",
      "24/10/13 22:51:17 WARN DAGScheduler: Broadcasting large task binary with size 1309.4 KiB\n",
      "24/10/13 22:51:17 WARN DAGScheduler: Broadcasting large task binary with size 1311.7 KiB\n",
      "24/10/13 22:51:17 WARN DAGScheduler: Broadcasting large task binary with size 1315.7 KiB\n",
      "24/10/13 22:51:17 WARN DAGScheduler: Broadcasting large task binary with size 1323.2 KiB\n",
      "24/10/13 22:51:17 WARN DAGScheduler: Broadcasting large task binary with size 1336.5 KiB\n",
      "24/10/13 22:51:17 WARN DAGScheduler: Broadcasting large task binary with size 1357.7 KiB\n",
      "24/10/13 22:51:17 WARN DAGScheduler: Broadcasting large task binary with size 1391.4 KiB\n",
      "24/10/13 22:51:18 WARN DAGScheduler: Broadcasting large task binary with size 1389.2 KiB\n",
      "24/10/13 22:51:18 WARN DAGScheduler: Broadcasting large task binary with size 1389.7 KiB\n",
      "24/10/13 22:51:18 WARN DAGScheduler: Broadcasting large task binary with size 1390.3 KiB\n",
      "24/10/13 22:51:18 WARN DAGScheduler: Broadcasting large task binary with size 1391.5 KiB\n",
      "24/10/13 22:51:18 WARN DAGScheduler: Broadcasting large task binary with size 1393.8 KiB\n",
      "24/10/13 22:51:18 WARN DAGScheduler: Broadcasting large task binary with size 1398.1 KiB\n",
      "24/10/13 22:51:18 WARN DAGScheduler: Broadcasting large task binary with size 1404.8 KiB\n",
      "24/10/13 22:51:18 WARN DAGScheduler: Broadcasting large task binary with size 1417.3 KiB\n",
      "24/10/13 22:51:18 WARN DAGScheduler: Broadcasting large task binary with size 1438.1 KiB\n",
      "24/10/13 22:51:18 WARN DAGScheduler: Broadcasting large task binary with size 1471.1 KiB\n",
      "24/10/13 22:51:18 WARN DAGScheduler: Broadcasting large task binary with size 1469.5 KiB\n",
      "24/10/13 22:51:18 WARN DAGScheduler: Broadcasting large task binary with size 1470.0 KiB\n",
      "24/10/13 22:51:18 WARN DAGScheduler: Broadcasting large task binary with size 1470.5 KiB\n",
      "24/10/13 22:51:18 WARN DAGScheduler: Broadcasting large task binary with size 1471.8 KiB\n",
      "24/10/13 22:51:18 WARN DAGScheduler: Broadcasting large task binary with size 1474.1 KiB\n",
      "24/10/13 22:51:18 WARN DAGScheduler: Broadcasting large task binary with size 1478.3 KiB\n",
      "24/10/13 22:51:18 WARN DAGScheduler: Broadcasting large task binary with size 1485.7 KiB\n",
      "24/10/13 22:51:18 WARN DAGScheduler: Broadcasting large task binary with size 1499.5 KiB\n",
      "24/10/13 22:51:18 WARN DAGScheduler: Broadcasting large task binary with size 1521.7 KiB\n",
      "24/10/13 22:51:19 WARN DAGScheduler: Broadcasting large task binary with size 1556.7 KiB\n",
      "24/10/13 22:51:19 WARN DAGScheduler: Broadcasting large task binary with size 1553.7 KiB\n",
      "24/10/13 22:51:19 WARN DAGScheduler: Broadcasting large task binary with size 1554.2 KiB\n",
      "24/10/13 22:51:19 WARN DAGScheduler: Broadcasting large task binary with size 1554.7 KiB\n",
      "24/10/13 22:51:19 WARN DAGScheduler: Broadcasting large task binary with size 1555.9 KiB\n",
      "24/10/13 22:51:19 WARN DAGScheduler: Broadcasting large task binary with size 1558.2 KiB\n",
      "24/10/13 22:51:19 WARN DAGScheduler: Broadcasting large task binary with size 1562.2 KiB\n",
      "24/10/13 22:51:19 WARN DAGScheduler: Broadcasting large task binary with size 1569.3 KiB\n",
      "24/10/13 22:51:19 WARN DAGScheduler: Broadcasting large task binary with size 1582.0 KiB\n",
      "24/10/13 22:51:19 WARN DAGScheduler: Broadcasting large task binary with size 1604.4 KiB\n",
      "24/10/13 22:51:19 WARN DAGScheduler: Broadcasting large task binary with size 1640.4 KiB\n",
      "24/10/13 22:51:19 WARN DAGScheduler: Broadcasting large task binary with size 1639.4 KiB\n",
      "24/10/13 22:51:19 WARN DAGScheduler: Broadcasting large task binary with size 1639.9 KiB\n",
      "24/10/13 22:51:19 WARN DAGScheduler: Broadcasting large task binary with size 1640.4 KiB\n",
      "24/10/13 22:51:19 WARN DAGScheduler: Broadcasting large task binary with size 1641.7 KiB\n",
      "24/10/13 22:51:19 WARN DAGScheduler: Broadcasting large task binary with size 1643.9 KiB\n",
      "24/10/13 22:51:19 WARN DAGScheduler: Broadcasting large task binary with size 1648.0 KiB\n",
      "24/10/13 22:51:19 WARN DAGScheduler: Broadcasting large task binary with size 1655.3 KiB\n",
      "24/10/13 22:51:20 WARN DAGScheduler: Broadcasting large task binary with size 1667.6 KiB\n",
      "24/10/13 22:51:20 WARN DAGScheduler: Broadcasting large task binary with size 1688.2 KiB\n",
      "24/10/13 22:51:20 WARN DAGScheduler: Broadcasting large task binary with size 1721.3 KiB\n",
      "24/10/13 22:51:20 WARN DAGScheduler: Broadcasting large task binary with size 1715.8 KiB\n",
      "24/10/13 22:51:20 WARN DAGScheduler: Broadcasting large task binary with size 1716.3 KiB\n",
      "24/10/13 22:51:20 WARN DAGScheduler: Broadcasting large task binary with size 1716.9 KiB\n",
      "24/10/13 22:51:20 WARN DAGScheduler: Broadcasting large task binary with size 1718.1 KiB\n",
      "24/10/13 22:51:20 WARN DAGScheduler: Broadcasting large task binary with size 1720.4 KiB\n",
      "24/10/13 22:51:20 WARN DAGScheduler: Broadcasting large task binary with size 1724.4 KiB\n",
      "24/10/13 22:51:20 WARN DAGScheduler: Broadcasting large task binary with size 1731.5 KiB\n",
      "24/10/13 22:51:20 WARN DAGScheduler: Broadcasting large task binary with size 1744.2 KiB\n",
      "24/10/13 22:51:20 WARN DAGScheduler: Broadcasting large task binary with size 1765.9 KiB\n",
      "24/10/13 22:51:20 WARN DAGScheduler: Broadcasting large task binary with size 1801.8 KiB\n",
      "24/10/13 22:51:20 WARN DAGScheduler: Broadcasting large task binary with size 1798.7 KiB\n",
      "24/10/13 22:51:20 WARN DAGScheduler: Broadcasting large task binary with size 1799.2 KiB\n",
      "24/10/13 22:51:20 WARN DAGScheduler: Broadcasting large task binary with size 1799.7 KiB\n",
      "24/10/13 22:51:20 WARN DAGScheduler: Broadcasting large task binary with size 1801.0 KiB\n",
      "24/10/13 22:51:20 WARN DAGScheduler: Broadcasting large task binary with size 1803.2 KiB\n",
      "24/10/13 22:51:20 WARN DAGScheduler: Broadcasting large task binary with size 1807.2 KiB\n",
      "24/10/13 22:51:21 WARN DAGScheduler: Broadcasting large task binary with size 1814.6 KiB\n",
      "24/10/13 22:51:21 WARN DAGScheduler: Broadcasting large task binary with size 1828.6 KiB\n",
      "24/10/13 22:51:21 WARN DAGScheduler: Broadcasting large task binary with size 1852.0 KiB\n",
      "24/10/13 22:51:21 WARN DAGScheduler: Broadcasting large task binary with size 1888.5 KiB\n",
      "24/10/13 22:51:21 WARN DAGScheduler: Broadcasting large task binary with size 1880.6 KiB\n",
      "24/10/13 22:51:25 WARN DAGScheduler: Broadcasting large task binary with size 1007.5 KiB\n",
      "24/10/13 22:51:25 WARN DAGScheduler: Broadcasting large task binary with size 1029.2 KiB\n",
      "24/10/13 22:51:25 WARN DAGScheduler: Broadcasting large task binary with size 1063.4 KiB\n",
      "24/10/13 22:51:26 WARN DAGScheduler: Broadcasting large task binary with size 1062.3 KiB\n",
      "24/10/13 22:51:26 WARN DAGScheduler: Broadcasting large task binary with size 1062.7 KiB\n",
      "24/10/13 22:51:26 WARN DAGScheduler: Broadcasting large task binary with size 1063.3 KiB\n",
      "24/10/13 22:51:26 WARN DAGScheduler: Broadcasting large task binary with size 1064.5 KiB\n",
      "24/10/13 22:51:26 WARN DAGScheduler: Broadcasting large task binary with size 1066.8 KiB\n",
      "24/10/13 22:51:26 WARN DAGScheduler: Broadcasting large task binary with size 1071.0 KiB\n",
      "24/10/13 22:51:26 WARN DAGScheduler: Broadcasting large task binary with size 1077.8 KiB\n",
      "24/10/13 22:51:26 WARN DAGScheduler: Broadcasting large task binary with size 1090.6 KiB\n",
      "24/10/13 22:51:26 WARN DAGScheduler: Broadcasting large task binary with size 1112.5 KiB\n",
      "24/10/13 22:51:26 WARN DAGScheduler: Broadcasting large task binary with size 1146.9 KiB\n",
      "24/10/13 22:51:26 WARN DAGScheduler: Broadcasting large task binary with size 1146.9 KiB\n",
      "24/10/13 22:51:26 WARN DAGScheduler: Broadcasting large task binary with size 1147.3 KiB\n",
      "24/10/13 22:51:26 WARN DAGScheduler: Broadcasting large task binary with size 1147.9 KiB\n",
      "24/10/13 22:51:26 WARN DAGScheduler: Broadcasting large task binary with size 1149.1 KiB\n",
      "24/10/13 22:51:26 WARN DAGScheduler: Broadcasting large task binary with size 1151.4 KiB\n",
      "24/10/13 22:51:26 WARN DAGScheduler: Broadcasting large task binary with size 1155.5 KiB\n",
      "24/10/13 22:51:26 WARN DAGScheduler: Broadcasting large task binary with size 1163.1 KiB\n",
      "24/10/13 22:51:26 WARN DAGScheduler: Broadcasting large task binary with size 1177.6 KiB\n",
      "24/10/13 22:51:26 WARN DAGScheduler: Broadcasting large task binary with size 1201.0 KiB\n",
      "24/10/13 22:51:26 WARN DAGScheduler: Broadcasting large task binary with size 1237.6 KiB\n",
      "24/10/13 22:51:26 WARN DAGScheduler: Broadcasting large task binary with size 1234.2 KiB\n",
      "24/10/13 22:51:26 WARN DAGScheduler: Broadcasting large task binary with size 1234.7 KiB\n",
      "24/10/13 22:51:27 WARN DAGScheduler: Broadcasting large task binary with size 1235.2 KiB\n",
      "24/10/13 22:51:27 WARN DAGScheduler: Broadcasting large task binary with size 1236.4 KiB\n",
      "24/10/13 22:51:27 WARN DAGScheduler: Broadcasting large task binary with size 1238.7 KiB\n",
      "24/10/13 22:51:27 WARN DAGScheduler: Broadcasting large task binary with size 1242.7 KiB\n",
      "24/10/13 22:51:27 WARN DAGScheduler: Broadcasting large task binary with size 1250.0 KiB\n",
      "24/10/13 22:51:27 WARN DAGScheduler: Broadcasting large task binary with size 1263.1 KiB\n",
      "24/10/13 22:51:27 WARN DAGScheduler: Broadcasting large task binary with size 1283.7 KiB\n",
      "24/10/13 22:51:27 WARN DAGScheduler: Broadcasting large task binary with size 1316.9 KiB\n",
      "24/10/13 22:51:27 WARN DAGScheduler: Broadcasting large task binary with size 1313.3 KiB\n",
      "24/10/13 22:51:27 WARN DAGScheduler: Broadcasting large task binary with size 1313.8 KiB\n",
      "24/10/13 22:51:27 WARN DAGScheduler: Broadcasting large task binary with size 1314.4 KiB\n",
      "24/10/13 22:51:27 WARN DAGScheduler: Broadcasting large task binary with size 1315.6 KiB\n",
      "24/10/13 22:51:27 WARN DAGScheduler: Broadcasting large task binary with size 1317.9 KiB\n",
      "24/10/13 22:51:27 WARN DAGScheduler: Broadcasting large task binary with size 1321.9 KiB\n",
      "24/10/13 22:51:27 WARN DAGScheduler: Broadcasting large task binary with size 1329.2 KiB\n",
      "24/10/13 22:51:27 WARN DAGScheduler: Broadcasting large task binary with size 1341.6 KiB\n",
      "24/10/13 22:51:27 WARN DAGScheduler: Broadcasting large task binary with size 1360.8 KiB\n",
      "24/10/13 22:51:27 WARN DAGScheduler: Broadcasting large task binary with size 1391.2 KiB\n",
      "24/10/13 22:51:27 WARN DAGScheduler: Broadcasting large task binary with size 1387.9 KiB\n",
      "24/10/13 22:51:27 WARN DAGScheduler: Broadcasting large task binary with size 1388.4 KiB\n",
      "24/10/13 22:51:28 WARN DAGScheduler: Broadcasting large task binary with size 1388.9 KiB\n",
      "24/10/13 22:51:28 WARN DAGScheduler: Broadcasting large task binary with size 1390.1 KiB\n",
      "24/10/13 22:51:28 WARN DAGScheduler: Broadcasting large task binary with size 1392.4 KiB\n",
      "24/10/13 22:51:28 WARN DAGScheduler: Broadcasting large task binary with size 1396.7 KiB\n",
      "24/10/13 22:51:28 WARN DAGScheduler: Broadcasting large task binary with size 1404.3 KiB\n",
      "24/10/13 22:51:28 WARN DAGScheduler: Broadcasting large task binary with size 1418.7 KiB\n",
      "24/10/13 22:51:28 WARN DAGScheduler: Broadcasting large task binary with size 1442.8 KiB\n",
      "24/10/13 22:51:28 WARN DAGScheduler: Broadcasting large task binary with size 1479.9 KiB\n",
      "24/10/13 22:51:28 WARN DAGScheduler: Broadcasting large task binary with size 1475.8 KiB\n",
      "24/10/13 22:51:28 WARN DAGScheduler: Broadcasting large task binary with size 1476.3 KiB\n",
      "24/10/13 22:51:28 WARN DAGScheduler: Broadcasting large task binary with size 1476.9 KiB\n",
      "24/10/13 22:51:28 WARN DAGScheduler: Broadcasting large task binary with size 1478.1 KiB\n",
      "24/10/13 22:51:28 WARN DAGScheduler: Broadcasting large task binary with size 1480.4 KiB\n",
      "24/10/13 22:51:28 WARN DAGScheduler: Broadcasting large task binary with size 1484.3 KiB\n",
      "24/10/13 22:51:28 WARN DAGScheduler: Broadcasting large task binary with size 1492.0 KiB\n",
      "24/10/13 22:51:28 WARN DAGScheduler: Broadcasting large task binary with size 1506.3 KiB\n",
      "24/10/13 22:51:28 WARN DAGScheduler: Broadcasting large task binary with size 1529.9 KiB\n",
      "24/10/13 22:51:28 WARN DAGScheduler: Broadcasting large task binary with size 1566.2 KiB\n",
      "24/10/13 22:51:28 WARN DAGScheduler: Broadcasting large task binary with size 1562.1 KiB\n",
      "24/10/13 22:51:29 WARN DAGScheduler: Broadcasting large task binary with size 1562.6 KiB\n",
      "24/10/13 22:51:29 WARN DAGScheduler: Broadcasting large task binary with size 1563.2 KiB\n",
      "24/10/13 22:51:29 WARN DAGScheduler: Broadcasting large task binary with size 1564.4 KiB\n",
      "24/10/13 22:51:29 WARN DAGScheduler: Broadcasting large task binary with size 1566.5 KiB\n",
      "24/10/13 22:51:29 WARN DAGScheduler: Broadcasting large task binary with size 1570.4 KiB\n",
      "24/10/13 22:51:29 WARN DAGScheduler: Broadcasting large task binary with size 1577.4 KiB\n",
      "24/10/13 22:51:29 WARN DAGScheduler: Broadcasting large task binary with size 1590.3 KiB\n",
      "24/10/13 22:51:29 WARN DAGScheduler: Broadcasting large task binary with size 1612.6 KiB\n",
      "24/10/13 22:51:29 WARN DAGScheduler: Broadcasting large task binary with size 1648.8 KiB\n",
      "24/10/13 22:51:29 WARN DAGScheduler: Broadcasting large task binary with size 1646.7 KiB\n",
      "24/10/13 22:51:29 WARN DAGScheduler: Broadcasting large task binary with size 1647.2 KiB\n",
      "24/10/13 22:51:29 WARN DAGScheduler: Broadcasting large task binary with size 1647.7 KiB\n",
      "24/10/13 22:51:29 WARN DAGScheduler: Broadcasting large task binary with size 1649.0 KiB\n",
      "24/10/13 22:51:29 WARN DAGScheduler: Broadcasting large task binary with size 1651.2 KiB\n",
      "24/10/13 22:51:29 WARN DAGScheduler: Broadcasting large task binary with size 1655.2 KiB\n",
      "24/10/13 22:51:29 WARN DAGScheduler: Broadcasting large task binary with size 1662.4 KiB\n",
      "24/10/13 22:51:29 WARN DAGScheduler: Broadcasting large task binary with size 1674.6 KiB\n",
      "24/10/13 22:51:29 WARN DAGScheduler: Broadcasting large task binary with size 1694.8 KiB\n",
      "24/10/13 22:51:29 WARN DAGScheduler: Broadcasting large task binary with size 1727.8 KiB\n",
      "24/10/13 22:51:30 WARN DAGScheduler: Broadcasting large task binary with size 1724.8 KiB\n",
      "24/10/13 22:51:30 WARN DAGScheduler: Broadcasting large task binary with size 1725.2 KiB\n",
      "24/10/13 22:51:30 WARN DAGScheduler: Broadcasting large task binary with size 1725.8 KiB\n",
      "24/10/13 22:51:30 WARN DAGScheduler: Broadcasting large task binary with size 1727.0 KiB\n",
      "24/10/13 22:51:30 WARN DAGScheduler: Broadcasting large task binary with size 1729.3 KiB\n",
      "24/10/13 22:51:30 WARN DAGScheduler: Broadcasting large task binary with size 1733.3 KiB\n",
      "24/10/13 22:51:30 WARN DAGScheduler: Broadcasting large task binary with size 1740.9 KiB\n",
      "24/10/13 22:51:30 WARN DAGScheduler: Broadcasting large task binary with size 1754.2 KiB\n",
      "24/10/13 22:51:30 WARN DAGScheduler: Broadcasting large task binary with size 1777.0 KiB\n",
      "24/10/13 22:51:30 WARN DAGScheduler: Broadcasting large task binary with size 1813.7 KiB\n",
      "24/10/13 22:51:30 WARN DAGScheduler: Broadcasting large task binary with size 1805.8 KiB\n",
      "24/10/13 22:51:36 WARN DAGScheduler: Broadcasting large task binary with size 1003.1 KiB\n",
      "24/10/13 22:51:36 WARN DAGScheduler: Broadcasting large task binary with size 1042.3 KiB\n",
      "24/10/13 22:51:36 WARN DAGScheduler: Broadcasting large task binary with size 1039.0 KiB\n",
      "24/10/13 22:51:36 WARN DAGScheduler: Broadcasting large task binary with size 1039.5 KiB\n",
      "24/10/13 22:51:36 WARN DAGScheduler: Broadcasting large task binary with size 1040.1 KiB\n",
      "24/10/13 22:51:36 WARN DAGScheduler: Broadcasting large task binary with size 1041.3 KiB\n",
      "24/10/13 22:51:36 WARN DAGScheduler: Broadcasting large task binary with size 1043.6 KiB\n",
      "24/10/13 22:51:36 WARN DAGScheduler: Broadcasting large task binary with size 1048.1 KiB\n",
      "24/10/13 22:51:36 WARN DAGScheduler: Broadcasting large task binary with size 1056.9 KiB\n",
      "24/10/13 22:51:36 WARN DAGScheduler: Broadcasting large task binary with size 1073.3 KiB\n",
      "24/10/13 22:51:36 WARN DAGScheduler: Broadcasting large task binary with size 1098.8 KiB\n",
      "24/10/13 22:51:36 WARN DAGScheduler: Broadcasting large task binary with size 1137.5 KiB\n",
      "24/10/13 22:51:36 WARN DAGScheduler: Broadcasting large task binary with size 1132.6 KiB\n",
      "24/10/13 22:51:36 WARN DAGScheduler: Broadcasting large task binary with size 1133.1 KiB\n",
      "24/10/13 22:51:36 WARN DAGScheduler: Broadcasting large task binary with size 1133.7 KiB\n",
      "24/10/13 22:51:36 WARN DAGScheduler: Broadcasting large task binary with size 1134.9 KiB\n",
      "24/10/13 22:51:36 WARN DAGScheduler: Broadcasting large task binary with size 1137.2 KiB\n",
      "24/10/13 22:51:36 WARN DAGScheduler: Broadcasting large task binary with size 1141.8 KiB\n",
      "24/10/13 22:51:36 WARN DAGScheduler: Broadcasting large task binary with size 1150.4 KiB\n",
      "24/10/13 22:51:36 WARN DAGScheduler: Broadcasting large task binary with size 1166.8 KiB\n",
      "24/10/13 22:51:37 WARN DAGScheduler: Broadcasting large task binary with size 1194.3 KiB\n",
      "24/10/13 22:51:37 WARN DAGScheduler: Broadcasting large task binary with size 1236.4 KiB\n",
      "24/10/13 22:51:37 WARN DAGScheduler: Broadcasting large task binary with size 1231.0 KiB\n",
      "24/10/13 22:51:37 WARN DAGScheduler: Broadcasting large task binary with size 1231.5 KiB\n",
      "24/10/13 22:51:37 WARN DAGScheduler: Broadcasting large task binary with size 1232.1 KiB\n",
      "24/10/13 22:51:37 WARN DAGScheduler: Broadcasting large task binary with size 1233.3 KiB\n",
      "24/10/13 22:51:37 WARN DAGScheduler: Broadcasting large task binary with size 1235.6 KiB\n",
      "24/10/13 22:51:37 WARN DAGScheduler: Broadcasting large task binary with size 1240.1 KiB\n",
      "24/10/13 22:51:37 WARN DAGScheduler: Broadcasting large task binary with size 1248.3 KiB\n",
      "24/10/13 22:51:37 WARN DAGScheduler: Broadcasting large task binary with size 1263.5 KiB\n",
      "24/10/13 22:51:37 WARN DAGScheduler: Broadcasting large task binary with size 1287.6 KiB\n",
      "24/10/13 22:51:37 WARN DAGScheduler: Broadcasting large task binary with size 1325.2 KiB\n",
      "24/10/13 22:51:37 WARN DAGScheduler: Broadcasting large task binary with size 1321.9 KiB\n",
      "24/10/13 22:51:37 WARN DAGScheduler: Broadcasting large task binary with size 1322.4 KiB\n",
      "24/10/13 22:51:37 WARN DAGScheduler: Broadcasting large task binary with size 1322.9 KiB\n",
      "24/10/13 22:51:37 WARN DAGScheduler: Broadcasting large task binary with size 1324.2 KiB\n",
      "24/10/13 22:51:37 WARN DAGScheduler: Broadcasting large task binary with size 1326.5 KiB\n",
      "24/10/13 22:51:37 WARN DAGScheduler: Broadcasting large task binary with size 1331.1 KiB\n",
      "24/10/13 22:51:37 WARN DAGScheduler: Broadcasting large task binary with size 1339.8 KiB\n",
      "24/10/13 22:51:37 WARN DAGScheduler: Broadcasting large task binary with size 1354.9 KiB\n",
      "24/10/13 22:51:38 WARN DAGScheduler: Broadcasting large task binary with size 1379.8 KiB\n",
      "24/10/13 22:51:38 WARN DAGScheduler: Broadcasting large task binary with size 1418.8 KiB\n",
      "24/10/13 22:51:38 WARN DAGScheduler: Broadcasting large task binary with size 1413.6 KiB\n",
      "24/10/13 22:51:38 WARN DAGScheduler: Broadcasting large task binary with size 1414.1 KiB\n",
      "24/10/13 22:51:38 WARN DAGScheduler: Broadcasting large task binary with size 1414.6 KiB\n",
      "24/10/13 22:51:38 WARN DAGScheduler: Broadcasting large task binary with size 1415.9 KiB\n",
      "24/10/13 22:51:38 WARN DAGScheduler: Broadcasting large task binary with size 1418.2 KiB\n",
      "24/10/13 22:51:38 WARN DAGScheduler: Broadcasting large task binary with size 1422.8 KiB\n",
      "24/10/13 22:51:38 WARN DAGScheduler: Broadcasting large task binary with size 1430.6 KiB\n",
      "24/10/13 22:51:38 WARN DAGScheduler: Broadcasting large task binary with size 1445.5 KiB\n",
      "24/10/13 22:51:38 WARN DAGScheduler: Broadcasting large task binary with size 1470.8 KiB\n",
      "24/10/13 22:51:38 WARN DAGScheduler: Broadcasting large task binary with size 1509.5 KiB\n",
      "24/10/13 22:51:38 WARN DAGScheduler: Broadcasting large task binary with size 1506.5 KiB\n",
      "24/10/13 22:51:38 WARN DAGScheduler: Broadcasting large task binary with size 1506.9 KiB\n",
      "24/10/13 22:51:38 WARN DAGScheduler: Broadcasting large task binary with size 1507.5 KiB\n",
      "24/10/13 22:51:38 WARN DAGScheduler: Broadcasting large task binary with size 1508.7 KiB\n",
      "24/10/13 22:51:38 WARN DAGScheduler: Broadcasting large task binary with size 1511.1 KiB\n",
      "24/10/13 22:51:38 WARN DAGScheduler: Broadcasting large task binary with size 1515.7 KiB\n",
      "24/10/13 22:51:39 WARN DAGScheduler: Broadcasting large task binary with size 1524.1 KiB\n",
      "24/10/13 22:51:39 WARN DAGScheduler: Broadcasting large task binary with size 1539.3 KiB\n",
      "24/10/13 22:51:39 WARN DAGScheduler: Broadcasting large task binary with size 1564.3 KiB\n",
      "24/10/13 22:51:39 WARN DAGScheduler: Broadcasting large task binary with size 1604.1 KiB\n",
      "24/10/13 22:51:39 WARN DAGScheduler: Broadcasting large task binary with size 1600.3 KiB\n",
      "24/10/13 22:51:39 WARN DAGScheduler: Broadcasting large task binary with size 1600.8 KiB\n",
      "24/10/13 22:51:39 WARN DAGScheduler: Broadcasting large task binary with size 1601.3 KiB\n",
      "24/10/13 22:51:39 WARN DAGScheduler: Broadcasting large task binary with size 1602.5 KiB\n",
      "24/10/13 22:51:39 WARN DAGScheduler: Broadcasting large task binary with size 1604.9 KiB\n",
      "24/10/13 22:51:39 WARN DAGScheduler: Broadcasting large task binary with size 1609.4 KiB\n",
      "24/10/13 22:51:39 WARN DAGScheduler: Broadcasting large task binary with size 1617.5 KiB\n",
      "24/10/13 22:51:39 WARN DAGScheduler: Broadcasting large task binary with size 1632.8 KiB\n",
      "24/10/13 22:51:39 WARN DAGScheduler: Broadcasting large task binary with size 1658.1 KiB\n",
      "24/10/13 22:51:39 WARN DAGScheduler: Broadcasting large task binary with size 1698.9 KiB\n",
      "24/10/13 22:51:39 WARN DAGScheduler: Broadcasting large task binary with size 1696.4 KiB\n",
      "24/10/13 22:51:39 WARN DAGScheduler: Broadcasting large task binary with size 1696.9 KiB\n",
      "24/10/13 22:51:39 WARN DAGScheduler: Broadcasting large task binary with size 1697.5 KiB\n",
      "24/10/13 22:51:40 WARN DAGScheduler: Broadcasting large task binary with size 1698.7 KiB\n",
      "24/10/13 22:51:40 WARN DAGScheduler: Broadcasting large task binary with size 1701.0 KiB\n",
      "24/10/13 22:51:40 WARN DAGScheduler: Broadcasting large task binary with size 1705.7 KiB\n",
      "24/10/13 22:51:40 WARN DAGScheduler: Broadcasting large task binary with size 1714.6 KiB\n",
      "24/10/13 22:51:40 WARN DAGScheduler: Broadcasting large task binary with size 1730.0 KiB\n",
      "24/10/13 22:51:40 WARN DAGScheduler: Broadcasting large task binary with size 1754.4 KiB\n",
      "24/10/13 22:51:40 WARN DAGScheduler: Broadcasting large task binary with size 1791.9 KiB\n",
      "24/10/13 22:51:40 WARN DAGScheduler: Broadcasting large task binary with size 1788.4 KiB\n",
      "24/10/13 22:51:40 WARN DAGScheduler: Broadcasting large task binary with size 1788.9 KiB\n",
      "24/10/13 22:51:40 WARN DAGScheduler: Broadcasting large task binary with size 1789.4 KiB\n",
      "24/10/13 22:51:40 WARN DAGScheduler: Broadcasting large task binary with size 1790.7 KiB\n",
      "24/10/13 22:51:40 WARN DAGScheduler: Broadcasting large task binary with size 1793.0 KiB\n",
      "24/10/13 22:51:40 WARN DAGScheduler: Broadcasting large task binary with size 1797.6 KiB\n",
      "24/10/13 22:51:40 WARN DAGScheduler: Broadcasting large task binary with size 1806.4 KiB\n",
      "24/10/13 22:51:40 WARN DAGScheduler: Broadcasting large task binary with size 1822.2 KiB\n",
      "24/10/13 22:51:40 WARN DAGScheduler: Broadcasting large task binary with size 1847.6 KiB\n",
      "24/10/13 22:51:40 WARN DAGScheduler: Broadcasting large task binary with size 1885.9 KiB\n",
      "24/10/13 22:51:41 WARN DAGScheduler: Broadcasting large task binary with size 1881.0 KiB\n",
      "24/10/13 22:51:41 WARN DAGScheduler: Broadcasting large task binary with size 1881.5 KiB\n",
      "24/10/13 22:51:41 WARN DAGScheduler: Broadcasting large task binary with size 1882.1 KiB\n",
      "24/10/13 22:51:41 WARN DAGScheduler: Broadcasting large task binary with size 1883.3 KiB\n",
      "24/10/13 22:51:41 WARN DAGScheduler: Broadcasting large task binary with size 1885.6 KiB\n",
      "24/10/13 22:51:41 WARN DAGScheduler: Broadcasting large task binary with size 1890.2 KiB\n",
      "24/10/13 22:51:41 WARN DAGScheduler: Broadcasting large task binary with size 1899.0 KiB\n",
      "24/10/13 22:51:41 WARN DAGScheduler: Broadcasting large task binary with size 1915.0 KiB\n",
      "24/10/13 22:51:41 WARN DAGScheduler: Broadcasting large task binary with size 1940.8 KiB\n",
      "24/10/13 22:51:41 WARN DAGScheduler: Broadcasting large task binary with size 1979.7 KiB\n"
     ]
    }
   ],
   "source": [
    "from pyspark.ml.tuning import TrainValidationSplit, ParamGridBuilder\n",
    "\n",
    "from pyspark.ml.evaluation import MulticlassClassificationEvaluator\n",
    "\n",
    "paramGrid = ParamGridBuilder() \\\n",
    "    .addGrid(gbt.maxDepth, [5, 10]) \\\n",
    "    .addGrid(gbt.maxIter, [10, 20]) \\\n",
    "    .addGrid(gbt.stepSize, [0.1, 0.2]) \\\n",
    "    .build()\n",
    "\n",
    "evaluator = MulticlassClassificationEvaluator(\n",
    "    labelCol='booking_status_index',\n",
    "    predictionCol='prediction',\n",
    "    metricName='accuracy'\n",
    ")\n",
    "\n",
    "tvs_model = TrainValidationSplit(\n",
    "    estimator=pipeline,\n",
    "    estimatorParamMaps=paramGrid,\n",
    "    evaluator=evaluator,\n",
    "    seed=42\n",
    ")\n",
    "\n",
    "best_model = tvs_model.fit(train_data)"
   ]
  },
  {
   "cell_type": "code",
   "execution_count": 14,
   "id": "9afe6160-6588-4210-ad80-1f789d292c8a",
   "metadata": {},
   "outputs": [],
   "source": [
    "predictions = best_model.transform(test_data)"
   ]
  },
  {
   "cell_type": "code",
   "execution_count": 15,
   "id": "c0a1b109-a13a-41f9-b8a2-7d4e86669c8b",
   "metadata": {},
   "outputs": [
    {
     "name": "stdout",
     "output_type": "stream",
     "text": [
      "Test Accuracy = 0.8800276434001382\n"
     ]
    },
    {
     "name": "stderr",
     "output_type": "stream",
     "text": [
      "24/10/13 22:51:58 WARN DAGScheduler: Broadcasting large task binary with size 1971.0 KiB\n"
     ]
    }
   ],
   "source": [
    "accuracy = evaluator.evaluate(predictions)\n",
    "print(f'Test Accuracy = {accuracy}')"
   ]
  },
  {
   "cell_type": "code",
   "execution_count": 16,
   "id": "9a7e73c9-eb74-497e-b5ae-07556aa386d5",
   "metadata": {},
   "outputs": [
    {
     "ename": "AttributeError",
     "evalue": "'TrainValidationSplitModel' object has no attribute 'avgMetrics'",
     "output_type": "error",
     "traceback": [
      "\u001b[0;31m---------------------------------------------------------------------------\u001b[0m",
      "\u001b[0;31mAttributeError\u001b[0m                            Traceback (most recent call last)",
      "Cell \u001b[0;32mIn[16], line 1\u001b[0m\n\u001b[0;32m----> 1\u001b[0m \u001b[38;5;28;01mfor\u001b[39;00m param_values, metric_value \u001b[38;5;129;01min\u001b[39;00m \u001b[38;5;28mzip\u001b[39m(paramGrid, \u001b[43mbest_model\u001b[49m\u001b[38;5;241;43m.\u001b[39;49m\u001b[43mavgMetrics\u001b[49m):\n\u001b[1;32m      2\u001b[0m     \u001b[38;5;28;01mfor\u001b[39;00m param, value \u001b[38;5;129;01min\u001b[39;00m param_values\u001b[38;5;241m.\u001b[39mitems():\n\u001b[1;32m      3\u001b[0m         \u001b[38;5;28mprint\u001b[39m(\u001b[38;5;124mf\u001b[39m\u001b[38;5;124m'\u001b[39m\u001b[38;5;132;01m{\u001b[39;00mparam\u001b[38;5;241m.\u001b[39mname\u001b[38;5;132;01m}\u001b[39;00m\u001b[38;5;124m = \u001b[39m\u001b[38;5;132;01m{\u001b[39;00mvalue\u001b[38;5;132;01m}\u001b[39;00m\u001b[38;5;124m'\u001b[39m)\n",
      "\u001b[0;31mAttributeError\u001b[0m: 'TrainValidationSplitModel' object has no attribute 'avgMetrics'"
     ]
    }
   ],
   "source": [
    "for param_values, metric_value in zip(paramGrid, best_model.avgMetrics):\n",
    "    for param, value in param_values.items():\n",
    "        print(f'{param.name} = {value}')\n",
    "    print(f'Accuracy -> {metric_value}')\n"
   ]
  },
  {
   "cell_type": "code",
   "execution_count": null,
   "id": "ec26630a-7e73-42ff-add9-46c9ddd0259d",
   "metadata": {},
   "outputs": [],
   "source": []
  }
 ],
 "metadata": {
  "kernelspec": {
   "display_name": "Python 3 (ipykernel)",
   "language": "python",
   "name": "python3"
  },
  "language_info": {
   "codemirror_mode": {
    "name": "ipython",
    "version": 3
   },
   "file_extension": ".py",
   "mimetype": "text/x-python",
   "name": "python",
   "nbconvert_exporter": "python",
   "pygments_lexer": "ipython3",
   "version": "3.12.7"
  }
 },
 "nbformat": 4,
 "nbformat_minor": 5
}
