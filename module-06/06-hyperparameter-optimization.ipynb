{
 "cells": [
  {
   "cell_type": "code",
   "execution_count": null,
   "id": "f9696f9a-34fc-47e0-8391-4349531222b1",
   "metadata": {},
   "outputs": [],
   "source": [
    "from pyspark.sql import SparkSession\n",
    "from pyspark.ml.regression import LinearRegression\n",
    "from pyspark.ml.feature import VectorAssembler\n",
    "from pyspark.ml.feature import StringIndexer, OneHotEncoder, VectorAssembler, StandardScaler\n",
    "from pyspark.ml.classification import GBTClassifier\n",
    "from pyspark.ml.evaluation import MulticlassClassificationEvaluator\n",
    "from pyspark.sql.functions import isnan, when, count, col\n",
    "from pyspark.ml.evaluation import RegressionEvaluator\n",
    "from pyspark.ml import Pipeline"
   ]
  },
  {
   "cell_type": "code",
   "execution_count": null,
   "id": "53eb4614-6b2e-4c33-8822-c230a9dba13b",
   "metadata": {},
   "outputs": [],
   "source": [
    "# Initialize SparkSession\n",
    "spark = SparkSession.builder.appName(\"HotelReservations\").getOrCreate()"
   ]
  },
  {
   "cell_type": "code",
   "execution_count": null,
   "id": "af281fdf-a02b-4602-9c29-c0d22a726ecd",
   "metadata": {},
   "outputs": [],
   "source": [
    "# Load the dataset\n",
    "data = spark.read.csv(\"data/hotel-reservations.csv\", header=True, inferSchema=True)\n",
    "\n",
    "# Display the schema of the dataset\n",
    "data.printSchema()"
   ]
  },
  {
   "cell_type": "code",
   "execution_count": null,
   "id": "55481ffe-68c6-4d51-a80a-8536079c7a07",
   "metadata": {},
   "outputs": [],
   "source": [
    "data.count()"
   ]
  },
  {
   "cell_type": "code",
   "execution_count": null,
   "id": "89be533f-d68a-4a88-b0e8-d5afb315b3f4",
   "metadata": {},
   "outputs": [],
   "source": [
    "data.show()"
   ]
  },
  {
   "cell_type": "code",
   "execution_count": null,
   "id": "0deaa33e-2509-469a-9b69-ce9bace913ab",
   "metadata": {},
   "outputs": [],
   "source": [
    "stages = []"
   ]
  },
  {
   "cell_type": "code",
   "execution_count": null,
   "id": "6c567350-0cdf-4d1f-82f5-77871e985665",
   "metadata": {},
   "outputs": [],
   "source": [
    "categorical_cols = ['type_of_meal_plan', 'room_type_reserved', 'arrival_month', 'market_segment_type']\n",
    "\n",
    "for col in categorical_cols:\n",
    "    string_indexer = StringIndexer(inputCol=col, outputCol= col + '_index')\n",
    "    encoder = OneHotEncoder(inputCol=string_indexer.getOutputCol(), outputCol=col + '_vec')\n",
    "    stages += [string_indexer, encoder]\n",
    "\n",
    "stages += [StringIndexer(inputCol='booking_status', outputCol= 'booking_status_index')]"
   ]
  },
  {
   "cell_type": "code",
   "execution_count": null,
   "id": "8c15faf0-f3cf-471c-8197-94c2911566c4",
   "metadata": {},
   "outputs": [],
   "source": [
    "numeric_cols = ['no_of_adults', 'no_of_children', 'no_of_weekend_nights', 'no_of_week_nights',\n",
    "               'required_car_parking_space', 'lead_time', 'arrival_year', 'arrival_date',\n",
    "               'repeated_guest', 'no_of_previous_cancellations', 'no_of_previous_bookings_not_canceled',\n",
    "               'avg_price_per_room', 'no_of_special_requests'] "
   ]
  },
  {
   "cell_type": "code",
   "execution_count": null,
   "id": "d2dffe07-ad1c-45a1-b7d3-ae8495b01caf",
   "metadata": {},
   "outputs": [],
   "source": [
    "input_columns = [c + \"_vec\" for c in categorical_cols] + numeric_cols"
   ]
  },
  {
   "cell_type": "code",
   "execution_count": null,
   "id": "10e9a5f9-c973-4f96-b764-052ead157c9e",
   "metadata": {},
   "outputs": [],
   "source": [
    "assembler = VectorAssembler(inputCols=input_columns, outputCol='features')\n",
    "stages += [assembler]\n"
   ]
  },
  {
   "cell_type": "code",
   "execution_count": null,
   "id": "62b5e875-336c-4510-933b-c6fd927e24ff",
   "metadata": {},
   "outputs": [],
   "source": [
    "# pipeline = Pipeline(stages=stages)\n",
    "\n",
    "# model = pipeline.fit(train_data)\n",
    "# model.transform(test_data).show()"
   ]
  },
  {
   "cell_type": "code",
   "execution_count": null,
   "id": "0c891b8b-d1f9-481f-a45f-e9915bab6ea0",
   "metadata": {},
   "outputs": [],
   "source": [
    "train_data, test_data = data.randomSplit([0.8, 0.2], seed=42)\n",
    "print(\"Train size: \", train_data.count())\n",
    "print(\"Test size: \", test_data.count())"
   ]
  },
  {
   "cell_type": "code",
   "execution_count": null,
   "id": "a1ad2d6f-9fd5-403c-b8bf-686f578d26a5",
   "metadata": {},
   "outputs": [],
   "source": [
    "# Create GBTClassifier\n",
    "gbt = GBTClassifier(featuresCol='features', labelCol='booking_status_index', maxIter=10)\n",
    "stages.append(gbt)"
   ]
  },
  {
   "cell_type": "code",
   "execution_count": null,
   "id": "e07506f7-0bde-449d-93c1-c20b5c6d87e5",
   "metadata": {},
   "outputs": [],
   "source": [
    "pipeline = Pipeline(stages=stages)\n"
   ]
  },
  {
   "cell_type": "code",
   "execution_count": null,
   "id": "2ada0719-b3d2-42e2-8840-6c0388a11a85",
   "metadata": {},
   "outputs": [],
   "source": [
    "from pyspark.ml.tuning import CrossValidator, ParamGridBuilder\n",
    "\n",
    "# Create parameter grid\n",
    "paramGrid = ParamGridBuilder() \\\n",
    "    .addGrid(gbt.maxDepth, [5, 10]) \\\n",
    "    .addGrid(gbt.maxIter, [10, 20]) \\\n",
    "    .addGrid(gbt.stepSize, [0.1, 0.2]) \\\n",
    "    .build()\n",
    "\n",
    "# Create evaluator\n",
    "evaluator = MulticlassClassificationEvaluator(labelCol='booking_status_index', predictionCol='prediction', metricName='accuracy')\n",
    "\n",
    "# Create CrossValidator\n",
    "cross_validator = CrossValidator(estimator=pipeline,\n",
    "                          estimatorParamMaps=paramGrid,\n",
    "                          evaluator=evaluator,\n",
    "                          numFolds=3)\n",
    "\n",
    "# Run cross-validation, and choose the best set of parameters.\n",
    "best_model = cross_validator.fit(train_data)"
   ]
  },
  {
   "cell_type": "code",
   "execution_count": null,
   "id": "9afe6160-6588-4210-ad80-1f789d292c8a",
   "metadata": {},
   "outputs": [],
   "source": [
    "# Make predictions on test data\n",
    "predictions = best_model.transform(test_data)\n",
    "\n",
    "# Evaluate model\n",
    "accuracy = evaluator.evaluate(predictions)\n",
    "print(\"Test Accuracy = %g\" % accuracy)\n",
    "print(\"Test Error = %g\" % (1.0 - accuracy))"
   ]
  },
  {
   "cell_type": "code",
   "execution_count": null,
   "id": "c0a1b109-a13a-41f9-b8a2-7d4e86669c8b",
   "metadata": {},
   "outputs": [],
   "source": []
  }
 ],
 "metadata": {
  "kernelspec": {
   "display_name": "Python 3 (ipykernel)",
   "language": "python",
   "name": "python3"
  },
  "language_info": {
   "codemirror_mode": {
    "name": "ipython",
    "version": 3
   },
   "file_extension": ".py",
   "mimetype": "text/x-python",
   "name": "python",
   "nbconvert_exporter": "python",
   "pygments_lexer": "ipython3",
   "version": "3.12.7"
  }
 },
 "nbformat": 4,
 "nbformat_minor": 5
}
