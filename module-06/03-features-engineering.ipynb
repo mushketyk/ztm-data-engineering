{
 "cells": [
  {
   "cell_type": "code",
   "execution_count": 1,
   "id": "53eb4614-6b2e-4c33-8822-c230a9dba13b",
   "metadata": {},
   "outputs": [
    {
     "name": "stderr",
     "output_type": "stream",
     "text": [
      "24/10/13 23:18:18 WARN SparkSession: Using an existing Spark session; only runtime SQL configurations will take effect.\n"
     ]
    }
   ],
   "source": [
    "from pyspark.sql import SparkSession\n",
    "\n",
    "spark = SparkSession.builder \\\n",
    "  .appName(\"Feature engineering\") \\\n",
    "  .getOrCreate()"
   ]
  },
  {
   "cell_type": "code",
   "execution_count": 2,
   "id": "af281fdf-a02b-4602-9c29-c0d22a726ecd",
   "metadata": {},
   "outputs": [
    {
     "name": "stdout",
     "output_type": "stream",
     "text": [
      "root\n",
      " |-- longitude: double (nullable = true)\n",
      " |-- latitude: double (nullable = true)\n",
      " |-- housing_median_age: double (nullable = true)\n",
      " |-- total_rooms: double (nullable = true)\n",
      " |-- total_bedrooms: double (nullable = true)\n",
      " |-- population: double (nullable = true)\n",
      " |-- households: double (nullable = true)\n",
      " |-- median_income: double (nullable = true)\n",
      " |-- median_house_value: double (nullable = true)\n",
      " |-- ocean_proximity: string (nullable = true)\n",
      "\n"
     ]
    }
   ],
   "source": [
    " data = spark.read.csv(\"data/housing.csv\", header=True, inferSchema=True)\n",
    "\n",
    " data.printSchema()"
   ]
  },
  {
   "cell_type": "code",
   "execution_count": 3,
   "id": "6c567350-0cdf-4d1f-82f5-77871e985665",
   "metadata": {},
   "outputs": [
    {
     "data": {
      "text/plain": [
       "20433"
      ]
     },
     "execution_count": 3,
     "metadata": {},
     "output_type": "execute_result"
    }
   ],
   "source": [
    "filtered_data = data.na.drop(subset=['total_bedrooms'])\n",
    "filtered_data.count()"
   ]
  },
  {
   "cell_type": "code",
   "execution_count": 4,
   "id": "0c891b8b-d1f9-481f-a45f-e9915bab6ea0",
   "metadata": {},
   "outputs": [
    {
     "name": "stdout",
     "output_type": "stream",
     "text": [
      "Train size:  16395\n",
      "Test size:  4038\n",
      "+---------+--------+------------------+-----------+--------------+----------+----------+-------------+------------------+---------------+\n",
      "|longitude|latitude|housing_median_age|total_rooms|total_bedrooms|population|households|median_income|median_house_value|ocean_proximity|\n",
      "+---------+--------+------------------+-----------+--------------+----------+----------+-------------+------------------+---------------+\n",
      "|   -124.3|   41.84|              17.0|     2677.0|         531.0|    1244.0|     456.0|       3.0313|          103600.0|     NEAR OCEAN|\n",
      "|  -124.23|   40.54|              52.0|     2694.0|         453.0|    1152.0|     435.0|       3.0806|          106700.0|     NEAR OCEAN|\n",
      "|  -124.23|   41.75|              11.0|     3159.0|         616.0|    1343.0|     479.0|       2.4805|           73200.0|     NEAR OCEAN|\n",
      "|  -124.19|   40.73|              21.0|     5694.0|        1056.0|    2907.0|     972.0|       3.5363|           90100.0|     NEAR OCEAN|\n",
      "|  -124.18|   40.78|              34.0|     1592.0|         364.0|     950.0|     317.0|       2.1607|           67000.0|     NEAR OCEAN|\n",
      "+---------+--------+------------------+-----------+--------------+----------+----------+-------------+------------------+---------------+\n",
      "only showing top 5 rows\n",
      "\n"
     ]
    }
   ],
   "source": [
    "train_data, test_data = filtered_data.randomSplit([0.8, 0.2], seed=42)\n",
    "print(\"Train size: \", train_data.count())\n",
    "print(\"Test size: \", test_data.count())\n",
    "test_data.show(5)"
   ]
  },
  {
   "cell_type": "code",
   "execution_count": 5,
   "id": "f58c0b33-a7b6-4d68-9bb0-de49309b86a7",
   "metadata": {},
   "outputs": [
    {
     "name": "stdout",
     "output_type": "stream",
     "text": [
      "+---------+--------+------------------+-----------+--------------+----------+----------+-------------+------------------+---------------+---------------------+\n",
      "|longitude|latitude|housing_median_age|total_rooms|total_bedrooms|population|households|median_income|median_house_value|ocean_proximity|ocean_proximity_index|\n",
      "+---------+--------+------------------+-----------+--------------+----------+----------+-------------+------------------+---------------+---------------------+\n",
      "|  -124.35|   40.54|              52.0|     1820.0|         300.0|     806.0|     270.0|       3.0147|           94600.0|     NEAR OCEAN|                  2.0|\n",
      "|   -124.3|    41.8|              19.0|     2672.0|         552.0|    1298.0|     478.0|       1.9797|           85800.0|     NEAR OCEAN|                  2.0|\n",
      "|  -124.27|   40.69|              36.0|     2349.0|         528.0|    1194.0|     465.0|       2.5179|           79000.0|     NEAR OCEAN|                  2.0|\n",
      "|  -124.26|   40.58|              52.0|     2217.0|         394.0|     907.0|     369.0|       2.3571|          111400.0|     NEAR OCEAN|                  2.0|\n",
      "|  -124.25|   40.28|              32.0|     1430.0|         419.0|     434.0|     187.0|       1.9417|           76100.0|     NEAR OCEAN|                  2.0|\n",
      "|  -124.23|   40.81|              52.0|     1112.0|         209.0|     544.0|     172.0|       3.3462|           50800.0|     NEAR OCEAN|                  2.0|\n",
      "|  -124.22|   41.73|              28.0|     3003.0|         699.0|    1530.0|     653.0|       1.7038|           78300.0|     NEAR OCEAN|                  2.0|\n",
      "|  -124.21|   40.75|              32.0|     1218.0|         331.0|     620.0|     268.0|       1.6528|           58100.0|     NEAR OCEAN|                  2.0|\n",
      "|  -124.21|   41.75|              20.0|     3810.0|         787.0|    1993.0|     721.0|       2.0074|           66900.0|     NEAR OCEAN|                  2.0|\n",
      "|  -124.21|   41.77|              17.0|     3461.0|         722.0|    1947.0|     647.0|       2.5795|           68400.0|     NEAR OCEAN|                  2.0|\n",
      "|  -124.19|   40.77|              30.0|     2975.0|         634.0|    1367.0|     583.0|        2.442|           69000.0|     NEAR OCEAN|                  2.0|\n",
      "|  -124.19|   40.78|              37.0|     1371.0|         319.0|     640.0|     260.0|       1.8242|           70000.0|     NEAR OCEAN|                  2.0|\n",
      "|  -124.19|   41.78|              15.0|     3140.0|         714.0|    1645.0|     640.0|       1.6654|           74600.0|     NEAR OCEAN|                  2.0|\n",
      "|  -124.18|   40.62|              35.0|      952.0|         178.0|     480.0|     179.0|       3.0536|          107000.0|     NEAR OCEAN|                  2.0|\n",
      "|  -124.18|   40.78|              33.0|     1076.0|         222.0|     656.0|     236.0|       2.5096|           72200.0|     NEAR OCEAN|                  2.0|\n",
      "|  -124.18|   40.78|              37.0|     1453.0|         293.0|     867.0|     310.0|       2.5536|           70200.0|     NEAR OCEAN|                  2.0|\n",
      "|  -124.18|   40.79|              39.0|     1836.0|         352.0|     883.0|     337.0|        1.745|           70500.0|     NEAR OCEAN|                  2.0|\n",
      "|  -124.18|   40.79|              40.0|     1398.0|         311.0|     788.0|     279.0|       1.4668|           64600.0|     NEAR OCEAN|                  2.0|\n",
      "|  -124.17|   40.74|              17.0|     2026.0|         338.0|     873.0|     313.0|       4.0357|          128900.0|     NEAR OCEAN|                  2.0|\n",
      "|  -124.17|   40.75|              13.0|     2171.0|         339.0|     951.0|     353.0|       4.8516|          116100.0|     NEAR OCEAN|                  2.0|\n",
      "+---------+--------+------------------+-----------+--------------+----------+----------+-------------+------------------+---------------+---------------------+\n",
      "only showing top 20 rows\n",
      "\n"
     ]
    }
   ],
   "source": [
    "from pyspark.ml.feature import StringIndexer\n",
    "\n",
    "indexer = StringIndexer(inputCol='ocean_proximity', outputCol='ocean_proximity_index')\n",
    "indexer_model = indexer.fit(train_data)\n",
    "train_data = indexer_model.transform(train_data)\n",
    "train_data.show()"
   ]
  },
  {
   "cell_type": "code",
   "execution_count": 6,
   "id": "f9a54fe3-e5c5-4e3c-a082-008c3c70fe28",
   "metadata": {},
   "outputs": [
    {
     "name": "stdout",
     "output_type": "stream",
     "text": [
      "+---------------+---------------------+\n",
      "|ocean_proximity|ocean_proximity_index|\n",
      "+---------------+---------------------+\n",
      "|     NEAR OCEAN|                  2.0|\n",
      "|         INLAND|                  1.0|\n",
      "|       NEAR BAY|                  3.0|\n",
      "|         ISLAND|                  4.0|\n",
      "|      <1H OCEAN|                  0.0|\n",
      "+---------------+---------------------+\n",
      "\n"
     ]
    }
   ],
   "source": [
    "train_data.select('ocean_proximity', 'ocean_proximity_index') \\\n",
    "  .distinct() \\\n",
    "  .show()"
   ]
  },
  {
   "cell_type": "code",
   "execution_count": 7,
   "id": "57a8fc73-c6fc-4f98-9cba-18d295dba87a",
   "metadata": {},
   "outputs": [
    {
     "name": "stdout",
     "output_type": "stream",
     "text": [
      "+---------+--------+------------------+-----------+--------------+----------+----------+-------------+------------------+---------------+---------------------+-------------------+\n",
      "|longitude|latitude|housing_median_age|total_rooms|total_bedrooms|population|households|median_income|median_house_value|ocean_proximity|ocean_proximity_index|ocean_proximity_vec|\n",
      "+---------+--------+------------------+-----------+--------------+----------+----------+-------------+------------------+---------------+---------------------+-------------------+\n",
      "|  -124.35|   40.54|              52.0|     1820.0|         300.0|     806.0|     270.0|       3.0147|           94600.0|     NEAR OCEAN|                  2.0|      (4,[2],[1.0])|\n",
      "|   -124.3|    41.8|              19.0|     2672.0|         552.0|    1298.0|     478.0|       1.9797|           85800.0|     NEAR OCEAN|                  2.0|      (4,[2],[1.0])|\n",
      "|  -124.27|   40.69|              36.0|     2349.0|         528.0|    1194.0|     465.0|       2.5179|           79000.0|     NEAR OCEAN|                  2.0|      (4,[2],[1.0])|\n",
      "|  -124.26|   40.58|              52.0|     2217.0|         394.0|     907.0|     369.0|       2.3571|          111400.0|     NEAR OCEAN|                  2.0|      (4,[2],[1.0])|\n",
      "|  -124.25|   40.28|              32.0|     1430.0|         419.0|     434.0|     187.0|       1.9417|           76100.0|     NEAR OCEAN|                  2.0|      (4,[2],[1.0])|\n",
      "|  -124.23|   40.81|              52.0|     1112.0|         209.0|     544.0|     172.0|       3.3462|           50800.0|     NEAR OCEAN|                  2.0|      (4,[2],[1.0])|\n",
      "|  -124.22|   41.73|              28.0|     3003.0|         699.0|    1530.0|     653.0|       1.7038|           78300.0|     NEAR OCEAN|                  2.0|      (4,[2],[1.0])|\n",
      "|  -124.21|   40.75|              32.0|     1218.0|         331.0|     620.0|     268.0|       1.6528|           58100.0|     NEAR OCEAN|                  2.0|      (4,[2],[1.0])|\n",
      "|  -124.21|   41.75|              20.0|     3810.0|         787.0|    1993.0|     721.0|       2.0074|           66900.0|     NEAR OCEAN|                  2.0|      (4,[2],[1.0])|\n",
      "|  -124.21|   41.77|              17.0|     3461.0|         722.0|    1947.0|     647.0|       2.5795|           68400.0|     NEAR OCEAN|                  2.0|      (4,[2],[1.0])|\n",
      "|  -124.19|   40.77|              30.0|     2975.0|         634.0|    1367.0|     583.0|        2.442|           69000.0|     NEAR OCEAN|                  2.0|      (4,[2],[1.0])|\n",
      "|  -124.19|   40.78|              37.0|     1371.0|         319.0|     640.0|     260.0|       1.8242|           70000.0|     NEAR OCEAN|                  2.0|      (4,[2],[1.0])|\n",
      "|  -124.19|   41.78|              15.0|     3140.0|         714.0|    1645.0|     640.0|       1.6654|           74600.0|     NEAR OCEAN|                  2.0|      (4,[2],[1.0])|\n",
      "|  -124.18|   40.62|              35.0|      952.0|         178.0|     480.0|     179.0|       3.0536|          107000.0|     NEAR OCEAN|                  2.0|      (4,[2],[1.0])|\n",
      "|  -124.18|   40.78|              33.0|     1076.0|         222.0|     656.0|     236.0|       2.5096|           72200.0|     NEAR OCEAN|                  2.0|      (4,[2],[1.0])|\n",
      "|  -124.18|   40.78|              37.0|     1453.0|         293.0|     867.0|     310.0|       2.5536|           70200.0|     NEAR OCEAN|                  2.0|      (4,[2],[1.0])|\n",
      "|  -124.18|   40.79|              39.0|     1836.0|         352.0|     883.0|     337.0|        1.745|           70500.0|     NEAR OCEAN|                  2.0|      (4,[2],[1.0])|\n",
      "|  -124.18|   40.79|              40.0|     1398.0|         311.0|     788.0|     279.0|       1.4668|           64600.0|     NEAR OCEAN|                  2.0|      (4,[2],[1.0])|\n",
      "|  -124.17|   40.74|              17.0|     2026.0|         338.0|     873.0|     313.0|       4.0357|          128900.0|     NEAR OCEAN|                  2.0|      (4,[2],[1.0])|\n",
      "|  -124.17|   40.75|              13.0|     2171.0|         339.0|     951.0|     353.0|       4.8516|          116100.0|     NEAR OCEAN|                  2.0|      (4,[2],[1.0])|\n",
      "+---------+--------+------------------+-----------+--------------+----------+----------+-------------+------------------+---------------+---------------------+-------------------+\n",
      "only showing top 20 rows\n",
      "\n"
     ]
    }
   ],
   "source": [
    "from pyspark.ml.feature import OneHotEncoder\n",
    "\n",
    "encoder = OneHotEncoder(inputCol='ocean_proximity_index', outputCol='ocean_proximity_vec')\n",
    "encoder_model = encoder.fit(train_data)\n",
    "train_data = encoder_model.transform(train_data)\n",
    "train_data.show()"
   ]
  },
  {
   "cell_type": "code",
   "execution_count": 8,
   "id": "39c13953-ad2b-4702-8ad5-abdeefa8568b",
   "metadata": {},
   "outputs": [
    {
     "name": "stdout",
     "output_type": "stream",
     "text": [
      "+---------------+---------------------+-------------------+\n",
      "|ocean_proximity|ocean_proximity_index|ocean_proximity_vec|\n",
      "+---------------+---------------------+-------------------+\n",
      "|         ISLAND|                  4.0|          (4,[],[])|\n",
      "|         INLAND|                  1.0|      (4,[1],[1.0])|\n",
      "|       NEAR BAY|                  3.0|      (4,[3],[1.0])|\n",
      "|     NEAR OCEAN|                  2.0|      (4,[2],[1.0])|\n",
      "|      <1H OCEAN|                  0.0|      (4,[0],[1.0])|\n",
      "+---------------+---------------------+-------------------+\n",
      "\n"
     ]
    }
   ],
   "source": [
    "train_data.select('ocean_proximity', 'ocean_proximity_index', 'ocean_proximity_vec') \\\n",
    "  .distinct() \\\n",
    "  .show()"
   ]
  },
  {
   "cell_type": "code",
   "execution_count": 33,
   "id": "bb282054-cbe1-4f7f-bd52-55466033ce8e",
   "metadata": {},
   "outputs": [
    {
     "name": "stdout",
     "output_type": "stream",
     "text": [
      "+---------+--------+------------------+-----------+--------------+----------+----------+-------------+------------------+---------------+---------------------+-------------------+--------------------+--------------------+\n",
      "|longitude|latitude|housing_median_age|total_rooms|total_bedrooms|population|households|median_income|median_house_value|ocean_proximity|ocean_proximity_index|ocean_proximity_vec|   unscaled_features|            features|\n",
      "+---------+--------+------------------+-----------+--------------+----------+----------+-------------+------------------+---------------+---------------------+-------------------+--------------------+--------------------+\n",
      "|  -124.35|   40.54|              52.0|     1820.0|         300.0|     806.0|     270.0|       3.0147|           94600.0|     NEAR OCEAN|                  2.0|      (4,[2],[1.0])|[52.0,1820.0,300....|[52.0,1820.0,300....|\n",
      "|   -124.3|    41.8|              19.0|     2672.0|         552.0|    1298.0|     478.0|       1.9797|           85800.0|     NEAR OCEAN|                  2.0|      (4,[2],[1.0])|[19.0,2672.0,552....|[19.0,2672.0,552....|\n",
      "|  -124.27|   40.69|              36.0|     2349.0|         528.0|    1194.0|     465.0|       2.5179|           79000.0|     NEAR OCEAN|                  2.0|      (4,[2],[1.0])|[36.0,2349.0,528....|[36.0,2349.0,528....|\n",
      "|  -124.26|   40.58|              52.0|     2217.0|         394.0|     907.0|     369.0|       2.3571|          111400.0|     NEAR OCEAN|                  2.0|      (4,[2],[1.0])|[52.0,2217.0,394....|[52.0,2217.0,394....|\n",
      "|  -124.25|   40.28|              32.0|     1430.0|         419.0|     434.0|     187.0|       1.9417|           76100.0|     NEAR OCEAN|                  2.0|      (4,[2],[1.0])|[32.0,1430.0,419....|[32.0,1430.0,419....|\n",
      "|  -124.23|   40.81|              52.0|     1112.0|         209.0|     544.0|     172.0|       3.3462|           50800.0|     NEAR OCEAN|                  2.0|      (4,[2],[1.0])|[52.0,1112.0,209....|[52.0,1112.0,209....|\n",
      "|  -124.22|   41.73|              28.0|     3003.0|         699.0|    1530.0|     653.0|       1.7038|           78300.0|     NEAR OCEAN|                  2.0|      (4,[2],[1.0])|[28.0,3003.0,699....|[28.0,3003.0,699....|\n",
      "|  -124.21|   40.75|              32.0|     1218.0|         331.0|     620.0|     268.0|       1.6528|           58100.0|     NEAR OCEAN|                  2.0|      (4,[2],[1.0])|[32.0,1218.0,331....|[32.0,1218.0,331....|\n",
      "|  -124.21|   41.75|              20.0|     3810.0|         787.0|    1993.0|     721.0|       2.0074|           66900.0|     NEAR OCEAN|                  2.0|      (4,[2],[1.0])|[20.0,3810.0,787....|[20.0,3810.0,787....|\n",
      "|  -124.21|   41.77|              17.0|     3461.0|         722.0|    1947.0|     647.0|       2.5795|           68400.0|     NEAR OCEAN|                  2.0|      (4,[2],[1.0])|[17.0,3461.0,722....|[17.0,3461.0,722....|\n",
      "|  -124.19|   40.77|              30.0|     2975.0|         634.0|    1367.0|     583.0|        2.442|           69000.0|     NEAR OCEAN|                  2.0|      (4,[2],[1.0])|[30.0,2975.0,634....|[30.0,2975.0,634....|\n",
      "|  -124.19|   40.78|              37.0|     1371.0|         319.0|     640.0|     260.0|       1.8242|           70000.0|     NEAR OCEAN|                  2.0|      (4,[2],[1.0])|[37.0,1371.0,319....|[37.0,1371.0,319....|\n",
      "|  -124.19|   41.78|              15.0|     3140.0|         714.0|    1645.0|     640.0|       1.6654|           74600.0|     NEAR OCEAN|                  2.0|      (4,[2],[1.0])|[15.0,3140.0,714....|[15.0,3140.0,714....|\n",
      "|  -124.18|   40.62|              35.0|      952.0|         178.0|     480.0|     179.0|       3.0536|          107000.0|     NEAR OCEAN|                  2.0|      (4,[2],[1.0])|[35.0,952.0,178.0...|[35.0,952.0,178.0...|\n",
      "|  -124.18|   40.78|              33.0|     1076.0|         222.0|     656.0|     236.0|       2.5096|           72200.0|     NEAR OCEAN|                  2.0|      (4,[2],[1.0])|[33.0,1076.0,222....|[33.0,1076.0,222....|\n",
      "|  -124.18|   40.78|              37.0|     1453.0|         293.0|     867.0|     310.0|       2.5536|           70200.0|     NEAR OCEAN|                  2.0|      (4,[2],[1.0])|[37.0,1453.0,293....|[37.0,1453.0,293....|\n",
      "|  -124.18|   40.79|              39.0|     1836.0|         352.0|     883.0|     337.0|        1.745|           70500.0|     NEAR OCEAN|                  2.0|      (4,[2],[1.0])|[39.0,1836.0,352....|[39.0,1836.0,352....|\n",
      "|  -124.18|   40.79|              40.0|     1398.0|         311.0|     788.0|     279.0|       1.4668|           64600.0|     NEAR OCEAN|                  2.0|      (4,[2],[1.0])|[40.0,1398.0,311....|[40.0,1398.0,311....|\n",
      "|  -124.17|   40.74|              17.0|     2026.0|         338.0|     873.0|     313.0|       4.0357|          128900.0|     NEAR OCEAN|                  2.0|      (4,[2],[1.0])|[17.0,2026.0,338....|[17.0,2026.0,338....|\n",
      "|  -124.17|   40.75|              13.0|     2171.0|         339.0|     951.0|     353.0|       4.8516|          116100.0|     NEAR OCEAN|                  2.0|      (4,[2],[1.0])|[13.0,2171.0,339....|[13.0,2171.0,339....|\n",
      "+---------+--------+------------------+-----------+--------------+----------+----------+-------------+------------------+---------------+---------------------+-------------------+--------------------+--------------------+\n",
      "only showing top 20 rows\n",
      "\n"
     ]
    }
   ],
   "source": [
    "from pyspark.ml.feature import VectorAssembler\n",
    "\n",
    "feature_columns = ['housing_median_age', 'total_rooms', 'total_bedrooms',\n",
    "                   'population', 'households', 'median_income', 'ocean_proximity_vec']\n",
    "assembler = VectorAssembler(inputCols=feature_columns, outputCol='features')\n",
    "\n",
    "train_data = assembler.transform(train_data)\n",
    "train_data.show()"
   ]
  },
  {
   "cell_type": "code",
   "execution_count": 34,
   "id": "b1370138-dc04-40eb-9438-4addfe92500d",
   "metadata": {},
   "outputs": [],
   "source": [
    "from pyspark.ml.feature import StandardScaler\n",
    "\n",
    "scaler = StandardScaler(inputCol='unscaled_features', outputCol='features', withMean=True, withStd=True)\n",
    "scaler_model = scaler.fit(train_data)\n",
    "transformed_train_data = scaler_model.transform(train_data)\n",
    "transformed_train_data.show()"
   ]
  },
  {
   "cell_type": "code",
   "execution_count": 35,
   "id": "bf1d122e-f79b-4ba5-a5d9-882ce129d418",
   "metadata": {},
   "outputs": [
    {
     "name": "stderr",
     "output_type": "stream",
     "text": [
      "24/10/10 23:09:59 WARN Instrumentation: [b6a02980] regParam is zero, which might cause numerical instability and overfitting.\n",
      "24/10/10 23:09:59 WARN InstanceBuilder: Failed to load implementation from:dev.ludovic.netlib.blas.JNIBLAS\n",
      "24/10/10 23:09:59 WARN InstanceBuilder: Failed to load implementation from:dev.ludovic.netlib.blas.VectorBLAS\n",
      "24/10/10 23:09:59 WARN InstanceBuilder: Failed to load implementation from:dev.ludovic.netlib.lapack.JNILAPACK\n"
     ]
    }
   ],
   "source": [
    "from pyspark.ml.regression import LinearRegression\n",
    "\n",
    "lr = LinearRegression(featuresCol='features', labelCol='median_house_value')\n",
    "\n",
    "model = lr.fit(transformed_train_data)"
   ]
  },
  {
   "cell_type": "code",
   "execution_count": 36,
   "id": "985cb07b-9af9-436d-8224-4813fc6286b0",
   "metadata": {},
   "outputs": [],
   "source": [
    "test_data = indexer_model.transform(test_data)\n",
    "test_data = encoder_model.transform(test_data)\n",
    "test_data = assembler.transform(test_data)\n",
    "test_data = scaler_model.transform(test_data)\n",
    "test_data.show()"
   ]
  },
  {
   "cell_type": "code",
   "execution_count": 37,
   "id": "1ccc3c07-f82e-49c1-b085-7aa4724d3266",
   "metadata": {},
   "outputs": [
    {
     "name": "stdout",
     "output_type": "stream",
     "text": [
      "+---------+--------+------------------+-----------+--------------+----------+----------+-------------+------------------+---------------+---------------------+-------------------+--------------------+------------------+\n",
      "|longitude|latitude|housing_median_age|total_rooms|total_bedrooms|population|households|median_income|median_house_value|ocean_proximity|ocean_proximity_index|ocean_proximity_vec|            features|        prediction|\n",
      "+---------+--------+------------------+-----------+--------------+----------+----------+-------------+------------------+---------------+---------------------+-------------------+--------------------+------------------+\n",
      "|   -124.3|   41.84|              17.0|     2677.0|         531.0|    1244.0|     456.0|       3.0313|          103600.0|     NEAR OCEAN|                  2.0|      (4,[2],[1.0])|[17.0,2677.0,531....|195064.51529540634|\n",
      "|  -124.23|   40.54|              52.0|     2694.0|         453.0|    1152.0|     435.0|       3.0806|          106700.0|     NEAR OCEAN|                  2.0|      (4,[2],[1.0])|[52.0,2694.0,453....|234173.75588672695|\n",
      "|  -124.23|   41.75|              11.0|     3159.0|         616.0|    1343.0|     479.0|       2.4805|           73200.0|     NEAR OCEAN|                  2.0|      (4,[2],[1.0])|[11.0,3159.0,616....| 167248.4602950862|\n",
      "|  -124.19|   40.73|              21.0|     5694.0|        1056.0|    2907.0|     972.0|       3.5363|           90100.0|     NEAR OCEAN|                  2.0|      (4,[2],[1.0])|[21.0,5694.0,1056...|219152.41788841673|\n",
      "|  -124.18|   40.78|              34.0|     1592.0|         364.0|     950.0|     317.0|       2.1607|           67000.0|     NEAR OCEAN|                  2.0|      (4,[2],[1.0])|[34.0,1592.0,364....|174830.45798899955|\n",
      "|  -124.17|   40.62|              32.0|     1595.0|         309.0|     706.0|     277.0|       2.8958|           86400.0|     NEAR OCEAN|                  2.0|      (4,[2],[1.0])|[32.0,1595.0,309....|203483.05094403625|\n",
      "|  -124.17|   40.79|              43.0|     2285.0|         479.0|    1169.0|     482.0|       1.9688|           70500.0|     NEAR OCEAN|                  2.0|      (4,[2],[1.0])|[43.0,2285.0,479....|185609.09182648672|\n",
      "|  -124.16|    40.6|              39.0|     1322.0|         283.0|     642.0|     292.0|       2.4519|           85100.0|     NEAR OCEAN|                  2.0|      (4,[2],[1.0])|[39.0,1322.0,283....|196699.36330173083|\n",
      "|  -124.16|    40.8|              52.0|     2416.0|         618.0|    1150.0|     571.0|       1.7308|           80500.0|     NEAR OCEAN|                  2.0|      (4,[2],[1.0])|[52.0,2416.0,618....|204582.87861836067|\n",
      "|  -124.16|   40.95|              20.0|     1075.0|         214.0|     529.0|     196.0|       3.1406|           96000.0|     NEAR OCEAN|                  2.0|      (4,[2],[1.0])|[20.0,1075.0,214....|195468.87316306907|\n",
      "|  -124.16|   41.02|              23.0|     1672.0|         385.0|    1060.0|     390.0|       2.1726|           75500.0|     NEAR OCEAN|                  2.0|      (4,[2],[1.0])|[23.0,1672.0,385....|163979.26481786033|\n",
      "|  -124.16|   41.92|              19.0|     1668.0|         324.0|     841.0|     283.0|       2.1336|           75000.0|     NEAR OCEAN|                  2.0|      (4,[2],[1.0])|[19.0,1668.0,324....|  153012.997606732|\n",
      "|  -124.15|   40.76|              24.0|     2858.0|         511.0|    1388.0|     512.0|        3.375|          100600.0|     NEAR OCEAN|                  2.0|      (4,[2],[1.0])|[24.0,2858.0,511....|  212858.644911466|\n",
      "|  -124.15|    40.8|              47.0|     1486.0|         335.0|     765.0|     329.0|        1.755|           74100.0|     NEAR OCEAN|                  2.0|      (4,[2],[1.0])|[47.0,1486.0,335....|179350.46707343418|\n",
      "|  -124.14|   40.59|              22.0|     1665.0|         405.0|     826.0|     382.0|       1.5625|           66800.0|     NEAR OCEAN|                  2.0|      (4,[2],[1.0])|[22.0,1665.0,405....|147328.06374564304|\n",
      "|  -124.14|    40.8|              32.0|     1373.0|         312.0|     872.0|     306.0|          2.5|           72600.0|     NEAR OCEAN|                  2.0|      (4,[2],[1.0])|[32.0,1373.0,312....|185285.82366981928|\n",
      "|  -124.11|   40.57|              33.0|     1348.0|         234.0|     573.0|     236.0|       2.4896|           74100.0|      <1H OCEAN|                  0.0|      (4,[0],[1.0])|[33.0,1348.0,234....|169341.53105652262|\n",
      "|  -124.08|   40.86|              18.0|     1287.0|         484.0|     805.0|     502.0|       1.1157|          150000.0|     NEAR OCEAN|                  2.0|      (4,[2],[1.0])|[18.0,1287.0,484....|142464.51895933534|\n",
      "|  -124.05|   40.85|              31.0|     2414.0|         428.0|    1005.0|     401.0|       3.5156|          143000.0|     NEAR OCEAN|                  2.0|      (4,[2],[1.0])|[31.0,2414.0,428....| 229422.3428017649|\n",
      "|  -124.02|    40.8|              22.0|     2588.0|         435.0|    1198.0|     442.0|       3.9792|          133900.0|      <1H OCEAN|                  0.0|      (4,[0],[1.0])|[22.0,2588.0,435....|216699.62883119678|\n",
      "+---------+--------+------------------+-----------+--------------+----------+----------+-------------+------------------+---------------+---------------------+-------------------+--------------------+------------------+\n",
      "only showing top 20 rows\n",
      "\n"
     ]
    }
   ],
   "source": [
    "test_predictions = model.transform(test_data)\n",
    "test_predictions.show()"
   ]
  },
  {
   "cell_type": "code",
   "execution_count": 38,
   "id": "b1b5796c-9e3b-4272-aa35-edaac2541f30",
   "metadata": {},
   "outputs": [
    {
     "name": "stdout",
     "output_type": "stream",
     "text": [
      "Root Mean Squared Error (RMSE): 69825.72320493408\n"
     ]
    }
   ],
   "source": [
    "from pyspark.ml.evaluation import RegressionEvaluator\n",
    "\n",
    "test_evaluator_rmse = RegressionEvaluator(labelCol='median_house_value', predictionCol='prediction', metricName='rmse')\n",
    "test_rmse = test_evaluator_rmse.evaluate(test_predictions)\n",
    "print(f\"Root Mean Squared Error (RMSE): {test_rmse}\")"
   ]
  },
  {
   "cell_type": "code",
   "execution_count": null,
   "id": "2ada0719-b3d2-42e2-8840-6c0388a11a85",
   "metadata": {},
   "outputs": [],
   "source": []
  },
  {
   "cell_type": "code",
   "execution_count": null,
   "id": "c0a1b109-a13a-41f9-b8a2-7d4e86669c8b",
   "metadata": {},
   "outputs": [],
   "source": []
  }
 ],
 "metadata": {
  "kernelspec": {
   "display_name": "Python 3 (ipykernel)",
   "language": "python",
   "name": "python3"
  },
  "language_info": {
   "codemirror_mode": {
    "name": "ipython",
    "version": 3
   },
   "file_extension": ".py",
   "mimetype": "text/x-python",
   "name": "python",
   "nbconvert_exporter": "python",
   "pygments_lexer": "ipython3",
   "version": "3.12.7"
  }
 },
 "nbformat": 4,
 "nbformat_minor": 5
}
